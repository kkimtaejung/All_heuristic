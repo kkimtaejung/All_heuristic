{
  "nbformat": 4,
  "nbformat_minor": 0,
  "metadata": {
    "colab": {
      "private_outputs": true,
      "provenance": [],
      "collapsed_sections": [
        "Bd9ZE0CpaUhr",
        "uy9QbAVccHqo",
        "uyYDQdl1cNIh",
        "WK5lYHF8hGje",
        "KKVOrsjOk425",
        "irPyti1Su29u",
        "DkrgwvUavEVi",
        "JR8GtOeN9E3c",
        "s6TuRvZ39Sft",
        "D0ayePAA-cAo",
        "aRNkBz7iBoTD",
        "X8ruEYsrDLbH",
        "9LRVqS4vHDvf",
        "sHyej9MEHl6Y",
        "20fiOgCR3zak",
        "gEq1mfqc_iFe",
        "vLsUUsZ57N0g",
        "ETgh33S37N0g",
        "84MCrMFHch1w",
        "XLknXAs4flFf",
        "pNd4OcZRgn9D"
      ],
      "mount_file_id": "1BH8BoV3vZJrByqO0N_iBknUZK_MGKWDJ",
      "authorship_tag": "ABX9TyNrjJQZJbTk6le81Ap2mo/B",
      "include_colab_link": true
    },
    "kernelspec": {
      "name": "python3",
      "display_name": "Python 3"
    },
    "language_info": {
      "name": "python"
    },
    "gpuClass": "standard",
    "accelerator": "GPU"
  },
  "cells": [
    {
      "cell_type": "markdown",
      "metadata": {
        "id": "view-in-github",
        "colab_type": "text"
      },
      "source": [
        "<a href=\"https://colab.research.google.com/github/kkimtaejung/All_heuristic/blob/main/ROBO_%ED%95%A9%EC%84%B1%EA%B3%B1%26%EC%A1%B0%EA%B1%B4%EB%B6%80_GAN.ipynb\" target=\"_parent\"><img src=\"https://colab.research.google.com/assets/colab-badge.svg\" alt=\"Open In Colab\"/></a>"
      ]
    },
    {
      "cell_type": "markdown",
      "source": [
        "# 합성곱 GAN"
      ],
      "metadata": {
        "id": "IIS9NjRCrj7V"
      }
    },
    {
      "cell_type": "markdown",
      "source": [
        "앞선 MNIST, 얼굴 모델은 완전연결구조임\n",
        "\n",
        "CNN 합성곱 신경망을 사용할 예정"
      ],
      "metadata": {
        "id": "7zZ8bgLHqyN7"
      }
    },
    {
      "cell_type": "markdown",
      "source": [
        "## MNIST CNN"
      ],
      "metadata": {
        "id": "Bd9ZE0CpaUhr"
      }
    },
    {
      "cell_type": "markdown",
      "source": [
        "### import & dataset"
      ],
      "metadata": {
        "id": "uy9QbAVccHqo"
      }
    },
    {
      "cell_type": "code",
      "source": [
        "import torch\n",
        "import torch.nn as nn\n",
        "from torch.utils.data import Dataset\n",
        "import pandas, numpy, random\n",
        "import matplotlib.pyplot as plt\n",
        "\n",
        "# 구글 드라이브 연결\n",
        "# 파일 열어서 3번째 드라이브 마운트 누르면 됨\n",
        "\n",
        "from torch.utils.data import Dataset\n",
        "# Dataset 클래승서 데이터셋 상속받기 위해 2개의 특수 메서드 구현 필요\n",
        "# __len__() : 데이터셋 길이 반환\n",
        "# __getitem__() : 데이터셋의 n번째 아이템 반환\n",
        "class MnistDataset(Dataset):\n",
        "  def __init__(self,csv_file):\n",
        "    self.data_df = pandas.read_csv(csv_file, header=None)\n",
        "    pass\n",
        "\n",
        "  def __len__(self):\n",
        "    return len(self.data_df)\n",
        "\n",
        "  def __getitem__(self,index):\n",
        "    #이미지 레이블\n",
        "    label = self.data_df.iloc[index,0]\n",
        "    target = torch.zeros((10))\n",
        "    target[label] = 1.0\n",
        "    #1의 경우 [0,1,0,0,0,0,0,0,0,0] -> 원핫 인코딩 됨\n",
        "\n",
        "    #normalization\n",
        "    image_values = torch.FloatTensor(self.data_df.iloc[index,1:].values)/255.0\n",
        "\n",
        "    #레이블, 이미지데이터 텐서, 레이블 텐서 반환\n",
        "    return label, image_values, target\n",
        "\n",
        "  def plot_image(self, index):\n",
        "    img = self.data_df.iloc[index,1:].values.reshape(28,28)\n",
        "    plt.title(\"label = \"+str(self.data_df.iloc[index,0]))\n",
        "    plt.imshow(img, interpolation='none', cmap='Blues')\n",
        "    pass\n",
        "  pass\n",
        "\n",
        "# 데이터셋 불러오기\n",
        "mnist_dataset = MnistDataset('/content/drive/MyDrive/ROBOTICS/GAN/mnist_train.csv')\n",
        "mnist_dataset.plot_image(17)"
      ],
      "metadata": {
        "id": "hHjRmk6laWzb"
      },
      "execution_count": null,
      "outputs": []
    },
    {
      "cell_type": "markdown",
      "source": [
        "### MNIST 판별기"
      ],
      "metadata": {
        "id": "uyYDQdl1cNIh"
      }
    },
    {
      "cell_type": "code",
      "source": [
        "def generate_random_image(size):\n",
        "  random_data = torch.rand(size)\n",
        "  return random_data\n",
        "def generate_random_seed(size):\n",
        "  random_data = torch.randn(size)\n",
        "  return random_data"
      ],
      "metadata": {
        "id": "Kmy_7nfPs3YN"
      },
      "execution_count": null,
      "outputs": []
    },
    {
      "cell_type": "code",
      "source": [
        "class View(nn.Module):\n",
        "    def __init__(self, shape):\n",
        "        super().__init__()\n",
        "        self.shape = shape,\n",
        "\n",
        "    def forward(self, x):\n",
        "        return x.view(*self.shape)"
      ],
      "metadata": {
        "id": "ntZqUiwls1Dz"
      },
      "execution_count": null,
      "outputs": []
    },
    {
      "cell_type": "code",
      "source": [
        "class Discriminator(nn.Module):\n",
        "  def __init__(self):\n",
        "    # 파이토치 부모 클래스 초기화\n",
        "    super().__init__()\n",
        "\n",
        "    # 신경망 레이어 정의\n",
        "    self.model = nn.Sequential(\n",
        "        # 1개의 필터에서 10개의 필터로\n",
        "        nn.Conv2d(1,10,kernel_size=5,stride=2), # 단색이므로 1, 출력 채널 개수 10, 커널크기 5, 보폭 2\n",
        "        nn.LeakyReLU(0.02),\n",
        "        nn.BatchNorm2d(10),\n",
        "        # 10개의 필터에서 10개의 필터로\n",
        "        nn.Conv2d(10,10,kernel_size=3,stride=2),\n",
        "        nn.LeakyReLU(0.02),\n",
        "        nn.BatchNorm2d(10),\n",
        "\n",
        "        View(250), # 5*5 크기의 특성맵 * 10 개\n",
        "        nn.Linear(250,10),\n",
        "        nn.Sigmoid())\n",
        "\n",
        "    # 손실함수 설정\n",
        "    self.loss_function = nn.BCELoss()\n",
        "\n",
        "    # SGD 옵티마이저 설정\n",
        "    self.optimiser = torch.optim.Adam(self.parameters(), lr = 0.01)\n",
        "\n",
        "    # 진행 측정을 위한 변수 초기화\n",
        "    self.counter = 0\n",
        "    self.progress = []\n",
        "    pass\n",
        "  \n",
        "  # 순전파 과정\n",
        "  def forward(self, inputs):\n",
        "    # 모델 실행\n",
        "    return self.model(inputs)\n",
        "\n",
        "  # 훈련 과정\n",
        "  def train(self,inputs,targets):\n",
        "    #신경망 출력 계산\n",
        "    outputs = self.forward(inputs)\n",
        "\n",
        "    #손실 계산\n",
        "    loss = self.loss_function(outputs,targets)\n",
        "\n",
        "    #카운터를 증가시키고 10회마다 오차 저장\n",
        "    self.counter +=1\n",
        "    if(self.counter%10==0):\n",
        "      self.progress.append(loss.item())\n",
        "      pass\n",
        "    if(self.counter%10000==0):\n",
        "      print(\"counter = \",self.counter)\n",
        "      pass\n",
        "    \n",
        "    #기울기 초기화하고 역전파 후 가중치 갱신\n",
        "    self.optimiser.zero_grad()\n",
        "    loss.backward()\n",
        "    self.optimiser.step()\n",
        "    pass\n",
        "  \n",
        "  # 시각화\n",
        "  def plot_progress(self):\n",
        "    df = pandas.DataFrame(self.progress, columns=['loss'])\n",
        "    df.plot(ylim=(0,1.0), figsize=(16,8), alpha=0.1, marker='.', grid=True, yticks=(0,0.25,0.5))\n",
        "    pass"
      ],
      "metadata": {
        "id": "HpxpP2cxcMSG"
      },
      "execution_count": null,
      "outputs": []
    },
    {
      "cell_type": "markdown",
      "source": [
        "110pg"
      ],
      "metadata": {
        "id": "GWZBV1OS739Z"
      }
    },
    {
      "cell_type": "code",
      "source": [
        "from google.colab import drive\n",
        "drive.mount('/content/drive')"
      ],
      "metadata": {
        "id": "91o2ocozd4Ms"
      },
      "execution_count": null,
      "outputs": []
    },
    {
      "cell_type": "markdown",
      "source": [
        "### GAN 훈련하기 MNIST"
      ],
      "metadata": {
        "id": "WK5lYHF8hGje"
      }
    },
    {
      "cell_type": "code",
      "source": [
        "C = Discriminator()\n",
        "\n",
        "# train network on MNIST data set\n",
        "\n",
        "epochs = 3\n",
        "\n",
        "for i in range(epochs):\n",
        "    print('training epoch', i+1, \"of\", epochs)\n",
        "    for label, image_data_tensor, target_tensor in mnist_dataset:\n",
        "        C.train(image_data_tensor.view(1, 1, 28, 28), target_tensor)\n",
        "        pass\n",
        "    pass"
      ],
      "metadata": {
        "id": "I6fmn7vshJx2"
      },
      "execution_count": null,
      "outputs": []
    },
    {
      "cell_type": "markdown",
      "source": [
        "### 결과 확인"
      ],
      "metadata": {
        "id": "KKVOrsjOk425"
      }
    },
    {
      "cell_type": "code",
      "source": [
        "C.plot_progress()"
      ],
      "metadata": {
        "id": "EQ9XgVYsus4U"
      },
      "execution_count": null,
      "outputs": []
    },
    {
      "cell_type": "code",
      "source": [
        "# load MNIST test data\n",
        "mnist_test_dataset = MnistDataset('mount/My Drive/Colab Notebooks/gan/mnist_data/mnist_test.csv')\n",
        "     \n",
        "# pick a record\n",
        "record = 19\n",
        "\n",
        "# plot image and correct label\n",
        "mnist_test_dataset.plot_image(record)"
      ],
      "metadata": {
        "id": "Ufxtp04yuv00"
      },
      "execution_count": null,
      "outputs": []
    },
    {
      "cell_type": "code",
      "source": [
        "# visualise the answer given by the neural network\n",
        "image_data = mnist_test_dataset[record][1]\n",
        "\n",
        "# query from trained network\n",
        "output = C.forward(image_data.view(1,1,28,28))\n",
        "\n",
        "# plot output tensor\n",
        "pandas.DataFrame(output.detach().numpy()).plot(kind='bar', legend=False, ylim=(0,1))"
      ],
      "metadata": {
        "id": "Dk8F5hHMuyKf"
      },
      "execution_count": null,
      "outputs": []
    },
    {
      "cell_type": "markdown",
      "source": [
        "### 정확도"
      ],
      "metadata": {
        "id": "irPyti1Su29u"
      }
    },
    {
      "cell_type": "code",
      "source": [
        "# test trained neural network on training data\n",
        "score = 0\n",
        "items = 0\n",
        "\n",
        "for label, image_data_tensor, target_tensor in mnist_test_dataset:\n",
        "    answer = C.forward(image_data_tensor.view(1,1,28,28)).detach().numpy()\n",
        "    if (answer.argmax() == label):\n",
        "        score += 1\n",
        "        pass\n",
        "    items += 1\n",
        "    \n",
        "    pass\n",
        "\n",
        "print(score, items, score/items)"
      ],
      "metadata": {
        "id": "B105EBMku4dH"
      },
      "execution_count": null,
      "outputs": []
    },
    {
      "cell_type": "markdown",
      "source": [
        "# CelebA CNN"
      ],
      "metadata": {
        "id": "_cy2oMl2u8Og"
      }
    },
    {
      "cell_type": "markdown",
      "source": [
        "#### 넘파이 이미지 행렬을 중앙에서부터 주어진 크기에 맞게 잘라주는 함수"
      ],
      "metadata": {
        "id": "DkrgwvUavEVi"
      }
    },
    {
      "cell_type": "code",
      "source": [
        "def crop_centre(img,new_width,new_height):\n",
        "  height, width, _ =img.shape\n",
        "  startx = width//2 - new_width//2\n",
        "  starty = height//2 - new_height//2\n",
        "  return img[ starty:starty + new_height, startx:startx + new_width, :]"
      ],
      "metadata": {
        "id": "o4adngaVu_uB"
      },
      "execution_count": null,
      "outputs": []
    },
    {
      "cell_type": "markdown",
      "source": [
        "crop_centre(img,128,128) 함수로 정사각형을 잘라 128*128 크기로 img이름으로 저장"
      ],
      "metadata": {
        "id": "rBzC6ZdCvoxe"
      }
    },
    {
      "cell_type": "markdown",
      "source": [
        "### 데이터셋 불러오기\n",
        "- 코드가 시작되고 끝날때까지만 유효한 데이터, 데이터양이 방대하여 빠르게 데이터셋을 이용하고자 h5py file을 이용하였다."
      ],
      "metadata": {
        "id": "JR8GtOeN9E3c"
      }
    },
    {
      "cell_type": "code",
      "execution_count": null,
      "metadata": {
        "id": "yluglMipu_g6"
      },
      "outputs": [],
      "source": [
        "\n",
        "# mount Drive to access data files\n",
        "\n",
        "from google.colab import drive\n",
        "drive.mount('./mount')"
      ]
    },
    {
      "cell_type": "code",
      "source": [
        "import h5py\n",
        "import zipfile\n",
        "import imageio\n",
        "import os\n",
        "# location of the HDF5 package, yours may be under /gan/ not /myo_gan/\n",
        "hdf5_file = 'ROBO.h5py'\n",
        "\n",
        "# how many of the 202,599 images to extract and package into HDF5\n",
        "total_images = 20000\n",
        "\n",
        "with h5py.File(hdf5_file, 'w') as hf:\n",
        "\n",
        "    count = 0\n",
        "\n",
        "    with zipfile.ZipFile('/content/mount/MyDrive/ROBOTICS/img_align_celeba.zip', 'r') as zf:\n",
        "      for i in zf.namelist():\n",
        "        if (i[-4:] == '.jpg'):\n",
        "          # extract image\n",
        "          ofile = zf.extract(i)\n",
        "          img = imageio.imread(ofile)\n",
        "          os.remove(ofile)\n",
        "\n",
        "          # add image data to HDF5 file with new name\n",
        "          hf.create_dataset('img_align_celeba/'+str(count)+'.jpg', data=img, compression=\"gzip\", compression_opts=9)\n",
        "          \n",
        "          count = count + 1\n",
        "          if (count%1000 == 0):\n",
        "            print(\"images done .. \", count)\n",
        "            pass\n",
        "            \n",
        "          # stop when total_images reached\n",
        "          if (count == total_images):\n",
        "            break\n",
        "          pass\n",
        "\n",
        "        pass\n",
        "      pass"
      ],
      "metadata": {
        "id": "xoUyJB7H0qn6"
      },
      "execution_count": null,
      "outputs": []
    },
    {
      "cell_type": "markdown",
      "source": [
        "### 데이터 살펴보기"
      ],
      "metadata": {
        "id": "s6TuRvZ39Sft"
      }
    },
    {
      "cell_type": "code",
      "source": [
        "# 정말 사람의 이미지를 담고 있을까?\n",
        "import numpy as np\n",
        "import matplotlib.pyplot as plt\n",
        "with h5py.File('/content/ROBO.h5py','r') as file_object:\n",
        "  dataset = file_object['img_align_celeba']\n",
        "  image = np.array(dataset['7.jpg'])\n",
        "  plt.imshow(image, interpolation='none')\n",
        "  pass"
      ],
      "metadata": {
        "id": "HiF0Kt_t9YUx"
      },
      "execution_count": null,
      "outputs": []
    },
    {
      "cell_type": "code",
      "source": [
        "# 넘파이 행렬로 변환된 이미지의 형태, 색 정보를 확인해보자!\n",
        "image.shape"
      ],
      "metadata": {
        "id": "-NZqxj9u-IqL"
      },
      "execution_count": null,
      "outputs": []
    },
    {
      "cell_type": "markdown",
      "source": [
        "높이 218 너비 178 rgb 3\n",
        "\n",
        "총 3개의 레이어 확인 가능"
      ],
      "metadata": {
        "id": "NmEMexq1-UtQ"
      }
    },
    {
      "cell_type": "markdown",
      "source": [
        "### 데이터셋 클래스"
      ],
      "metadata": {
        "id": "D0ayePAA-cAo"
      }
    },
    {
      "cell_type": "code",
      "source": [
        "import torch\n",
        "import torch.nn as nn\n",
        "from torch.utils.data import Dataset\n",
        "import pandas, numpy, random\n",
        "import matplotlib.pyplot as plt\n",
        "from torch.utils.data import Dataset\n",
        "\n",
        "class CelebADataset(Dataset):\n",
        "  # HDF5 파일을 열고, img_align_celeba로 각각의 이미지에 접근 가능하게 하는 __init__ 생성자\n",
        "  def __init__(self,file):\n",
        "    self.file_object = h5py.File(file, 'r')\n",
        "    self.dataset = self.file_object['img_align_celeba']\n",
        "    pass\n",
        "\n",
        "  def __len__(self):\n",
        "    return len(self.dataset)\n",
        "\n",
        "  # index를 이미지의 이름으로 변환, 이미지 데이터르 반환하는 기능\n",
        "  # 정규화도 마쳐서 return\n",
        "  # if문은 인덱스가 실제 데이터셋의 아이템 수보다 많은지 확인, 많으면 IndexError 예외 발생\n",
        "  # 예외 발생시키는 이유는, HDF5에서는 범위 벗어나는 요청을 하면 그냥 오류가 발생하기 때문에 예외 처리함\n",
        "  def __getitem__(self,index):    \n",
        "    if(index>=len(self.dataset)):\n",
        "      raise IndexError()\n",
        "    img = numpy.array(self.dataset[str(index)+'.jpg'])\n",
        "    #128 x 128 이미지로 자르기\n",
        "    img = crop_centre(img,128,128)\n",
        "    return torch.cuda.FloatTensor(img).permute(2,0,1).view(1,3,128,128)/255.0\n",
        "    # 넘파이 행렬 (height,width,3) -> permute를 이용해 -> (3,height,width)로 바꿀 수 있음\n",
        "    # view에서는 배치 크기 1추가해 차원 하나 더 추가\n",
        "\n",
        "  def plot_image(self, index):\n",
        "    img = numpy.array(self.dataset[str(index)+'.jpg'])\n",
        "    #128 x 128 이미지로 자르기\n",
        "    img = crop_centre(img,128,128)\n",
        "    plt.imshow(img,interpolation='nearest')\n",
        "    pass\n",
        "  pass"
      ],
      "metadata": {
        "id": "vFDO66nZ-hPr"
      },
      "execution_count": null,
      "outputs": []
    },
    {
      "cell_type": "code",
      "source": [
        "# Dataset 객체 생성\n",
        "celeba_dataset = CelebADataset('/content/ROBO.h5py')\n",
        "\n",
        "# 데이터 확인\n",
        "celeba_dataset.plot_image(43)"
      ],
      "metadata": {
        "id": "kovVD1wDBUQG"
      },
      "execution_count": null,
      "outputs": []
    },
    {
      "cell_type": "markdown",
      "source": [
        "### 판별기"
      ],
      "metadata": {
        "id": "aRNkBz7iBoTD"
      }
    },
    {
      "cell_type": "markdown",
      "source": [
        "MNIST와 다른점은, 색깔과 크기 정보다.\n",
        "\n",
        "하나의 이미지는 218 x 178 x 3 = 116,412 개의 노드가 필요\n",
        "\n",
        "116,412 노드를 -> 1차원 텐서로 바꾸고 -> 완전연결 신경망에 투입"
      ],
      "metadata": {
        "id": "3GPoGP63Br1f"
      }
    },
    {
      "cell_type": "markdown",
      "source": [
        "::랜덤시드::"
      ],
      "metadata": {
        "id": "E6q2wQqgDfDe"
      }
    },
    {
      "cell_type": "code",
      "source": [
        "def generate_random_image(size):\n",
        "  random_data = torch.rand(size)\n",
        "  return random_data\n",
        "def generate_random_seed(size):\n",
        "  random_data = torch.randn(size)\n",
        "  return random_data"
      ],
      "metadata": {
        "id": "HHkAdV45Deuk"
      },
      "execution_count": null,
      "outputs": []
    },
    {
      "cell_type": "markdown",
      "source": [
        "::View 클래스 생성::\n",
        "\n",
        "3차원 이미지 텐서를 -> 1차원 이미지 텐서로 바꿔주는 역할"
      ],
      "metadata": {
        "id": "PKbvpbUrC46u"
      }
    },
    {
      "cell_type": "code",
      "source": [
        "class View(nn.Module):\n",
        "    def __init__(self, shape):\n",
        "        super().__init__()\n",
        "        self.shape = shape,\n",
        "\n",
        "    def forward(self, x):\n",
        "        return x.view(*self.shape)"
      ],
      "metadata": {
        "id": "lPsDEahQDCEA"
      },
      "execution_count": null,
      "outputs": []
    },
    {
      "cell_type": "code",
      "source": [
        "class Discriminator(nn.Module):\n",
        "  def __init__(self):\n",
        "    # 파이토치 부모 클래스 초기화\n",
        "    super().__init__()\n",
        "\n",
        "    # 신경망 레이어 정의\n",
        "    self.model = nn.Sequential(\n",
        "        # (1,3,128,128) 형태\n",
        "        nn.Conv2d(3,256,kernel_size=8,stride=2), # 단색이므로 1, 출력 채널 개수 10, 커널크기 5, 보폭 2\n",
        "        nn.BatchNorm2d(256),\n",
        "        nn.GELU(),\n",
        "        # 10개의 필터에서 10개의 필터로\n",
        "        nn.Conv2d(256,256,kernel_size=8,stride=2),\n",
        "        nn.BatchNorm2d(256),\n",
        "        nn.GELU(),\n",
        "\n",
        "        nn.Conv2d(256,3,kernel_size=8,stride=2),\n",
        "        nn.GELU(),\n",
        "\n",
        "        View(3*10*10), \n",
        "        nn.Linear(3*10*10,1),\n",
        "        nn.Sigmoid())\n",
        "\n",
        "    # 손실함수 설정\n",
        "    self.loss_function = nn.BCELoss()\n",
        "\n",
        "    # SGD 옵티마이저 설정\n",
        "    self.optimiser = torch.optim.Adam(self.parameters(), lr = 0.0001)\n",
        "\n",
        "    # 진행 측정을 위한 변수 초기화\n",
        "    self.counter = 0\n",
        "    self.progress = []\n",
        "    pass\n",
        "  \n",
        "  # 순전파 과정\n",
        "  def forward(self, inputs):\n",
        "    # 모델 실행\n",
        "    return self.model(inputs)\n",
        "\n",
        "  # 훈련 과정\n",
        "  def train(self,inputs,targets):\n",
        "    #신경망 출력 계산\n",
        "    outputs = self.forward(inputs)\n",
        "\n",
        "    #손실 계산\n",
        "    loss = self.loss_function(outputs,targets)\n",
        "\n",
        "    #카운터를 증가시키고 10회마다 오차 저장\n",
        "    self.counter +=1\n",
        "    if(self.counter%10==0):\n",
        "      self.progress.append(loss.item())\n",
        "      pass\n",
        "    if(self.counter%10000==0):\n",
        "      print(\"counter = \",self.counter)\n",
        "      pass\n",
        "    \n",
        "    #기울기 초기화하고 역전파 후 가중치 갱신\n",
        "    self.optimiser.zero_grad()\n",
        "    loss.backward()\n",
        "    self.optimiser.step()\n",
        "    pass\n",
        "  \n",
        "  # 시각화\n",
        "  def plot_progress(self):\n",
        "    df = pandas.DataFrame(self.progress, columns=['loss'])\n",
        "    df.plot(ylim=(0,1.0), figsize=(16,8), alpha=0.1, marker='.', grid=True, yticks=(0,0.25,0.5,1.0,5.0))\n",
        "    pass"
      ],
      "metadata": {
        "id": "AHpJZKdOCFzJ"
      },
      "execution_count": null,
      "outputs": []
    },
    {
      "cell_type": "markdown",
      "source": [
        "### 판별기 테스트하기"
      ],
      "metadata": {
        "id": "X8ruEYsrDLbH"
      }
    },
    {
      "cell_type": "markdown",
      "source": [
        "일단 GPU 부터 설정하기"
      ],
      "metadata": {
        "id": "ytHp9at6FEKs"
      }
    },
    {
      "cell_type": "code",
      "source": [
        "import torch\n",
        "import torchvision\n",
        "!pip install --upgrade torch torchvision"
      ],
      "metadata": {
        "id": "LdejanX9FpD_"
      },
      "execution_count": null,
      "outputs": []
    },
    {
      "cell_type": "code",
      "source": [
        "import torch\n",
        "import torchvision\n",
        "if torch.cuda.is_available():\n",
        "  torch.set_default_tensor_type(torch.cuda.FloatTensor)\n",
        "  print(\"using cuda: \", torch.cuda.get_device_name(0))\n",
        "  pass\n",
        "device = torch.device(\"cuda\" if torch.cuda.is_available() else \"cpu\")\n",
        "device"
      ],
      "metadata": {
        "id": "AkdFtlV3FDvG"
      },
      "execution_count": null,
      "outputs": []
    },
    {
      "cell_type": "code",
      "source": [
        "# 판별기가 실제 데이터와 임의 노이즈 구별이 가능한지\n",
        "D=Discriminator()\n",
        "D.to(device)\n",
        "\n",
        "for image_data_tensor in celeba_dataset:\n",
        "  # 실제 데이터\n",
        "  D.train(image_data_tensor, torch.cuda.FloatTensor([1.0]))\n",
        "  # 생성된 데이터\n",
        "  D.train(generate_random_image((1,3,128,128)), torch.cuda.FloatTensor([0.0]))\n",
        "  pass"
      ],
      "metadata": {
        "id": "ebbG1vPiDNwg"
      },
      "execution_count": null,
      "outputs": []
    },
    {
      "cell_type": "code",
      "source": [
        "D.plot_progress()"
      ],
      "metadata": {
        "id": "P_Dt6N6uGixZ"
      },
      "execution_count": null,
      "outputs": []
    },
    {
      "cell_type": "markdown",
      "source": [
        "### 전치 합성곱 :: 합성곱을 반대방향으로 작동시키기\n",
        "\n",
        "nn.ConvTranspose2d"
      ],
      "metadata": {
        "id": "W2LYNX02zLyy"
      }
    },
    {
      "cell_type": "markdown",
      "source": [
        "### 생성기"
      ],
      "metadata": {
        "id": "9LRVqS4vHDvf"
      }
    },
    {
      "cell_type": "code",
      "source": [
        "class Generator(nn.Module):\n",
        "  def __init__(self):\n",
        "    # 파이토치 부모 클래스 초기화\n",
        "    super().__init__()\n",
        "\n",
        "    # 신경망 레이어 정의\n",
        "    self.model = nn.Sequential(\n",
        "        # 1차원 행렬 입력 -> 처음 100개의 시드를 매핑\n",
        "        nn.Linear(100,3*11*11),\n",
        "        nn.GELU(),\n",
        "\n",
        "        # 4차원으로 형태 변환\n",
        "        View((1,3,11,11)), \n",
        "\n",
        "        # (1,3,128,128) 형태\n",
        "        nn.ConvTranspose2d(3,256,kernel_size=8,stride=2), # 단색이므로 1, 출력 채널 개수 10, 커널크기 5, 보폭 2\n",
        "        nn.BatchNorm2d(256),\n",
        "        nn.GELU(),\n",
        "        # 10개의 필터에서 10개의 필터로\n",
        "        nn.ConvTranspose2d(256,256,kernel_size=8,stride=2),\n",
        "        nn.BatchNorm2d(256),\n",
        "        nn.GELU(),\n",
        "\n",
        "        nn.ConvTranspose2d(256,3,kernel_size=8,stride=2,padding=1),\n",
        "        nn.BatchNorm2d(3),\n",
        "        \n",
        "        nn.Sigmoid())\n",
        "\n",
        "\n",
        "    # 손실함수 없음 -> 오직 판별기에만 필요\n",
        "    # 판별기의 흘러들어온 기울기 오차 -> 생성기 업데이트\n",
        "\n",
        "    # SGD 옵티마이저 설정\n",
        "    self.optimiser = torch.optim.Adam(self.parameters(), lr = 0.0001)\n",
        "\n",
        "    # 진행 측정을 위한 변수 초기화\n",
        "    self.counter = 0\n",
        "    self.progress = []\n",
        "    pass\n",
        "  \n",
        "  # 순전파 과정\n",
        "  def forward(self, inputs):\n",
        "    # 모델 실행\n",
        "    return self.model(inputs)\n",
        "\n",
        "  # 훈련 과정\n",
        "  def train(self,D,inputs,targets):\n",
        "    #신경망 출력 계산\n",
        "    g_output = self.forward(inputs)\n",
        "\n",
        "    #판별기로 전달\n",
        "    d_output = D.forward(g_output)\n",
        "\n",
        "    #오차 계산\n",
        "    loss = D.loss_function(d_output,targets)\n",
        "\n",
        "    #카운터를 증가시키고 10회마다 오차 저장\n",
        "    self.counter +=1\n",
        "    if(self.counter%10==0):\n",
        "      self.progress.append(loss.item())\n",
        "      pass\n",
        "    \n",
        "    #기울기 초기화하고 역전파 후 가중치 갱신\n",
        "    self.optimiser.zero_grad()\n",
        "    loss.backward()\n",
        "    self.optimiser.step()\n",
        "    pass\n",
        "# ::train::\n",
        "# 입력값이 생성기의 forward로 전달됨\n",
        "# 생성기의 출력 g_output은 D.forward를 통해 판별기로 전달되어 d_output을 출력함\n",
        "# 손실 = |d_output - 정답| -> 차이값으로 계산\n",
        "# 손실로부터 오류역전파 되어 생성기로 전달되어 생성기의 optimiser로 전달됨\n",
        "# 이러면 생성기만 업데이트됨\n",
        "\n",
        "  # 시각화\n",
        "  def plot_progress(self):\n",
        "    df = pandas.DataFrame(self.progress, columns=['loss'])\n",
        "    df.plot(ylim=(0,1.0), figsize=(16,8), alpha=0.1, marker='.', grid=True, yticks=(0,0.25,0.5,1.0,5.0))\n",
        "    pass"
      ],
      "metadata": {
        "id": "34YqJYT_HI0N"
      },
      "execution_count": null,
      "outputs": []
    },
    {
      "cell_type": "markdown",
      "source": [
        "### 생성기 결과 확인"
      ],
      "metadata": {
        "id": "sHyej9MEHl6Y"
      }
    },
    {
      "cell_type": "code",
      "source": [
        "G = Generator()\n",
        "# 모델을 CUDA에 배치\n",
        "G.to(device)\n",
        "output = G.forward(generate_random_seed(100))\n",
        "img = output.detach().permute(0,2,3,1).view(128,128,3).cpu().numpy()\n",
        "plt.imshow(img, interpolation='none', cmap='Blues')"
      ],
      "metadata": {
        "id": "7_u9dNxdHnRf"
      },
      "execution_count": null,
      "outputs": []
    },
    {
      "cell_type": "markdown",
      "source": [
        "### GAN 훈련"
      ],
      "metadata": {
        "id": "9xssIV78ICs9"
      }
    },
    {
      "cell_type": "code",
      "source": [
        "function ClickConnect(){\n",
        "    console.log(\"코랩 연결 끊김 방지\"); \n",
        "    document.querySelector(\"colab-toolbar-button#connect\").click() \n",
        "}\n",
        "setInterval(ClickConnect, 60 * 1000)"
      ],
      "metadata": {
        "id": "_kzdbcbXTrWP"
      },
      "execution_count": null,
      "outputs": []
    },
    {
      "cell_type": "code",
      "source": [
        "D = Discriminator()\n",
        "D.to(device)\n",
        "G = Generator()\n",
        "G.to(device)\n",
        "\n",
        "epochs = 4\n",
        "\n",
        "for i in range(epochs):\n",
        "  print (\"epoch = \", epochs)\n",
        "  for image_data_tensor in celeba_dataset:\n",
        "    # 1단계 : 참에 대해 판별기 훈련\n",
        "    D.train(image_data_tensor, torch.cuda.FloatTensor([1.0]))\n",
        "\n",
        "    # 2단계 : 거짓에 대해 판별기 훈련, 생성기의 기울기가 수정되지 않도록 detach()함수 이용, detach()로 선택된 것은 그 함수에서 제외됨\n",
        "    D.train(G.forward(generate_random_seed(100)).detach(), torch.cuda.FloatTensor([0.0]))\n",
        "\n",
        "    # 3단계 : 생성기 훈련\n",
        "    G.train(D, generate_random_seed(100), torch.cuda.FloatTensor([1.0]))\n",
        "    pass\n",
        "  pass"
      ],
      "metadata": {
        "id": "6J3H4tnCIEu6"
      },
      "execution_count": null,
      "outputs": []
    },
    {
      "cell_type": "markdown",
      "source": [
        "## 결과 시각화"
      ],
      "metadata": {
        "id": "0bCNQfepI_77"
      }
    },
    {
      "cell_type": "code",
      "source": [
        "D.plot_progress()"
      ],
      "metadata": {
        "id": "I6EDO8HNIhiY"
      },
      "execution_count": null,
      "outputs": []
    },
    {
      "cell_type": "code",
      "source": [
        "G.plot_progress()"
      ],
      "metadata": {
        "id": "knYMpMMsIuLt"
      },
      "execution_count": null,
      "outputs": []
    },
    {
      "cell_type": "code",
      "source": [
        "f, axarr = plt.subplots(2,3,figsize=(16,8))\n",
        "for i in range(2):\n",
        "  for j in range(3):\n",
        "    output = G.forward(generate_random_seed(100))\n",
        "    img = output.detach().permute(0,2,3,1).view(128,128,3).cpu().numpy()\n",
        "    axarr[i,j].imshow(img, interpolation='none', cmap='Blues')\n",
        "    pass\n",
        "  pass"
      ],
      "metadata": {
        "id": "DaOjkZVoIw06"
      },
      "execution_count": null,
      "outputs": []
    },
    {
      "cell_type": "markdown",
      "source": [
        "## 결과 향상\n",
        "- GELU 활성화함수 사용\n",
        "- nn.GELU()"
      ],
      "metadata": {
        "id": "Wum6Cr6I3HPs"
      }
    },
    {
      "cell_type": "markdown",
      "source": [
        "# 조건부 GAN"
      ],
      "metadata": {
        "id": "20fiOgCR3zak"
      }
    },
    {
      "cell_type": "markdown",
      "source": [
        "- 목표\n",
        "\n",
        "  생성자가 출력하는 목표 이미지가, 목표를 표현하는 다양한 이미지로 만들 수 있다면?\n",
        "\n",
        "  예를 들어 목표 이미지가 사람 얼굴인데, 사람 얼굴을 웃게 만들 수 있다면?\n",
        "\n",
        "- 구조\n",
        "  임의 레이블, 임의 시드 -> 생성기에게 전달 -> 생성기의 가짜 데이터, 진짜 데이터 -> 판별기에 전달 -> 1,0 출력\n",
        "  \n",
        "  클래스 레이블과 이미지 간의 관계를 학습해야한다"
      ],
      "metadata": {
        "id": "_pLdcIQ234Aw"
      }
    },
    {
      "cell_type": "markdown",
      "source": [
        "###cuda 사용 GPU"
      ],
      "metadata": {
        "id": "gEq1mfqc_iFe"
      }
    },
    {
      "cell_type": "code",
      "source": [
        "\n",
        "# check if CUDA is available\n",
        "# if yes, set default tensor type to cuda\n",
        "\n",
        "if torch.cuda.is_available():\n",
        "  torch.set_default_tensor_type(torch.cuda.FloatTensor)\n",
        "  print(\"using cuda:\", torch.cuda.get_device_name(0))\n",
        "  pass\n",
        "\n",
        "device = torch.device(\"cuda\" if torch.cuda.is_available() else \"cpu\")\n",
        "\n",
        "device"
      ],
      "metadata": {
        "id": "1G2gM06J_kLd"
      },
      "execution_count": null,
      "outputs": []
    },
    {
      "cell_type": "markdown",
      "source": [
        "### import & dataset"
      ],
      "metadata": {
        "id": "vLsUUsZ57N0g"
      }
    },
    {
      "cell_type": "code",
      "source": [
        "import torch\n",
        "import torch.nn as nn\n",
        "from torch.utils.data import Dataset\n",
        "import pandas, numpy, random\n",
        "import matplotlib.pyplot as plt\n",
        "\n",
        "# 구글 드라이브 연결\n",
        "# 파일 열어서 3번째 드라이브 마운트 누르면 됨\n",
        "\n",
        "from torch.utils.data import Dataset\n",
        "# Dataset 클래승서 데이터셋 상속받기 위해 2개의 특수 메서드 구현 필요\n",
        "# __len__() : 데이터셋 길이 반환\n",
        "# __getitem__() : 데이터셋의 n번째 아이템 반환\n",
        "class MnistDataset(Dataset):\n",
        "  def __init__(self,csv_file):\n",
        "    self.data_df = pandas.read_csv(csv_file, header=None)\n",
        "    pass\n",
        "\n",
        "  def __len__(self):\n",
        "    return len(self.data_df)\n",
        "\n",
        "  def __getitem__(self,index):\n",
        "    #이미지 레이블\n",
        "    label = self.data_df.iloc[index,0]\n",
        "    target = torch.zeros((10))\n",
        "    target[label] = 1.0\n",
        "    #1의 경우 [0,1,0,0,0,0,0,0,0,0] -> 원핫 인코딩 됨\n",
        "\n",
        "    #normalization\n",
        "    image_values = torch.FloatTensor(self.data_df.iloc[index,1:].values)/255.0\n",
        "\n",
        "    #레이블, 이미지데이터 텐서, 레이블 텐서 반환\n",
        "    return label, image_values, target\n",
        "\n",
        "  def plot_image(self, index):\n",
        "    img = self.data_df.iloc[index,1:].values.reshape(28,28)\n",
        "    plt.title(\"label = \"+str(self.data_df.iloc[index,0]))\n",
        "    plt.imshow(img, interpolation='none', cmap='Blues')\n",
        "    pass\n",
        "  pass\n",
        "\n",
        "# 데이터셋 불러오기\n",
        "mnist_dataset = MnistDataset('/content/drive/MyDrive/ROBOTICS/GAN/mnist_train.csv')\n",
        "mnist_dataset.plot_image(17)"
      ],
      "metadata": {
        "id": "-ULEKzpG7N0g"
      },
      "execution_count": null,
      "outputs": []
    },
    {
      "cell_type": "markdown",
      "source": [
        "### MNIST 판별기"
      ],
      "metadata": {
        "id": "ETgh33S37N0g"
      }
    },
    {
      "cell_type": "code",
      "source": [
        "  def forward(self, image_tensor, label_tensor):\n",
        "    inputs = torch.cat((image_tensor, label_tensor))\n",
        "    return self.model(inputs)\n",
        "\n",
        "  # 훈련 과정\n",
        "  def train(self,inputs,label_tensor,targets):\n",
        "    outputs = self.forward(inputs,label_tensor)\n",
        "    loss = self.loss_function(outputs,targets)"
      ],
      "metadata": {
        "id": "C2KkZ-PjD1q5"
      },
      "execution_count": null,
      "outputs": []
    },
    {
      "cell_type": "code",
      "source": [
        "class Discriminator(nn.Module):\n",
        "  def __init__(self):\n",
        "    # 파이토치 부모 클래스 초기화\n",
        "    super().__init__()\n",
        "\n",
        "    # 신경망 레이어 정의\n",
        "    self.model = nn.Sequential(\n",
        "        nn.Linear(784+10,200),\n",
        "        nn.LeakyReLU(0.02),\n",
        "        nn.LayerNorm(200),\n",
        "        nn.Linear(200,1),\n",
        "        nn.Sigmoid())\n",
        "    # 구조 :: node4 -> node3(로지스틱) -> node1(로지스틱) -> 1 or 0\n",
        "\n",
        "    # 손실함수 설정\n",
        "    self.loss_function = nn.BCELoss()\n",
        "\n",
        "    # SGD 옵티마이저 설정\n",
        "    self.optimiser = torch.optim.Adam(self.parameters(), lr = 0.0001)\n",
        "\n",
        "    # 진행 측정을 위한 변수 초기화\n",
        "    self.counter = 0\n",
        "    self.progress = []\n",
        "    pass\n",
        "  \n",
        "  # 순전파 과정\n",
        "  def forward(self, image_tensor, label_tensor):\n",
        "    # 시드와 레이블 결합\n",
        "    inputs = torch.cat((image_tensor, label_tensor))\n",
        "    return self.model(inputs)\n",
        "\n",
        "  # 훈련 과정\n",
        "  def train(self,inputs,label_tensor,targets):\n",
        "    #신경망 출력 계산\n",
        "    outputs = self.forward(inputs,label_tensor)\n",
        "\n",
        "    #손실 계산\n",
        "    loss = self.loss_function(outputs,targets)\n",
        "\n",
        "    #카운터를 증가시키고 10회마다 오차 저장\n",
        "    self.counter +=1\n",
        "    if(self.counter%10==0):\n",
        "      self.progress.append(loss.item())\n",
        "      pass\n",
        "    if(self.counter%10000==0):\n",
        "      print(\"counter = \",self.counter)\n",
        "      pass\n",
        "    \n",
        "    #기울기 초기화하고 역전파 후 가중치 갱신\n",
        "    self.optimiser.zero_grad()\n",
        "    loss.backward()\n",
        "    self.optimiser.step()\n",
        "    pass\n",
        "  \n",
        "  # 시각화\n",
        "  def plot_progress(self):\n",
        "    df = pandas.DataFrame(self.progress, columns=['loss'])\n",
        "    df.plot(ylim=(0,1.0), figsize=(16,8), alpha=0.1, marker='.', grid=True, yticks=(0,0.25,0.5))\n",
        "    pass\n",
        "\n",
        "  # 정해진 레이블이 어떤 이미지를 생성했는지 확인\n",
        "  def plot_images(self, label):\n",
        "    label_tensor = torch.zeros((10))\n",
        "    lebel_tensor[label] = 1.0\n",
        "    # 2행 3열로 샘플 이미지 출력\n",
        "    f, axarr = plt.subplots(2,3,figsize=(16,8))\n",
        "    for i in range(2):\n",
        "      for j in range(3):\n",
        "        axarr[i,j].imshow(G.forward(generate_random_seed(100), label_tensor).detach().cpu().numpy().reshape(28,28), interpolation='none', cmap='Blues')"
      ],
      "metadata": {
        "id": "sXGRlD0d7N0g"
      },
      "execution_count": null,
      "outputs": []
    },
    {
      "cell_type": "code",
      "source": [
        "from google.colab import drive\n",
        "drive.mount('/content/drive')"
      ],
      "metadata": {
        "id": "9S8veKJ37N0h"
      },
      "execution_count": null,
      "outputs": []
    },
    {
      "cell_type": "markdown",
      "source": [
        "### 판별기 테스트"
      ],
      "metadata": {
        "id": "84MCrMFHch1w"
      }
    },
    {
      "cell_type": "code",
      "source": [
        "# 60000개의 임지에서 판별기가 진짜 숫자라고 판단하면 결과를 1.0으로 출력하도록 함\n",
        "D=Discriminator()\n",
        "def generate_random_image(size):\n",
        "  random_data = torch.rand(size)\n",
        "  return random_data\n",
        "def generate_random_seed(size):\n",
        "  random_data = torch.randn(size)\n",
        "  return random_data\n",
        "\n",
        "def generate_random_one_hot(size):\n",
        "  label_tensor = torch.zeros((size))\n",
        "  random_idx = random.randint(0,size-1)\n",
        "  label_tensor[random_idx] = 1.0\n",
        "  return label_tensor\n",
        "\n",
        "# for label, image_data_tensor, label_tensor in mnist_dataset:\n",
        "#   # 실제 데이터\n",
        "#   D.train(image_data_tensor,,label_tensor, torch.FloatTensor([1.0]))\n",
        "#   # 생성된 데이터\n",
        "#   D.train(generate_random_image(784), generate_random_one_hot(10),torch.FloatTensor([0.0]))\n",
        "#   pass\n",
        "# D.plot_progress()"
      ],
      "metadata": {
        "id": "_h6FPDQickqj"
      },
      "execution_count": null,
      "outputs": []
    },
    {
      "cell_type": "code",
      "source": [
        "# 실제 이미지, 임의의 노이즈 에 대해 판별기가 잘 구별했는지 확인\n",
        "for i in range(5):\n",
        "  image_data_tensor = mnist_dataset[random.randint(0,60000)][1]\n",
        "  print(D.forward(image_data_tensor).item())\n",
        "  pass\n",
        "\n",
        "for i in range(5):\n",
        "  print(D.forward(generate_random(784)).item())\n",
        "  pass"
      ],
      "metadata": {
        "id": "FFB-AioYdTOs"
      },
      "execution_count": null,
      "outputs": []
    },
    {
      "cell_type": "markdown",
      "source": [
        "### MNIST 생성기"
      ],
      "metadata": {
        "id": "XLknXAs4flFf"
      }
    },
    {
      "cell_type": "markdown",
      "source": [
        "::전체 구조::\n",
        "\n",
        "임의의 시드 -> 생성기 1 -> 200 -> 784 -> 28*28 -> 784 -> 200 -> 1 판별기\n",
        "\n",
        "::생성기의 입력은 random seed::\n",
        "\n",
        "생성기는 다양한 이미지를 생성해야함 0~9까지\n",
        "\n",
        "같은 입력에 대해서는 신경망은 같은 출력을 내기 때문에 입력을 임의의 값으로 항상 넣어주어야 한다."
      ],
      "metadata": {
        "id": "tKF0nVWLf6js"
      }
    },
    {
      "cell_type": "code",
      "source": [
        "def forward(self, seed_tensor, label):\n",
        "    inputs = torch.cat((seed_tensor,label_tensor))\n",
        "    return self.model(inputs)\n",
        "\n",
        "  # 훈련 과정\n",
        "  def train(self,D,inputs,label_tensor,targets):\n",
        "    g_output = self.forward(inputs,label_tensor)\n",
        "    d_output = D.forward(g_output,label_tensor)\n",
        "    loss = D.loss_function(d_output,targets)"
      ],
      "metadata": {
        "id": "qji2W-TVEBqJ"
      },
      "execution_count": null,
      "outputs": []
    },
    {
      "cell_type": "code",
      "source": [
        "class Generator(nn.Module):\n",
        "  def __init__(self):\n",
        "    # 파이토치 부모 클래스 초기화\n",
        "    super().__init__()\n",
        "\n",
        "    # 신경망 레이어 정의\n",
        "    self.model = nn.Sequential(\n",
        "        nn.Linear(100+10,200),\n",
        "        nn.LeakyReLU(0.02),\n",
        "        nn.LayerNorm(200),\n",
        "        nn.Linear(200,784),\n",
        "        nn.Sigmoid())\n",
        "    # 구조 :: node1 -> node3(로지스틱) -> node4(로지스틱)\n",
        "\n",
        "    # 손실함수 없음 -> 오직 판별기에만 필요\n",
        "    # 판별기의 흘러들어온 기울기 오차 -> 생성기 업데이트\n",
        "\n",
        "    # SGD 옵티마이저 설정\n",
        "    self.optimiser = torch.optim.Adam(self.parameters(), lr = 0.0001)\n",
        "\n",
        "    # 진행 측정을 위한 변수 초기화\n",
        "    self.counter = 0\n",
        "    self.progress = []\n",
        "    pass\n",
        "  \n",
        "  # 순전파 과정\n",
        "  def forward(self, seed_tensor, label):\n",
        "    # 시드와 레이블 결합\n",
        "    inputs = torch.cat((seed_tensor,label_tensor))\n",
        "    return self.model(inputs)\n",
        "\n",
        "  # 훈련 과정\n",
        "  def train(self,D,inputs,label_tensor,targets):\n",
        "    #신경망 출력 계산\n",
        "    g_output = self.forward(inputs,label_tensor)\n",
        "\n",
        "    #판별기로 전달\n",
        "    d_output = D.forward(g_output,label_tensor)\n",
        "\n",
        "    #오차 계산\n",
        "    loss = D.loss_function(d_output,targets)\n",
        "\n",
        "    #카운터를 증가시키고 10회마다 오차 저장\n",
        "    self.counter +=1\n",
        "    if(self.counter%10==0):\n",
        "      self.progress.append(loss.item())\n",
        "      pass\n",
        "    \n",
        "    #기울기 초기화하고 역전파 후 가중치 갱신\n",
        "    self.optimiser.zero_grad()\n",
        "    loss.backward()\n",
        "    self.optimiser.step()\n",
        "    pass\n",
        "# ::train::\n",
        "# 입력값이 생성기의 forward로 전달됨\n",
        "# 생성기의 출력 g_output은 D.forward를 통해 판별기로 전달되어 d_output을 출력함\n",
        "# 손실 = |d_output - 정답| -> 차이값으로 계산\n",
        "# 손실로부터 오류역전파 되어 생성기로 전달되어 생성기의 optimiser로 전달됨\n",
        "# 이러면 생성기만 업데이트됨\n",
        "\n",
        "  # 시각화\n",
        "  def plot_progress(self):\n",
        "    df = pandas.DataFrame(self.progress, columns=['loss'])\n",
        "    df.plot(ylim=(0,1.0), figsize=(16,8), alpha=0.1, marker='.', grid=True, yticks=(0,0.25,0.5))\n",
        "    pass\n",
        "\n",
        "  # 정해진 레이블이 어떤 이미지를 생성했는지 확인\n",
        "  def plot_images(self, label):\n",
        "    label_tensor = torch.zeros((10))\n",
        "    label_tensor[label] = 1.0\n",
        "    # 2행 3열로 샘플 이미지 출력\n",
        "    f, axarr = plt.subplots(2,3,figsize=(16,8))\n",
        "    for i in range(2):\n",
        "      for j in range(3):\n",
        "        axarr[i,j].imshow(G.forward(generate_random_seed(100), label_tensor).detach().cpu().numpy().reshape(28,28), interpolation='none', cmap='Blues')"
      ],
      "metadata": {
        "id": "Yto4ZHd3gf0o"
      },
      "execution_count": null,
      "outputs": []
    },
    {
      "cell_type": "markdown",
      "source": [
        "### 생성기 결과 확인"
      ],
      "metadata": {
        "id": "pNd4OcZRgn9D"
      }
    },
    {
      "cell_type": "code",
      "source": [
        "# 새로운 생성기를 만들고, 임의의 시드로 출력 텐서를 만듬\n",
        "G = Generator()\n",
        "output = G.forward(generate_random_seed(100))\n",
        "img = output.detach().numpy().reshape(28,28)\n",
        "plt.imshow(img, interpolation='none', cmap='Blues')"
      ],
      "metadata": {
        "id": "-c8Rv7QIgmFz"
      },
      "execution_count": null,
      "outputs": []
    },
    {
      "cell_type": "markdown",
      "source": [
        "아직 훈련이 안된 생성기는 임의의 패턴을 추출함"
      ],
      "metadata": {
        "id": "hsyMGQJ6hDRF"
      }
    },
    {
      "cell_type": "markdown",
      "source": [
        "### GAN 훈련하기 MNIST"
      ],
      "metadata": {
        "id": "Vg8x85Xi7N0i"
      }
    },
    {
      "cell_type": "code",
      "source": [
        "# 판별기, 생성기 생성\n",
        "D = Discriminator()\n",
        "G = Generator()\n",
        "image_list=[]\n",
        "\n",
        "# 판별기, 생성기 훈련\n",
        "for i in range(4):\n",
        "  for label, image_data_tensor, label_tensor in mnist_dataset:\n",
        "    # 1단계 : 참에 대해 판별기 훈련\n",
        "    D.train(image_data_tensor,label_tensor, torch.FloatTensor([1.0]))\n",
        "    # 임의의 원핫 인코딩 된 값을 레이블로 사용\n",
        "    random_label = generate_random_one_hot(10)\n",
        "    # 2단계 : 거짓에 대해 판별기 훈련, \n",
        "    # 생성기의 기울기가 수정되지 않도록 detach()함수 이용, \n",
        "    # detach()로 선택된 것은 그 함수에서 제외됨\n",
        "    D.train(G.forward(generate_random_seed(100),random_label).detach(),random_label, torch.FloatTensor([0.0]))\n",
        "    # 임의의 원핫 인코딩 된 값을 레이블로 사용\n",
        "    random_label = generate_random_one_hot(10) \n",
        "    # 3단계 : 생성기 훈련\n",
        "    G.train(D, generate_random_seed(100),random_label, torch.FloatTensor([1.0]))\n",
        "\n",
        "    \n",
        "\n",
        "# ::detach::\n",
        "# 입력 데이터가 판별기를 지나 출력되고, 다시 업데이트 되어 판별기로 돌아올때, 생성기로 가지 않게 해줌\n",
        "# 효율적이고 빠른 계산을 위해 사용함"
      ],
      "metadata": {
        "id": "pDj44GsF7N0i"
      },
      "execution_count": null,
      "outputs": []
    },
    {
      "cell_type": "markdown",
      "source": [
        "### 결과 확인"
      ],
      "metadata": {
        "id": "CYp7YXbF7N0i"
      }
    },
    {
      "cell_type": "code",
      "source": [
        "def plot_progress(self):\n",
        "  df = pandas.DataFrame(self.progress, columns=['loss'])\n",
        "  df.plot(ylim=(0), figsize=(16,8), alpha=0.1, marker='.',grid=True,yticks=(0,0.25,0.5,1.0,5.0))\n",
        "\n",
        "D.plot_progress()"
      ],
      "metadata": {
        "id": "-g30ijFqkcH1"
      },
      "execution_count": null,
      "outputs": []
    },
    {
      "cell_type": "code",
      "source": [
        "G.plot_progress()"
      ],
      "metadata": {
        "id": "kcAO2QY4ksi9"
      },
      "execution_count": null,
      "outputs": []
    },
    {
      "cell_type": "code",
      "source": [
        "G.plot_images(9)"
      ],
      "metadata": {
        "id": "374jfY-mlCmM"
      },
      "execution_count": null,
      "outputs": []
    },
    {
      "cell_type": "markdown",
      "source": [
        "특정 레이블의 출력값이 여러 형태를 띄고 있다!"
      ],
      "metadata": {
        "id": "wtVMiVAplpQb"
      }
    }
  ]
}