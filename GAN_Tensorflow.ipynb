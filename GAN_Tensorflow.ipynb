{
  "nbformat": 4,
  "nbformat_minor": 0,
  "metadata": {
    "colab": {
      "private_outputs": true,
      "provenance": [],
      "collapsed_sections": [
        "kRhXfn-DltIr",
        "WpyjPn9hlyAJ",
        "T17KEZCul0hW",
        "Jgltoovfl4WK",
        "LKrYBoxAl-Sg",
        "uve4Dm9zmBd_",
        "S9Bx84qUmE-o",
        "OhoWsqkDmNyl",
        "M-_X7YmfmTnh",
        "0_GcA9U4mX3K"
      ],
      "authorship_tag": "ABX9TyOtnd87xZgzkoCjNUINna1p",
      "include_colab_link": true
    },
    "kernelspec": {
      "name": "python3",
      "display_name": "Python 3"
    },
    "language_info": {
      "name": "python"
    },
    "accelerator": "GPU",
    "gpuClass": "standard"
  },
  "cells": [
    {
      "cell_type": "markdown",
      "metadata": {
        "id": "view-in-github",
        "colab_type": "text"
      },
      "source": [
        "<a href=\"https://colab.research.google.com/github/kkimtaejung/All_heuristic/blob/GAN/GAN_Tensorflow.ipynb\" target=\"_parent\"><img src=\"https://colab.research.google.com/assets/colab-badge.svg\" alt=\"Open In Colab\"/></a>"
      ]
    },
    {
      "cell_type": "markdown",
      "source": [
        "# 블로그 참고\n",
        "\n",
        "https://m.blog.naver.com/euleekwon/221560040601"
      ],
      "metadata": {
        "id": "kRhXfn-DltIr"
      }
    },
    {
      "cell_type": "markdown",
      "source": [
        "코드 안돌아감 버전 낮아서"
      ],
      "metadata": {
        "id": "p_RVYHcIwc7G"
      }
    },
    {
      "cell_type": "markdown",
      "source": [
        "## 패키지 불러오기"
      ],
      "metadata": {
        "id": "WpyjPn9hlyAJ"
      }
    },
    {
      "cell_type": "code",
      "execution_count": null,
      "metadata": {
        "id": "D6xhoVAfliga"
      },
      "outputs": [],
      "source": [
        "import tensorflow as tf\n",
        "import numpy as np\n",
        "import matplotlib.pyplot as plt"
      ]
    },
    {
      "cell_type": "markdown",
      "source": [
        "## 데이터 불러오기 (MNIST)"
      ],
      "metadata": {
        "id": "T17KEZCul0hW"
      }
    },
    {
      "cell_type": "code",
      "source": [
        "from tensorflow.examples.tutorials.mnist import input_data\n",
        "mnist = input_data.read_data_sets(\"./mnist/data/\", one_hot=True)"
      ],
      "metadata": {
        "id": "H8QYzrtwl2gn"
      },
      "execution_count": null,
      "outputs": []
    },
    {
      "cell_type": "markdown",
      "source": [
        "## 데이터 확인하기"
      ],
      "metadata": {
        "id": "Jgltoovfl4WK"
      }
    },
    {
      "cell_type": "code",
      "source": [
        "print(mnist.train.images)\n",
        "print(\"---------\")\n",
        "print(mnist.train.labels)\n",
        "print(\"---------\")\n",
        "print(mnist.train.images, mnist.train.labels"
      ],
      "metadata": {
        "id": "AJuIZBx4l7wD"
      },
      "execution_count": null,
      "outputs": []
    },
    {
      "cell_type": "markdown",
      "source": [
        "## 파라미터 설정하기"
      ],
      "metadata": {
        "id": "LKrYBoxAl-Sg"
      }
    },
    {
      "cell_type": "code",
      "source": [
        "total_epochs = 100\n",
        "batch_size = 100\n",
        "learning_rate = 0.0002"
      ],
      "metadata": {
        "id": "FBrnp4pil_oK"
      },
      "execution_count": null,
      "outputs": []
    },
    {
      "cell_type": "markdown",
      "source": [
        "## 신경망 레이어 Parameter 설정하기"
      ],
      "metadata": {
        "id": "uve4Dm9zmBd_"
      }
    },
    {
      "cell_type": "code",
      "source": [
        "n_hidden = 256\n",
        "n_input = 28 * 28\n",
        "n_noise = 128 "
      ],
      "metadata": {
        "id": "9xM5AP3omEjw"
      },
      "execution_count": null,
      "outputs": []
    },
    {
      "cell_type": "markdown",
      "source": [
        "## 신경망 모델 제작하기"
      ],
      "metadata": {
        "id": "S9Bx84qUmE-o"
      }
    },
    {
      "cell_type": "code",
      "source": [
        "# Placeholder을 선언해준다.\n",
        "X = tf.placeholder(tf.float32, [None, n_input])\n",
        "Z = tf.placeholder(tf.float32, [None, n_noise])"
      ],
      "metadata": {
        "id": "H4QH9WI1mJFm"
      },
      "execution_count": null,
      "outputs": []
    },
    {
      "cell_type": "markdown",
      "source": [
        "### Generator 모델 구성"
      ],
      "metadata": {
        "id": "OhoWsqkDmNyl"
      }
    },
    {
      "cell_type": "code",
      "source": [
        "# Generator 신경망에 사용하는 Variable를 선언한다.\n",
        "G_W1 = tf.Variable(tf.random_normal([n_noise, n_hidden], stddev=0.01))\n",
        "G_b1 = tf.Variable(tf.zeros([n_hidden]))\n",
        "G_W2 = tf.Variable(tf.random_normal([n_hidden, n_input], stddev=0.01))\n",
        "G_b2 = tf.Variable(tf.zeros([n_input]))\n",
        "\n",
        "# 생성기(G) 신경망을 구성한다(128 -> 256 -> 28*28)\n",
        "def generator(noise_z):\n",
        "    hidden = tf.nn.relu(\n",
        "                    tf.matmul(noise_z, G_W1) + G_b1)\n",
        "    output = tf.nn.sigmoid(\n",
        "                    tf.matmul(hidden, G_W2) + G_b2)\n",
        "\n",
        "    return output"
      ],
      "metadata": {
        "id": "Kwud0q4cmQbG"
      },
      "execution_count": null,
      "outputs": []
    },
    {
      "cell_type": "markdown",
      "source": [
        "### Discriminator 모델 구성"
      ],
      "metadata": {
        "id": "M-_X7YmfmTnh"
      }
    },
    {
      "cell_type": "code",
      "source": [
        "# Discriminator 신경망에 사용하는 Variable을 선언한다.\n",
        "D_W1 = tf.Variable(tf.random_normal([n_input, n_hidden], stddev=0.01))\n",
        "D_b1 = tf.Variable(tf.zeros([n_hidden]))\n",
        "D_W2 = tf.Variable(tf.random_normal([n_hidden, 1], stddev=0.01))\n",
        "D_b2 = tf.Variable(tf.zeros([1]))\n",
        "\n",
        "# 판별기(D) 신경망을 구성한다.(28*28 -> 256 -> 1)\n",
        "def discriminator(inputs):\n",
        "    hidden = tf.nn.relu(\n",
        "                    tf.matmul(inputs, D_W1) + D_b1)\n",
        "    output = tf.nn.sigmoid(\n",
        "                    tf.matmul(hidden, D_W2) + D_b2)\n",
        "\n",
        "    return output"
      ],
      "metadata": {
        "id": "3lRBP0SpmWQV"
      },
      "execution_count": null,
      "outputs": []
    },
    {
      "cell_type": "markdown",
      "source": [
        "### 랜덤 노이즈 생성한 G,D 사용"
      ],
      "metadata": {
        "id": "0_GcA9U4mX3K"
      }
    },
    {
      "cell_type": "code",
      "source": [
        "# 랜덤한 Noise를 만든다.\n",
        "def get_noise(batch_size, n_noise):\n",
        "    return np.random.normal(size=(batch_size, n_noise))\n",
        "\n",
        "G = generator(Z) # 노이즈를 이용해 랜덤한 이미지를 생성한다.\n",
        "D_gene = discriminator(G) # 노이즈를 이용해 생성한 이미지가 진짜 이미지인지 판별한 값을 구한다.\n",
        "D_real = discriminator(X) # 진짜 이미지를 이용해 판별한 값을 구한다."
      ],
      "metadata": {
        "id": "NU8dw15omeEE"
      },
      "execution_count": null,
      "outputs": []
    },
    {
      "cell_type": "markdown",
      "source": [
        "### loss, optimiser, learning rate 설정"
      ],
      "metadata": {
        "id": "soIKKMo-mi8k"
      }
    },
    {
      "cell_type": "code",
      "source": [
        "loss_D = -tf.reduce_mean(tf.log(D_real) + tf.log(1 - D_gene))\n",
        "loss_G = -tf.reduce_mean(tf.log(D_gene)\n",
        "\n",
        "D_var_list = [D_W1, D_b1, D_W2, D_b2]\n",
        "G_var_list = [G_W1, G_b1, G_W2, G_b2]\n",
        "\n",
        "train_D = tf.train.AdamOptimizer(learning_rate).minimize(loss_D,\n",
        "                                                         var_list=D_var_list)\n",
        "train_G = tf.train.AdamOptimizer(learning_rate).minimize(loss_G,\n",
        "                                                         var_list=G_var_list)"
      ],
      "metadata": {
        "id": "JnzxMI5Vmq4M"
      },
      "execution_count": null,
      "outputs": []
    },
    {
      "cell_type": "markdown",
      "source": [
        "## 신경망 모델 학습하기"
      ],
      "metadata": {
        "id": "8AB31_grmwZr"
      }
    },
    {
      "cell_type": "code",
      "source": [
        "sess = tf.Session() #Launch session.\n",
        "sess.run(tf.global_variables_initializer()) #변수 초기화 진행.\n",
        "\n",
        "total_batch = int(mnist.train.num_examples/batch_size) \n",
        "loss_val_D, loss_val_G = 0, 0 #Loss값 초기값 설정\n",
        "\n",
        "for epoch in range(total_epoch):\n",
        "    for i in range(total_batch):\n",
        "        batch_xs, batch_ys = mnist.train.next_batch(batch_size)\n",
        "        noise = get_noise(batch_size, n_noise)\n",
        "\n",
        "        # 판별기와 생성기 신경망을 각각 학습.\n",
        "        _, loss_val_D = sess.run([train_D, loss_D],\n",
        "                                 feed_dict={X: batch_xs, Z: noise})\n",
        "        _, loss_val_G = sess.run([train_G, loss_G],\n",
        "                                 feed_dict={Z: noise})\n",
        "\n",
        "    # Epoch 가 진행될때마다 D의 Loss 값과 G의 Loss 값을 출력한다.\n",
        "    print('Epoch:', '%04d' % epoch,\n",
        "          'D loss: {:.4}'.format(loss_val_D),\n",
        "          'G loss: {:.4}'.format(loss_val_G))\n",
        "\n",
        "    # 주기적으로 이미지를 생성하여 저장\n",
        "    if epoch == 0 or (epoch + 1) % 10 == 0:\n",
        "        sample_size = 10\n",
        "        noise = get_noise(sample_size, n_noise)\n",
        "        samples = sess.run(G, feed_dict={Z: noise})\n",
        "\n",
        "        fig, ax = plt.subplots(1, sample_size, figsize=(sample_size, 1))\n",
        "\n",
        "        for i in range(sample_size):\n",
        "            ax[i].set_axis_off()\n",
        "            ax[i].imshow(np.reshape(samples[i], (28, 28)))\n",
        "\n",
        "        #result 라는 폴더를 미리 만들어서 사용하였다.\n",
        "        plt.savefig('./result/{}.png'.format(str(epoch).zfill(3)), bbox_inches='tight')\n",
        "        plt.close(fig)\n",
        "\n",
        "print('최적화 완료!')"
      ],
      "metadata": {
        "id": "E5U2Yz9Nm0GC"
      },
      "execution_count": null,
      "outputs": []
    },
    {
      "cell_type": "code",
      "source": [],
      "metadata": {
        "id": "V9oVoaktm0Dm"
      },
      "execution_count": null,
      "outputs": []
    }
  ]
}