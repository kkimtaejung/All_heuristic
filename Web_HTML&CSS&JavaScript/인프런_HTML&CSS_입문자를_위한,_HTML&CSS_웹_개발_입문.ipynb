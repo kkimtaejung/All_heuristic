{
  "nbformat": 4,
  "nbformat_minor": 0,
  "metadata": {
    "colab": {
      "private_outputs": true,
      "provenance": []
    },
    "kernelspec": {
      "name": "python3",
      "display_name": "Python 3"
    },
    "language_info": {
      "name": "python"
    }
  },
  "cells": [
    {
      "cell_type": "markdown",
      "source": [
        "# HTML"
      ],
      "metadata": {
        "id": "iqY8N2sAjuOM"
      }
    },
    {
      "cell_type": "markdown",
      "source": [
        "##폰트 태그"
      ],
      "metadata": {
        "id": "3QXAYTzTkTTf"
      }
    },
    {
      "cell_type": "markdown",
      "source": [
        "###글꼴 태그"
      ],
      "metadata": {
        "id": "0ixRm0oSjmV0"
      }
    },
    {
      "cell_type": "markdown",
      "source": [
        "- h1~h6\n",
        "  - 웹 페이지 제목 부제목 표시\n",
        "- p\n",
        "  - 하나의 문단 표시\n",
        "- hr\n",
        "  - 가로 선 긋는 태그\n",
        "- br\n",
        "  - 줄바꿈 태그\n",
        "- i\n",
        "  - 텍스트를 이텔릭체로 표시\n",
        "- em\n",
        "  - 텍스트를 이텔릭체로 강조\n",
        "- b\n",
        "  - 텍스트 진하게 표시\n",
        "- strong\n",
        "  - 텍스트를 진하게 강조\n",
        "- b 태그, i 태그\n",
        "  - 단순히 텍스트를 진하게, 이텔릭체로 표시\n",
        "- strong 태그, em 태그\n",
        "  - 실제로 페이지 내의 중요한 부분으로 강조\n"
      ],
      "metadata": {
        "id": "5TBB7tn_klRo"
      }
    },
    {
      "cell_type": "markdown",
      "source": [
        "###목록 태그"
      ],
      "metadata": {
        "id": "urH9k4KDlVIV"
      }
    },
    {
      "cell_type": "markdown",
      "source": [
        "- ol\n",
        "  - 순서 있는 목록 나타낼 때 사용\n",
        "- ul\n",
        "  - 순서 없는 목록 나타낼 때 사용\n",
        "- li\n",
        "  - 목록 하위 항목으로 사용, ul,ol의 하위에 위치\n",
        "- dl\n",
        "  - 사전처럼 용어를 설명하는 목록 만듬\n",
        "- dt\n",
        "  - 정의되는 용어의 제목에 사용\n",
        "- dd\n",
        "  - 용어를 설명하는데 사용\n",
        "\n",
        "- 주의\n",
        "  - dl 태그는 하나 이상의 dt-dd쌍의 태그가 필요\n",
        "  - li,dt,dd 태그는 독립적으로 사용 불가\n",
        "  - ul태그 하위요소로 li태그가 위치해야 함"
      ],
      "metadata": {
        "id": "sat3jCshlZJQ"
      }
    }
  ]
}