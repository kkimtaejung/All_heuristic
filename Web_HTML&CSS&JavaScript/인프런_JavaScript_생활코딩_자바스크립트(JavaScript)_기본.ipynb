{
  "nbformat": 4,
  "nbformat_minor": 0,
  "metadata": {
    "colab": {
      "private_outputs": true,
      "provenance": []
    },
    "kernelspec": {
      "name": "python3",
      "display_name": "Python 3"
    },
    "language_info": {
      "name": "python"
    }
  },
  "cells": [
    {
      "cell_type": "markdown",
      "source": [
        "# JavaScript"
      ],
      "metadata": {
        "id": "CyvCxjLHrsOT"
      }
    },
    {
      "cell_type": "markdown",
      "source": [
        "- 웹브라우저를 제어하기 위한 기술로써 JavaScript\n",
        "  - 언어\n",
        "- 웹서버를 제어하기 위한 기술로써 Node.js\n",
        "  - 환경"
      ],
      "metadata": {
        "id": "ZiA3nq2QruGB"
      }
    },
    {
      "cell_type": "markdown",
      "source": [
        "## 숫자와 문자"
      ],
      "metadata": {
        "id": "P0jGRt1DuhbM"
      }
    },
    {
      "cell_type": "markdown",
      "source": [
        "https://www.inflearn.com/course/%EC%A7%80%EB%B0%94%EC%8A%A4%ED%81%AC%EB%A6%BD%ED%8A%B8-%EC%96%B8%EC%96%B4-%EA%B8%B0%EB%B3%B8/unit/2467?tab=curriculum"
      ],
      "metadata": {
        "id": "0oHlRIY-2W_y"
      }
    },
    {
      "cell_type": "code",
      "source": [
        "<!DOCTYPE html>\n",
        "<html>\n",
        "<head>\n",
        "\t<meta charset=\"utf-8\">\n",
        "\t<meta name=\"viewport\" content=\"width=device-width, initial-scale=1\">\n",
        "\t<title></title>\n",
        "</head>\n",
        "<body>\n",
        "<script type=\"text/javascript\">\n",
        "\t//정수 실수 구분 안함\n",
        "\t//alert(2*1.2)\n",
        "\n",
        "\t//제곱\n",
        "\t//alert(Math.pow(3,2))\n",
        "\n",
        "\t//반올림\n",
        "\t//alert(Math.round(10.6))\n",
        "\n",
        "\t//반내림\n",
        "\t//alert(Math.ceil(10.2))\n",
        "\n",
        "\t//랜덤값 (0~1사이 실수)\n",
        "\t//alert(Math.random())\n",
        "\n",
        "\t//랜덤값을 반올림 해서 정수로 출력\n",
        "\t//alert(Math.round(100*Math.random()))\n",
        "\n",
        "\t//문자\n",
        "\t/*alert(\"안녕\")\n",
        "\talert('안녕')\n",
        "\talert('안\\'녕')*/\n",
        "\n",
        "\t//타입\n",
        "\ttypeof \"string\"\n",
        "\ttypeof 1 //number\n",
        "\n",
        "\t//여러줄 표시\n",
        "\talert(\"하이\\n줄바꿈\")\n",
        "\n",
        "\t//문자연산\n",
        "\talert(\"하\"+\"이\")\n",
        "\t//-> 뒤에 붙음\n",
        "\n",
        "\t//문자길이\n",
        "\t\"code\".length\n",
        "\n",
        "\t//문자열 특정 인덱스 번호\n",
        "\t\"code\".indexOf(\"c\")\n",
        "</script>\n",
        "</body>\n",
        "</html>"
      ],
      "metadata": {
        "id": "-Wupox2G2alO"
      },
      "execution_count": null,
      "outputs": []
    }
  ]
}