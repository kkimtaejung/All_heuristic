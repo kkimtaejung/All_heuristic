{
  "nbformat": 4,
  "nbformat_minor": 0,
  "metadata": {
    "colab": {
      "provenance": [],
      "collapsed_sections": [
        "1IVawPpMy5Tt",
        "CmC55Hbgy-uc",
        "qTDZSsvEzULP",
        "4K0cfELOzzJR"
      ]
    },
    "kernelspec": {
      "name": "python3",
      "display_name": "Python 3"
    },
    "language_info": {
      "name": "python"
    },
    "gpuClass": "standard",
    "accelerator": "GPU"
  },
  "cells": [
    {
      "cell_type": "markdown",
      "source": [
        "## 드라이브 연동"
      ],
      "metadata": {
        "id": "1IVawPpMy5Tt"
      }
    },
    {
      "cell_type": "markdown",
      "source": [
        "####colab에서는 파일을 가져다쓰기 위해 항상 아래와 같은 코드로 google drive와 연동을 시켜주어야 합니다."
      ],
      "metadata": {
        "id": "TV7m6k3zHdmG"
      }
    },
    {
      "cell_type": "code",
      "source": [
        "from google.colab import drive\n",
        "\n",
        "drive.mount(\"/content/gdrive\")"
      ],
      "metadata": {
        "colab": {
          "base_uri": "https://localhost:8080/"
        },
        "id": "O21wU-eJu6BL",
        "outputId": "2c1dcb50-43cf-45c2-a1ca-72470988ab39"
      },
      "execution_count": null,
      "outputs": [
        {
          "output_type": "stream",
          "name": "stdout",
          "text": [
            "Mounted at /content/gdrive\n"
          ]
        }
      ]
    },
    {
      "cell_type": "markdown",
      "source": [
        "## 단순 선형 회귀 (키-몸무게 예측)"
      ],
      "metadata": {
        "id": "CmC55Hbgy-uc"
      }
    },
    {
      "cell_type": "markdown",
      "source": [
        "####가장 기본적인 선형 회귀 입니다.\n",
        "####A라는 데이터셋이 있을 때, B를 예측하고 싶을때 사용하는 코드이며, 주석을 참고해주세요.\n",
        "####Ex. 몸무게가 주어졌을 때, 키를 예측하는 문제"
      ],
      "metadata": {
        "id": "b3tUM6WjHo9V"
      }
    },
    {
      "cell_type": "code",
      "execution_count": null,
      "metadata": {
        "colab": {
          "base_uri": "https://localhost:8080/",
          "height": 265
        },
        "id": "eRbKNSPXux2P",
        "outputId": "6f8ff6c8-b039-4a22-e09d-c441a8db1b3e"
      },
      "outputs": [
        {
          "output_type": "display_data",
          "data": {
            "text/plain": [
              "<Figure size 432x288 with 1 Axes>"
            ],
            "image/png": "[encoded data removed]"
          },
          "metadata": {
            "needs_background": "light"
          }
        }
      ],
      "source": [
        "import numpy as np  #numpy는 행렬 데이터를 다루기 위해 사용되며, 데이터셋이 일차원 행렬로 주어지기 때문에 numpy라는 패키지를 불러와 사용합니다.\n",
        "# np란 numpy를 np라고 줄여서 사용하겠다는 의미입니다.\n",
        "import matplotlib.pyplot as plt #그래프로 내가 만든 모델을 시각적으로 표현하여서 보여주기 위해 matplotlib패키지를 불러옵니다.\n",
        "# plt란 앞으로 그래프를 그릴 때 plt라고 줄여 말하겠다는 의미입니다.\n",
        "import pandas as pd # 파일을 불러올때 pandas패키지에서 지원하는 함수를 이용해야하기 때문에 pandas 패키지를 불러옵니다.\n",
        "# pd란 pandas를 pd라고 줄여서 사용하겠다는 의미입니다.\n",
        "\n",
        "data = pd.read_csv(r'/content/gdrive/MyDrive/kaggle/반복횟수별 점수 (2).csv')\n",
        "# data라는 새로운 변수를 만듭니다, pandas약칭 pd.read_csv라는 함수는 csv함수를 불러오는 명령어로 ()안에 파일 이동경로를 붙여넣기하면 됩니다.\n",
        "# csv파일이란, excel파일에서 다른이름으로 저장할 때, 저장되는 파일 형식을 csv로 지정하면 됩니다.\n",
        "data.head()\n",
        "# 불러온 csv파일의 머리부분을 보여준다는 표시입니다. 대략적인 데이터셋의 5-10개 정도를 출력해서 보여줍니다.\n",
        "\n",
        "x=np.array(data['공부시간'])\n",
        "# x라는 변수를 만듭니다. numpy에서 제공하는 array함수를 이용해서 x축에 들어갈 데이터를 배열형태로 만듭니다.\n",
        "# 예를 들어, x축에 들어갈 데이터가 1,2,3,4,5 라면, x = [1,2,3,4,5] 형식으로 데이터를 배열 상태로 넣어줍니다.\n",
        "y=np.array(data['점수'])\n",
        "# y라는 변수를 만듭니다. 위와 마찬가지로 y축에 넣을 데이터를 배열 형태로 저장해줍니다.\n",
        "\n",
        "def CostFunction(x,y,a,b):\n",
        "    return sum((x*a+b-y)**2)/2/len(y)\n",
        "# 비용함수(CostFunction)를 만들어줍니다. 선형회귀 비용함수에 대한 내용은 검색해보세요.\n",
        "# 요약하면, 비용함수란 오차의 정도를 나타내서 적을수록 좋은 모델이라는 것입니다.\n",
        "# x는 x축 데이터, y는 y축 데이터, a는 기울기 weight, b는 편향값 bias를 뜻합니다.\n",
        "\n",
        "def Grad_a(x,y,a,b):\n",
        "    return sum((a*x+b-y)*x)/len(y)\n",
        "# a = weight 에 대한 기울기를 수정할 때 사용할 Grad_a함수를 정의합니다.\n",
        "# 앞으로 weight에서 Grad_a값을 학습마다 빼주면서 weight값을 조정해나갑니다.\n",
        "def Grad_b(x,y,a,b):\n",
        "    return sum(a*x+b)/len(y)\n",
        "# b = bias도 마찬가지로 위와 같이 편향값을 조정해 나갑니다.\n",
        "\n",
        "def Train(x,y,Iteration,LearningRate):\n",
        "    # x,y,반복횟수,학습률\n",
        "    a,b=0,0\n",
        "    # 초기 weight = a, bias = b 를 초기화해줍니다, 저는 그냥 초기 0으로 설정했습니다.\n",
        "    Trace=[] \n",
        "    # 비용함수의 변화를 말합니다. 점점 학습을 하면서 비용함수가 줄어들겁니다. \n",
        "    for _ in range(Iteration):\n",
        "    # 반복문을 이용하여 반복횟수만큼 학습을 돌려줍니다.\n",
        "        Trace.append(CostFunction(x, y, a, b))\n",
        "        # 위에서 Trace라는 배열을 만들었는데, 여기에 앞서 만들었던 비용함수 값을 넣어주면 됩니다. Trace는 비용함수를 담는 그릇입니다.\n",
        "        g_a = Grad_a(x,y,a,b)\n",
        "        # 앞서 a에서 뺄 값에 대한 함수를 정의했는데, g_a라는 함수로 좀 더 보기 편하게 만들어줍니다.\n",
        "        g_b = Grad_b(x,y,a,b)\n",
        "        # 위와 동일 이유\n",
        "        a-=LearningRate*g_a\n",
        "        # weight=a 값을 학습마다 조정해줍니다. -=로 재귀함수 특성을 이용해 a값에서 학습률*g_a 값을 빼줍니다.\n",
        "        b-=LearningRate*g_b\n",
        "        # 위와 동일\n",
        "    return [a,b,Trace]\n",
        "    # 함수에 대한 반환값으로 기울기,편향값,비용함수를 출력해서 보여줍니다.\n",
        "# Train이라는 함수 정의, 학습을 돌릴 때 실행될 코드를 정의해줍니다.\n",
        "# x는 x축 데이터, y는 y축 데이터, Iteration은 반복 횟수, LearningRate 는 학습률을 뜻합니다.\n",
        "# 학습률은 검색해보세요. 요약하면 weight와 bias가 어느 비율로 수정될지 정합니다.\n",
        "\n",
        "a,b,Trace = Train(x,y,1000,0.0001)\n",
        "#여기서 0.0001은 학습률이고, 1000은 학습 반복횟수입니다.\n",
        "#Train이라는 함수를 앞서 정의했고, 우리는 이제 a,b,Trace라는 변수에 넣어줍니다. 라고 이해하세요 파이썬 입니다.\n",
        "plt.scatter(x,y)\n",
        "# 앞서 그래프 출력하는 함수입니다, (x,y)데이터를 점으로 출력해줍니다.\n",
        "plt.plot([min(x),max(x)],np.array([min(x),max(x)])*a+b)\n",
        "# x,y의 최대 최소 값을 축에 표시해줍니다.\n",
        "plt.show()\n",
        "# 그래프 보여줍니다."
      ]
    },
    {
      "cell_type": "markdown",
      "source": [
        "####앞선 선형회귀에서 테스트를 할 데이터와, 훈련을 할 데이터를 나누어보겠습니다."
      ],
      "metadata": {
        "id": "HaeV6jP9NEou"
      }
    },
    {
      "cell_type": "code",
      "source": [
        "import numpy as np \n",
        "import matplotlib.pyplot as plt \n",
        "import pandas as pd\n",
        "\n",
        "data = pd.read_csv(r\"/content/gdrive/MyDrive/kaggle/반복횟수별 점수_simple.csv\")\n",
        "data.head()\n",
        "\n",
        "from sklearn.model_selection import train_test_split\n",
        "# sklearn이라는 패키지를 불러와 함수로 test데이터와 train데이터를 분리할 수 있습니다.\n",
        "x=np.array(data['공부시간'])\n",
        "y=np.array(data['점수'])\n",
        "x_train, x_test, y_train, y_test = train_test_split(x, y, train_size=0.8, test_size=0.2)\n",
        "# 앞서 sklearn이라는 패키지를 불러왔는데, train_test_split함수를 이용해서 훈련데이터는 0.8 -> 80%, 테스트데이터는 0.2->20%로 나눕니다.\n",
        "\n",
        "def CostFunction(x,y,w,b):\n",
        "    return sum((np.dot(x,w)+b-y)**2)/len(x)\n",
        "\n",
        "def Grad_a(x,y,w,b):\n",
        "    return sum((np.dot(x,w)+b-y)*x*2)/len(x)\n",
        "def Grad_b(x,y,w,b):\n",
        "    return sum(np.dot(x,w)+b-y)*2/len(x)\n",
        "\n",
        "def Train(x,y,epoch,LearningRate):\n",
        "    w=0\n",
        "    # 앞서 a = weight라고 했는데, 헷갈리니까 w = weight라고 할게요.\n",
        "    b=0\n",
        "    Trace=[]\n",
        "    for i in range(epoch):\n",
        "      Trace.append(CostFunction(x, y, w,b))\n",
        "      g_w = Grad_a(x,y,w,b)\n",
        "      g_b = Grad_b(x,y,w,b)\n",
        "      w-=LearningRate*g_w\n",
        "      b-=LearningRate*g_b\n",
        "      \n",
        "      \n",
        "      if i % 1000 == 0:\n",
        "      # 조건문을 사용하여 위에선 시각적으로 표현해주지 않았지만, 그래프만 보여주면 잘 모르니까\n",
        "      # weight , bias , 비용함수 값을 수정전과 수정후로 출력해줍니다.\n",
        "      # 값에 대한 해석은 알아서 하십쇼 충분히 가능합니다. \n",
        "            print(\"w :\", w,'\\n')\n",
        "            print(\"b :\", b,'\\n')\n",
        "            print(\"cost_F :\", Trace,'\\n')\n",
        "            print(\"g_w :\", g_w,'\\n')\n",
        "            print(\"g_b :\", g_b,'\\n')\n",
        "            print(\"up_w :\", w,'\\n')\n",
        "            print(\"up_b :\", b,'\\n')\n",
        "            plt.scatter(x,y)\n",
        "            plt.plot([min(x),max(x)],np.array([min(x),max(x)])*w)\n",
        "            plt.show()   \n",
        "            # 그래프 출력을 앞서서는 학습이 모두 끝나고 결과만 보여줬는데\n",
        "            # 여기선 학습 1000번마다 그래프를 보여주기로 합시다.\n",
        "    return [w,b,Trace]\n",
        "\n",
        "w,b,Trace = Train(x,y,10000,0.01)"
      ],
      "metadata": {
        "colab": {
          "base_uri": "https://localhost:8080/",
          "height": 396
        },
        "id": "sCT3nSZEvzHa",
        "outputId": "ea4aea10-92f1-41e9-95dd-d6a795d92a2c"
      },
      "execution_count": null,
      "outputs": [
        {
          "output_type": "error",
          "ename": "UFuncTypeError",
          "evalue": "ignored",
          "traceback": [
            "\u001b[0;31m---------------------------------------------------------------------------\u001b[0m",
            "\u001b[0;31mUFuncTypeError\u001b[0m                            Traceback (most recent call last)",
            "\u001b[0;32m<ipython-input-11-6cad84d18028>\u001b[0m in \u001b[0;36m<module>\u001b[0;34m\u001b[0m\n\u001b[1;32m     52\u001b[0m     \u001b[0;32mreturn\u001b[0m \u001b[0;34m[\u001b[0m\u001b[0mw\u001b[0m\u001b[0;34m,\u001b[0m\u001b[0mb\u001b[0m\u001b[0;34m,\u001b[0m\u001b[0mTrace\u001b[0m\u001b[0;34m]\u001b[0m\u001b[0;34m\u001b[0m\u001b[0;34m\u001b[0m\u001b[0m\n\u001b[1;32m     53\u001b[0m \u001b[0;34m\u001b[0m\u001b[0m\n\u001b[0;32m---> 54\u001b[0;31m \u001b[0mw\u001b[0m\u001b[0;34m,\u001b[0m\u001b[0mb\u001b[0m\u001b[0;34m,\u001b[0m\u001b[0mTrace\u001b[0m \u001b[0;34m=\u001b[0m \u001b[0mTrain\u001b[0m\u001b[0;34m(\u001b[0m\u001b[0mx\u001b[0m\u001b[0;34m,\u001b[0m\u001b[0my\u001b[0m\u001b[0;34m,\u001b[0m\u001b[0;36m10000\u001b[0m\u001b[0;34m,\u001b[0m\u001b[0;36m0.01\u001b[0m\u001b[0;34m)\u001b[0m\u001b[0;34m\u001b[0m\u001b[0;34m\u001b[0m\u001b[0m\n\u001b[0m",
            "\u001b[0;32m<ipython-input-11-6cad84d18028>\u001b[0m in \u001b[0;36mTrain\u001b[0;34m(x, y, epoch, LearningRate)\u001b[0m\n\u001b[1;32m     27\u001b[0m     \u001b[0mTrace\u001b[0m\u001b[0;34m=\u001b[0m\u001b[0;34m[\u001b[0m\u001b[0;34m]\u001b[0m\u001b[0;34m\u001b[0m\u001b[0;34m\u001b[0m\u001b[0m\n\u001b[1;32m     28\u001b[0m     \u001b[0;32mfor\u001b[0m \u001b[0mi\u001b[0m \u001b[0;32min\u001b[0m \u001b[0mrange\u001b[0m\u001b[0;34m(\u001b[0m\u001b[0mepoch\u001b[0m\u001b[0;34m)\u001b[0m\u001b[0;34m:\u001b[0m\u001b[0;34m\u001b[0m\u001b[0;34m\u001b[0m\u001b[0m\n\u001b[0;32m---> 29\u001b[0;31m       \u001b[0mTrace\u001b[0m\u001b[0;34m.\u001b[0m\u001b[0mappend\u001b[0m\u001b[0;34m(\u001b[0m\u001b[0mCostFunction\u001b[0m\u001b[0;34m(\u001b[0m\u001b[0mx\u001b[0m\u001b[0;34m,\u001b[0m \u001b[0my\u001b[0m\u001b[0;34m,\u001b[0m \u001b[0mw\u001b[0m\u001b[0;34m,\u001b[0m\u001b[0mb\u001b[0m\u001b[0;34m)\u001b[0m\u001b[0;34m)\u001b[0m\u001b[0;34m\u001b[0m\u001b[0;34m\u001b[0m\u001b[0m\n\u001b[0m\u001b[1;32m     30\u001b[0m       \u001b[0mg_w\u001b[0m \u001b[0;34m=\u001b[0m \u001b[0mGrad_a\u001b[0m\u001b[0;34m(\u001b[0m\u001b[0mx\u001b[0m\u001b[0;34m,\u001b[0m\u001b[0my\u001b[0m\u001b[0;34m,\u001b[0m\u001b[0mw\u001b[0m\u001b[0;34m,\u001b[0m\u001b[0mb\u001b[0m\u001b[0;34m)\u001b[0m\u001b[0;34m\u001b[0m\u001b[0;34m\u001b[0m\u001b[0m\n\u001b[1;32m     31\u001b[0m       \u001b[0mg_b\u001b[0m \u001b[0;34m=\u001b[0m \u001b[0mGrad_b\u001b[0m\u001b[0;34m(\u001b[0m\u001b[0mx\u001b[0m\u001b[0;34m,\u001b[0m\u001b[0my\u001b[0m\u001b[0;34m,\u001b[0m\u001b[0mw\u001b[0m\u001b[0;34m,\u001b[0m\u001b[0mb\u001b[0m\u001b[0;34m)\u001b[0m\u001b[0;34m\u001b[0m\u001b[0;34m\u001b[0m\u001b[0m\n",
            "\u001b[0;32m<ipython-input-11-6cad84d18028>\u001b[0m in \u001b[0;36mCostFunction\u001b[0;34m(x, y, w, b)\u001b[0m\n\u001b[1;32m     14\u001b[0m \u001b[0;34m\u001b[0m\u001b[0m\n\u001b[1;32m     15\u001b[0m \u001b[0;32mdef\u001b[0m \u001b[0mCostFunction\u001b[0m\u001b[0;34m(\u001b[0m\u001b[0mx\u001b[0m\u001b[0;34m,\u001b[0m\u001b[0my\u001b[0m\u001b[0;34m,\u001b[0m\u001b[0mw\u001b[0m\u001b[0;34m,\u001b[0m\u001b[0mb\u001b[0m\u001b[0;34m)\u001b[0m\u001b[0;34m:\u001b[0m\u001b[0;34m\u001b[0m\u001b[0;34m\u001b[0m\u001b[0m\n\u001b[0;32m---> 16\u001b[0;31m     \u001b[0;32mreturn\u001b[0m \u001b[0msum\u001b[0m\u001b[0;34m(\u001b[0m\u001b[0;34m(\u001b[0m\u001b[0mnp\u001b[0m\u001b[0;34m.\u001b[0m\u001b[0mdot\u001b[0m\u001b[0;34m(\u001b[0m\u001b[0mx\u001b[0m\u001b[0;34m,\u001b[0m\u001b[0mw\u001b[0m\u001b[0;34m)\u001b[0m\u001b[0;34m+\u001b[0m\u001b[0mb\u001b[0m\u001b[0;34m-\u001b[0m\u001b[0my\u001b[0m\u001b[0;34m)\u001b[0m\u001b[0;34m**\u001b[0m\u001b[0;36m2\u001b[0m\u001b[0;34m)\u001b[0m\u001b[0;34m/\u001b[0m\u001b[0mlen\u001b[0m\u001b[0;34m(\u001b[0m\u001b[0mx\u001b[0m\u001b[0;34m)\u001b[0m\u001b[0;34m\u001b[0m\u001b[0;34m\u001b[0m\u001b[0m\n\u001b[0m\u001b[1;32m     17\u001b[0m \u001b[0;34m\u001b[0m\u001b[0m\n\u001b[1;32m     18\u001b[0m \u001b[0;32mdef\u001b[0m \u001b[0mGrad_a\u001b[0m\u001b[0;34m(\u001b[0m\u001b[0mx\u001b[0m\u001b[0;34m,\u001b[0m\u001b[0my\u001b[0m\u001b[0;34m,\u001b[0m\u001b[0mw\u001b[0m\u001b[0;34m,\u001b[0m\u001b[0mb\u001b[0m\u001b[0;34m)\u001b[0m\u001b[0;34m:\u001b[0m\u001b[0;34m\u001b[0m\u001b[0;34m\u001b[0m\u001b[0m\n",
            "\u001b[0;32m<__array_function__ internals>\u001b[0m in \u001b[0;36mdot\u001b[0;34m(*args, **kwargs)\u001b[0m\n",
            "\u001b[0;31mUFuncTypeError\u001b[0m: ufunc 'multiply' did not contain a loop with signature matching types (dtype('<U4'), dtype('<U1')) -> None"
          ]
        }
      ]
    },
    {
      "cell_type": "markdown",
      "source": [
        "## 다중 선형 회귀 (대학교 학점)"
      ],
      "metadata": {
        "id": "qTDZSsvEzULP"
      }
    },
    {
      "cell_type": "markdown",
      "source": [
        "####앞선 선형 회귀는 x가 하나인 단순 선형 회귀에 대한 내용이며, 본격적으로 x가 여러개인 다중 선형 회귀를 배우겠습니다. "
      ],
      "metadata": {
        "id": "WREkO1BvO4lL"
      }
    },
    {
      "cell_type": "code",
      "source": [
        "\n",
        "\n",
        "# %% 회귀선\n",
        "import numpy as np \n",
        "import matplotlib.pyplot as plt # 그래프\n",
        "import pandas as pd\n",
        "from sklearn.model_selection import train_test_split\n",
        "\n",
        "data = pd.read_csv(r\"/content/gdrive/MyDrive/kaggle/대학교 학점_다중회귀.csv\")\n",
        "data.head()\n",
        "\n",
        "x=np.array([['퀴즈점수','중간점수','기말점수','과제점수']])\n",
        "# x라는 특성이 여러개로, 4개의 x에 대한 특성으로 y를 예측합니다.\n",
        "y=np.array(['학점'])\n",
        "\n",
        "\n",
        "\n",
        "def CostFunction(x,y,w,b):\n",
        "    return sum((np.dot(x,w)+b-y)**2)/len(x)\n",
        "\n",
        "def Grad_a(x,y,w,b):\n",
        "    return sum((np.dot(x,w)+b-y)*x)/len(x)\n",
        "def Grad_b(x,y,w,b):\n",
        "    return sum(np.dot(x,w)+b)/len(x)\n",
        "\n",
        "def Train(x,y,epoch,LearningRate):\n",
        "# Iteration을 반복횟수라고 했는데 마음대로 정하시면 되고, 원래 명칭은 epoch이니 epoch라고 할게요.\n",
        "# 학습횟수를 딥러닝 용어로 공식적으로 epoch라고 합니다.\n",
        "    w,b=0,0\n",
        "    Trace=[]\n",
        "    for i in range(epoch):\n",
        "        if i % 100 == 0:\n",
        "        #이번엔 100번마다 출력해줄거임 내마음\n",
        "            print(\"w :\", w,\"/ b :\",b,'\\n')\n",
        "            Trace.append(CostFunction(x, y, w, b))\n",
        "            print(\"cost_F :\", Trace,'\\n')\n",
        "            g_w = Grad_a(x,y,w,b)\n",
        "            g_b = Grad_b(x,y,w,b)\n",
        "            print(\"g_w :\", g_w,\"/ g_b :\",g_b,'\\n')\n",
        "            w-=LearningRate*g_w\n",
        "            b-=LearningRate*g_b\n",
        "            print(\"up_w :\", w,\"/ up_b :\",b,'\\n')\n",
        "            plt.scatter(x,y)\n",
        "            plt.plot([min(x),max(x)],np.array([min(x),max(x)])*w+b)\n",
        "            plt.show()\n",
        "        \n",
        "        \n",
        "    return [a,b,Trace]\n",
        "\n",
        "w,b,Trace = Train(x,y,1000,0.005)"
      ],
      "metadata": {
        "colab": {
          "base_uri": "https://localhost:8080/",
          "height": 432
        },
        "id": "A0coPUfcAlLX",
        "outputId": "a67378bf-15be-4a55-d0bc-40833d5f37f1"
      },
      "execution_count": null,
      "outputs": [
        {
          "output_type": "stream",
          "name": "stdout",
          "text": [
            "w : 0 / b : 0 \n",
            "\n"
          ]
        },
        {
          "output_type": "error",
          "ename": "UFuncTypeError",
          "evalue": "ignored",
          "traceback": [
            "\u001b[0;31m---------------------------------------------------------------------------\u001b[0m",
            "\u001b[0;31mUFuncTypeError\u001b[0m                            Traceback (most recent call last)",
            "\u001b[0;32m<ipython-input-12-9aeb59ebfb43>\u001b[0m in \u001b[0;36m<module>\u001b[0;34m\u001b[0m\n\u001b[1;32m     46\u001b[0m     \u001b[0;32mreturn\u001b[0m \u001b[0;34m[\u001b[0m\u001b[0ma\u001b[0m\u001b[0;34m,\u001b[0m\u001b[0mb\u001b[0m\u001b[0;34m,\u001b[0m\u001b[0mTrace\u001b[0m\u001b[0;34m]\u001b[0m\u001b[0;34m\u001b[0m\u001b[0;34m\u001b[0m\u001b[0m\n\u001b[1;32m     47\u001b[0m \u001b[0;34m\u001b[0m\u001b[0m\n\u001b[0;32m---> 48\u001b[0;31m \u001b[0mw\u001b[0m\u001b[0;34m,\u001b[0m\u001b[0mb\u001b[0m\u001b[0;34m,\u001b[0m\u001b[0mTrace\u001b[0m \u001b[0;34m=\u001b[0m \u001b[0mTrain\u001b[0m\u001b[0;34m(\u001b[0m\u001b[0mx\u001b[0m\u001b[0;34m,\u001b[0m\u001b[0my\u001b[0m\u001b[0;34m,\u001b[0m\u001b[0;36m1000\u001b[0m\u001b[0;34m,\u001b[0m\u001b[0;36m0.005\u001b[0m\u001b[0;34m)\u001b[0m\u001b[0;34m\u001b[0m\u001b[0;34m\u001b[0m\u001b[0m\n\u001b[0m",
            "\u001b[0;32m<ipython-input-12-9aeb59ebfb43>\u001b[0m in \u001b[0;36mTrain\u001b[0;34m(x, y, epoch, LearningRate)\u001b[0m\n\u001b[1;32m     31\u001b[0m         \u001b[0;31m#이번엔 100번마다 출력해줄거임 내마음\u001b[0m\u001b[0;34m\u001b[0m\u001b[0;34m\u001b[0m\u001b[0;34m\u001b[0m\u001b[0m\n\u001b[1;32m     32\u001b[0m             \u001b[0mprint\u001b[0m\u001b[0;34m(\u001b[0m\u001b[0;34m\"w :\"\u001b[0m\u001b[0;34m,\u001b[0m \u001b[0mw\u001b[0m\u001b[0;34m,\u001b[0m\u001b[0;34m\"/ b :\"\u001b[0m\u001b[0;34m,\u001b[0m\u001b[0mb\u001b[0m\u001b[0;34m,\u001b[0m\u001b[0;34m'\\n'\u001b[0m\u001b[0;34m)\u001b[0m\u001b[0;34m\u001b[0m\u001b[0;34m\u001b[0m\u001b[0m\n\u001b[0;32m---> 33\u001b[0;31m             \u001b[0mTrace\u001b[0m\u001b[0;34m.\u001b[0m\u001b[0mappend\u001b[0m\u001b[0;34m(\u001b[0m\u001b[0mCostFunction\u001b[0m\u001b[0;34m(\u001b[0m\u001b[0mx\u001b[0m\u001b[0;34m,\u001b[0m \u001b[0my\u001b[0m\u001b[0;34m,\u001b[0m \u001b[0mw\u001b[0m\u001b[0;34m,\u001b[0m \u001b[0mb\u001b[0m\u001b[0;34m)\u001b[0m\u001b[0;34m)\u001b[0m\u001b[0;34m\u001b[0m\u001b[0;34m\u001b[0m\u001b[0m\n\u001b[0m\u001b[1;32m     34\u001b[0m             \u001b[0mprint\u001b[0m\u001b[0;34m(\u001b[0m\u001b[0;34m\"cost_F :\"\u001b[0m\u001b[0;34m,\u001b[0m \u001b[0mTrace\u001b[0m\u001b[0;34m,\u001b[0m\u001b[0;34m'\\n'\u001b[0m\u001b[0;34m)\u001b[0m\u001b[0;34m\u001b[0m\u001b[0;34m\u001b[0m\u001b[0m\n\u001b[1;32m     35\u001b[0m             \u001b[0mg_w\u001b[0m \u001b[0;34m=\u001b[0m \u001b[0mGrad_a\u001b[0m\u001b[0;34m(\u001b[0m\u001b[0mx\u001b[0m\u001b[0;34m,\u001b[0m\u001b[0my\u001b[0m\u001b[0;34m,\u001b[0m\u001b[0mw\u001b[0m\u001b[0;34m,\u001b[0m\u001b[0mb\u001b[0m\u001b[0;34m)\u001b[0m\u001b[0;34m\u001b[0m\u001b[0;34m\u001b[0m\u001b[0m\n",
            "\u001b[0;32m<ipython-input-12-9aeb59ebfb43>\u001b[0m in \u001b[0;36mCostFunction\u001b[0;34m(x, y, w, b)\u001b[0m\n\u001b[1;32m     15\u001b[0m \u001b[0;34m\u001b[0m\u001b[0m\n\u001b[1;32m     16\u001b[0m \u001b[0;32mdef\u001b[0m \u001b[0mCostFunction\u001b[0m\u001b[0;34m(\u001b[0m\u001b[0mx\u001b[0m\u001b[0;34m,\u001b[0m\u001b[0my\u001b[0m\u001b[0;34m,\u001b[0m\u001b[0mw\u001b[0m\u001b[0;34m,\u001b[0m\u001b[0mb\u001b[0m\u001b[0;34m)\u001b[0m\u001b[0;34m:\u001b[0m\u001b[0;34m\u001b[0m\u001b[0;34m\u001b[0m\u001b[0m\n\u001b[0;32m---> 17\u001b[0;31m     \u001b[0;32mreturn\u001b[0m \u001b[0msum\u001b[0m\u001b[0;34m(\u001b[0m\u001b[0;34m(\u001b[0m\u001b[0mnp\u001b[0m\u001b[0;34m.\u001b[0m\u001b[0mdot\u001b[0m\u001b[0;34m(\u001b[0m\u001b[0mx\u001b[0m\u001b[0;34m,\u001b[0m\u001b[0mw\u001b[0m\u001b[0;34m)\u001b[0m\u001b[0;34m+\u001b[0m\u001b[0mb\u001b[0m\u001b[0;34m-\u001b[0m\u001b[0my\u001b[0m\u001b[0;34m)\u001b[0m\u001b[0;34m**\u001b[0m\u001b[0;36m2\u001b[0m\u001b[0;34m)\u001b[0m\u001b[0;34m/\u001b[0m\u001b[0mlen\u001b[0m\u001b[0;34m(\u001b[0m\u001b[0mx\u001b[0m\u001b[0;34m)\u001b[0m\u001b[0;34m\u001b[0m\u001b[0;34m\u001b[0m\u001b[0m\n\u001b[0m\u001b[1;32m     18\u001b[0m \u001b[0;34m\u001b[0m\u001b[0m\n\u001b[1;32m     19\u001b[0m \u001b[0;32mdef\u001b[0m \u001b[0mGrad_a\u001b[0m\u001b[0;34m(\u001b[0m\u001b[0mx\u001b[0m\u001b[0;34m,\u001b[0m\u001b[0my\u001b[0m\u001b[0;34m,\u001b[0m\u001b[0mw\u001b[0m\u001b[0;34m,\u001b[0m\u001b[0mb\u001b[0m\u001b[0;34m)\u001b[0m\u001b[0;34m:\u001b[0m\u001b[0;34m\u001b[0m\u001b[0;34m\u001b[0m\u001b[0m\n",
            "\u001b[0;32m<__array_function__ internals>\u001b[0m in \u001b[0;36mdot\u001b[0;34m(*args, **kwargs)\u001b[0m\n",
            "\u001b[0;31mUFuncTypeError\u001b[0m: ufunc 'multiply' did not contain a loop with signature matching types (dtype('<U4'), dtype('<U1')) -> None"
          ]
        }
      ]
    },
    {
      "cell_type": "markdown",
      "source": [
        "## 그외 나머지"
      ],
      "metadata": {
        "id": "4K0cfELOzzJR"
      }
    },
    {
      "cell_type": "markdown",
      "source": [
        "#### 이 아래부터는 선형회귀와 관련하여 시각적으로 표현하기 좋게 만든 코드들입니다.\n",
        "#### 참고해주시고 잘 활용해주세요. 선형 회귀는 위의 내용만으로 충분합니다."
      ],
      "metadata": {
        "id": "eOTTsArTPSg4"
      }
    },
    {
      "cell_type": "code",
      "source": [
        "# %% 회귀선\n",
        "import numpy as np \n",
        "import matplotlib.pyplot as plt # 그래프\n",
        "import pandas as pd\n",
        "\n",
        "df = pd.read_csv(\"/content/gdrive/MyDrive/kaggle/Boston_house.csv\")\n",
        "df.head()\n",
        "\n",
        "from sklearn.model_selection import train_test_split\n",
        "x = df[['AGE'\t,'B'\t,'RM'\t,'CRIM',\t'DIS',\t'INDUS',\t'LSTAT',\t'NOX',\t'PTRATIO', 'RAD',\t'ZN',\t'TAX',\t'CHAS',\t'Target']]\n",
        "y = df[['Target']]\n",
        "x_train, x_test, y_train, y_test = train_test_split(x, y, train_size=0.8, test_size=0.2)\n",
        "\n",
        "from sklearn.linear_model import LinearRegression\n",
        "mlr = LinearRegression()\n",
        "mlr.fit(x_train, y_train) \n",
        "\n",
        "y_predict = mlr.predict(x_test)\n",
        "\n",
        "import matplotlib.pyplot as plt\n",
        "plt.scatter(y_test, y_predict, alpha=0.4)\n",
        "plt.xlabel(\"Actual\")\n",
        "plt.ylabel(\"Predicted\")\n",
        "plt.title(\"MULTIPLE LINEAR REGRESSION\")\n",
        "plt.show()\n",
        "\n",
        "# AGE와 TAarget관계\n",
        "plt.scatter(df[['AGE']], df[['Target']], alpha=0.4)\n",
        "plt.show()"
      ],
      "metadata": {
        "colab": {
          "base_uri": "https://localhost:8080/",
          "height": 543
        },
        "id": "_wiq4uudwtib",
        "outputId": "c826889c-16b0-4641-ad49-97c6cc88581f"
      },
      "execution_count": null,
      "outputs": [
        {
          "output_type": "display_data",
          "data": {
            "text/plain": [
              "<Figure size 432x288 with 1 Axes>"
            ],
            "image/png": "[encoded data removed]"
          },
          "metadata": {
            "needs_background": "light"
          }
        },
        {
          "output_type": "display_data",
          "data": {
            "text/plain": [
              "<Figure size 432x288 with 1 Axes>"
            ],
            "image/png": "[encoded data removed]"
          },
          "metadata": {
            "needs_background": "light"
          }
        }
      ]
    },
    {
      "cell_type": "markdown",
      "source": [
        "### https://kimdingko-world.tistory.com/101\n",
        "### 코드 사이트 설명"
      ],
      "metadata": {
        "id": "fouu59B_8hX0"
      }
    },
    {
      "cell_type": "code",
      "source": [
        "import pandas as pd\n",
        "from sklearn.linear_model import LinearRegression\n",
        "from sklearn.model_selection import train_test_split\n",
        "import matplotlib.pyplot as plt\n",
        "import numpy as np\n",
        "\n",
        "data = pd.read_csv(r\"/content/gdrive/MyDrive/kaggle/반복횟수별 점수 (2).csv\")\n",
        "data.head()\n",
        "\n",
        "#'AGE'\t,'B'\t,'RM'\t,'CRIM',\t'DIS',\t'INDUS',\t'LSTAT',\t'NOX',\t'PTRATIO', 'RAD',\t'ZN',\t'TAX',\t'CHAS',\t'Target'\n",
        "\n",
        "X = data['공부시간']\n",
        "Y = data['점수']\n",
        "#plt.plot(X,Y,'g.')\n",
        "#plt.plot(X2,Y,'r. ')\n",
        "#plt.xlabel('AGE')\n",
        "#plt.ylabel('Target')\n",
        "\n",
        "x_train, x_test, y_train, y_test = train_test_split(X,Y, test_size=0.3, random_state = 50)\n",
        "print(len(x_train), len(x_test))\n",
        "\n",
        "# 전체 데이터의 70%를 사용한 분포도 입니다.\n",
        "\n",
        "# fig, axes = plt.subplots(2, 1)\n",
        "\n",
        "# axes[0].plot(x_train, y_train, 'b.')\n",
        "# axes[1].plot(x_test, y_test, 'r.')\n",
        "\n",
        "# 선형회귀 모델 생성\n",
        "\n",
        "lr = LinearRegression()\n",
        "lr.fit(x_train.values.reshape(-1,1), y_train) # train 데이터 학습\n",
        "\n",
        "#기울기 절편\n",
        "[lr.coef_,lr.intercept_]\n",
        "\n",
        "f = lambda x: lr.intercept_ + (lr.coef_ * x)\n",
        "\n",
        "import numpy as np\n",
        "\n",
        "x = np.array([min(x_train), max(x_train)])\n",
        "\n",
        "# train data set\n",
        "# plt.plot(x_train, y_train, 'b.')\n",
        "# plt.xlabel('AGE')\n",
        "# plt.ylabel('Target')\n",
        "# plt.plot(x, f(x), color = 'r')\n",
        "\n",
        "# 결정계수 값\n",
        "lr.score(x_train.values.reshape(-1,1),y_train)\n",
        "\n",
        "x = np.array([min(x_test), max(x_test)])\n",
        "\n",
        "# test data set\n",
        "# plt.plot(x_test, y_test, '.', color ='r')\n",
        "# plt.xlabel('AGE')\n",
        "# plt.ylabel('Target')\n",
        "# plt.plot(x, f(x), color = 'blue')\n",
        "\n",
        "# 결정계수 값\n",
        "lr.score(x_test.values.reshape(-1,1),y_test)\n",
        "\n",
        "plt.plot(y_test[:20].values.reshape(-1, 1), label=\"real value\")\n",
        "plt.plot(lr.predict(x_test[:20].values.reshape(-1,1)), label=\"predict value\")\n",
        "plt.legend()"
      ],
      "metadata": {
        "colab": {
          "base_uri": "https://localhost:8080/",
          "height": 305
        },
        "id": "chyJiQFh8_dd",
        "outputId": "303d3f3e-2bbd-4fcb-b954-e9d7a09f26fc"
      },
      "execution_count": null,
      "outputs": [
        {
          "output_type": "stream",
          "name": "stdout",
          "text": [
            "7 3\n"
          ]
        },
        {
          "output_type": "execute_result",
          "data": {
            "text/plain": [
              "<matplotlib.legend.Legend at 0x7f1e6b401710>"
            ]
          },
          "metadata": {},
          "execution_count": 40
        },
        {
          "output_type": "display_data",
          "data": {
            "text/plain": [
              "<Figure size 432x288 with 1 Axes>"
            ],
            "image/png": "[encoded data removed]"
          },
          "metadata": {
            "needs_background": "light"
          }
        }
      ]
    },
    {
      "cell_type": "code",
      "source": [
        "import pandas as pd\n",
        "from sklearn.linear_model import LinearRegression\n",
        "from sklearn.model_selection import train_test_split\n",
        "import matplotlib.pyplot as plt\n",
        "import numpy as np\n",
        "\n",
        "import matplotlib.pyplot as plt\n",
        "\n",
        "plt.rc('font', family='NanumBarunGothic')\n",
        "\n",
        "data = pd.read_csv(r\"/content/gdrive/MyDrive/kaggle/반복횟수별 점수 (1).csv\")\n",
        "data.head()\n",
        "\n",
        "# !sudo apt-get install -y fonts-nanum\n",
        "# !sudo fc-cache -fv\n",
        "# !rm ~/.cache/matplotlib -rf\n",
        "\n",
        "X = data['공부시간']\n",
        "Y = data['점수']\n",
        "plt.plot(X,Y,'g.')\n",
        "plt.xlabel('공부시간')\n",
        "plt.ylabel('점수')"
      ],
      "metadata": {
        "colab": {
          "base_uri": "https://localhost:8080/",
          "height": 715
        },
        "id": "hrYQrFLH5Cns",
        "outputId": "9f45dae6-ad87-4c71-e188-7b292d0e42f1"
      },
      "execution_count": null,
      "outputs": [
        {
          "output_type": "execute_result",
          "data": {
            "text/plain": [
              "Text(0, 0.5, '점수')"
            ]
          },
          "metadata": {},
          "execution_count": 27
        },
        {
          "output_type": "stream",
          "name": "stderr",
          "text": [
            "/usr/local/lib/python3.7/dist-packages/matplotlib/backends/backend_agg.py:214: RuntimeWarning: Glyph 44277 missing from current font.\n",
            "  font.set_text(s, 0.0, flags=flags)\n",
            "/usr/local/lib/python3.7/dist-packages/matplotlib/backends/backend_agg.py:214: RuntimeWarning: Glyph 48512 missing from current font.\n",
            "  font.set_text(s, 0.0, flags=flags)\n",
            "/usr/local/lib/python3.7/dist-packages/matplotlib/backends/backend_agg.py:214: RuntimeWarning: Glyph 49884 missing from current font.\n",
            "  font.set_text(s, 0.0, flags=flags)\n",
            "/usr/local/lib/python3.7/dist-packages/matplotlib/backends/backend_agg.py:214: RuntimeWarning: Glyph 44036 missing from current font.\n",
            "  font.set_text(s, 0.0, flags=flags)\n",
            "/usr/local/lib/python3.7/dist-packages/matplotlib/backends/backend_agg.py:183: RuntimeWarning: Glyph 44277 missing from current font.\n",
            "  font.set_text(s, 0, flags=flags)\n",
            "/usr/local/lib/python3.7/dist-packages/matplotlib/backends/backend_agg.py:183: RuntimeWarning: Glyph 48512 missing from current font.\n",
            "  font.set_text(s, 0, flags=flags)\n",
            "/usr/local/lib/python3.7/dist-packages/matplotlib/backends/backend_agg.py:183: RuntimeWarning: Glyph 49884 missing from current font.\n",
            "  font.set_text(s, 0, flags=flags)\n",
            "/usr/local/lib/python3.7/dist-packages/matplotlib/backends/backend_agg.py:183: RuntimeWarning: Glyph 44036 missing from current font.\n",
            "  font.set_text(s, 0, flags=flags)\n",
            "/usr/local/lib/python3.7/dist-packages/matplotlib/backends/backend_agg.py:214: RuntimeWarning: Glyph 51216 missing from current font.\n",
            "  font.set_text(s, 0.0, flags=flags)\n",
            "/usr/local/lib/python3.7/dist-packages/matplotlib/backends/backend_agg.py:214: RuntimeWarning: Glyph 49688 missing from current font.\n",
            "  font.set_text(s, 0.0, flags=flags)\n",
            "/usr/local/lib/python3.7/dist-packages/matplotlib/backends/backend_agg.py:183: RuntimeWarning: Glyph 51216 missing from current font.\n",
            "  font.set_text(s, 0, flags=flags)\n",
            "/usr/local/lib/python3.7/dist-packages/matplotlib/backends/backend_agg.py:183: RuntimeWarning: Glyph 49688 missing from current font.\n",
            "  font.set_text(s, 0, flags=flags)\n"
          ]
        },
        {
          "output_type": "display_data",
          "data": {
            "text/plain": [
              "<Figure size 432x288 with 1 Axes>"
            ],
            "image/png": "[encoded data removed]"
          },
          "metadata": {
            "needs_background": "light"
          }
        }
      ]
    },
    {
      "cell_type": "code",
      "source": [
        "x_train, x_test, y_train, y_test = train_test_split(X,Y, test_size=0.3, random_state = 50)\n",
        "print(len(x_train), len(x_test))"
      ],
      "metadata": {
        "colab": {
          "base_uri": "https://localhost:8080/"
        },
        "id": "2toI75Qm7je7",
        "outputId": "ead1709e-56e8-4688-b484-cbd053d44a92"
      },
      "execution_count": null,
      "outputs": [
        {
          "output_type": "stream",
          "name": "stdout",
          "text": [
            "35 15\n"
          ]
        }
      ]
    },
    {
      "cell_type": "code",
      "source": [
        "# 전체 데이터의 70%를 사용한 분포도 입니다.\n",
        "\n",
        "fig, axes = plt.subplots(2, 1)\n",
        "\n",
        "axes[0].plot(x_train, y_train, 'b.')\n",
        "axes[1].plot(x_test, y_test, 'r.')"
      ],
      "metadata": {
        "colab": {
          "base_uri": "https://localhost:8080/",
          "height": 284
        },
        "id": "WiX1bzS67uGM",
        "outputId": "b2feb33f-4b4c-4fc8-ca64-2974cd697202"
      },
      "execution_count": null,
      "outputs": [
        {
          "output_type": "execute_result",
          "data": {
            "text/plain": [
              "[<matplotlib.lines.Line2D at 0x7f1e6bf211d0>]"
            ]
          },
          "metadata": {},
          "execution_count": 29
        },
        {
          "output_type": "display_data",
          "data": {
            "text/plain": [
              "<Figure size 432x288 with 2 Axes>"
            ],
            "image/png": "[encoded data removed]"
          },
          "metadata": {
            "needs_background": "light"
          }
        }
      ]
    },
    {
      "cell_type": "code",
      "source": [
        "# 선형회귀 모델 생성\n",
        "\n",
        "lr = LinearRegression()\n",
        "lr.fit(x_train.values.reshape(-1,1), y_train) # train 데이터 학습\n",
        "\n",
        "#기울기 절편\n",
        "[lr.coef_,lr.intercept_]"
      ],
      "metadata": {
        "colab": {
          "base_uri": "https://localhost:8080/"
        },
        "id": "1Aii-EBv7zoU",
        "outputId": "6aa66223-3182-4f30-96f4-1929993c2125"
      },
      "execution_count": null,
      "outputs": [
        {
          "output_type": "execute_result",
          "data": {
            "text/plain": [
              "[array([2.75369299]), 36.332234232904355]"
            ]
          },
          "metadata": {},
          "execution_count": 30
        }
      ]
    },
    {
      "cell_type": "code",
      "source": [
        "f = lambda x: lr.intercept_ + (lr.coef_ * x)\n",
        "\n",
        "import numpy as np\n",
        "\n",
        "x = np.array([min(x_train), max(x_train)])\n",
        "\n",
        "# train data set\n",
        "plt.plot(x_train, y_train, 'b.')\n",
        "plt.xlabel('공부시간')\n",
        "plt.ylabel('성적')\n",
        "plt.plot(x, f(x), color = 'r')"
      ],
      "metadata": {
        "colab": {
          "base_uri": "https://localhost:8080/",
          "height": 733
        },
        "id": "ByzjbYUV768k",
        "outputId": "2caa52cc-e17d-4aed-fe78-ec09f27e4933"
      },
      "execution_count": null,
      "outputs": [
        {
          "output_type": "execute_result",
          "data": {
            "text/plain": [
              "[<matplotlib.lines.Line2D at 0x7f1e6d2f6b90>]"
            ]
          },
          "metadata": {},
          "execution_count": 31
        },
        {
          "output_type": "stream",
          "name": "stderr",
          "text": [
            "/usr/local/lib/python3.7/dist-packages/matplotlib/backends/backend_agg.py:214: RuntimeWarning: Glyph 44277 missing from current font.\n",
            "  font.set_text(s, 0.0, flags=flags)\n",
            "/usr/local/lib/python3.7/dist-packages/matplotlib/backends/backend_agg.py:214: RuntimeWarning: Glyph 48512 missing from current font.\n",
            "  font.set_text(s, 0.0, flags=flags)\n",
            "/usr/local/lib/python3.7/dist-packages/matplotlib/backends/backend_agg.py:214: RuntimeWarning: Glyph 49884 missing from current font.\n",
            "  font.set_text(s, 0.0, flags=flags)\n",
            "/usr/local/lib/python3.7/dist-packages/matplotlib/backends/backend_agg.py:214: RuntimeWarning: Glyph 44036 missing from current font.\n",
            "  font.set_text(s, 0.0, flags=flags)\n",
            "/usr/local/lib/python3.7/dist-packages/matplotlib/backends/backend_agg.py:183: RuntimeWarning: Glyph 44277 missing from current font.\n",
            "  font.set_text(s, 0, flags=flags)\n",
            "/usr/local/lib/python3.7/dist-packages/matplotlib/backends/backend_agg.py:183: RuntimeWarning: Glyph 48512 missing from current font.\n",
            "  font.set_text(s, 0, flags=flags)\n",
            "/usr/local/lib/python3.7/dist-packages/matplotlib/backends/backend_agg.py:183: RuntimeWarning: Glyph 49884 missing from current font.\n",
            "  font.set_text(s, 0, flags=flags)\n",
            "/usr/local/lib/python3.7/dist-packages/matplotlib/backends/backend_agg.py:183: RuntimeWarning: Glyph 44036 missing from current font.\n",
            "  font.set_text(s, 0, flags=flags)\n",
            "/usr/local/lib/python3.7/dist-packages/matplotlib/backends/backend_agg.py:214: RuntimeWarning: Glyph 49457 missing from current font.\n",
            "  font.set_text(s, 0.0, flags=flags)\n",
            "/usr/local/lib/python3.7/dist-packages/matplotlib/backends/backend_agg.py:214: RuntimeWarning: Glyph 51201 missing from current font.\n",
            "  font.set_text(s, 0.0, flags=flags)\n",
            "/usr/local/lib/python3.7/dist-packages/matplotlib/backends/backend_agg.py:183: RuntimeWarning: Glyph 49457 missing from current font.\n",
            "  font.set_text(s, 0, flags=flags)\n",
            "/usr/local/lib/python3.7/dist-packages/matplotlib/backends/backend_agg.py:183: RuntimeWarning: Glyph 51201 missing from current font.\n",
            "  font.set_text(s, 0, flags=flags)\n"
          ]
        },
        {
          "output_type": "display_data",
          "data": {
            "text/plain": [
              "<Figure size 432x288 with 1 Axes>"
            ],
            "image/png": "[encoded data removed]"
          },
          "metadata": {
            "needs_background": "light"
          }
        }
      ]
    },
    {
      "cell_type": "code",
      "source": [
        "# 결정계수 값\n",
        "lr.score(x_train.values.reshape(-1,1),y_train)"
      ],
      "metadata": {
        "colab": {
          "base_uri": "https://localhost:8080/"
        },
        "id": "4cCOBFDS8F68",
        "outputId": "0d19758d-7230-43ce-f555-93b0efe47b8e"
      },
      "execution_count": null,
      "outputs": [
        {
          "output_type": "execute_result",
          "data": {
            "text/plain": [
              "0.09147728837454072"
            ]
          },
          "metadata": {},
          "execution_count": 32
        }
      ]
    },
    {
      "cell_type": "code",
      "source": [
        "x = np.array([min(x_test), max(x_test)])\n",
        "\n",
        "# test data set\n",
        "plt.plot(x_test, y_test, '.', color ='r')\n",
        "plt.xlabel('공부시간')\n",
        "plt.ylabel('성적')\n",
        "plt.plot(x, f(x), color = 'blue')"
      ],
      "metadata": {
        "colab": {
          "base_uri": "https://localhost:8080/",
          "height": 733
        },
        "id": "JaM9dXV28HwV",
        "outputId": "ef4b6e62-71e3-4585-ab6c-8b158898af03"
      },
      "execution_count": null,
      "outputs": [
        {
          "output_type": "execute_result",
          "data": {
            "text/plain": [
              "[<matplotlib.lines.Line2D at 0x7f1e6b06d450>]"
            ]
          },
          "metadata": {},
          "execution_count": 33
        },
        {
          "output_type": "stream",
          "name": "stderr",
          "text": [
            "/usr/local/lib/python3.7/dist-packages/matplotlib/backends/backend_agg.py:214: RuntimeWarning: Glyph 44277 missing from current font.\n",
            "  font.set_text(s, 0.0, flags=flags)\n",
            "/usr/local/lib/python3.7/dist-packages/matplotlib/backends/backend_agg.py:214: RuntimeWarning: Glyph 48512 missing from current font.\n",
            "  font.set_text(s, 0.0, flags=flags)\n",
            "/usr/local/lib/python3.7/dist-packages/matplotlib/backends/backend_agg.py:214: RuntimeWarning: Glyph 49884 missing from current font.\n",
            "  font.set_text(s, 0.0, flags=flags)\n",
            "/usr/local/lib/python3.7/dist-packages/matplotlib/backends/backend_agg.py:214: RuntimeWarning: Glyph 44036 missing from current font.\n",
            "  font.set_text(s, 0.0, flags=flags)\n",
            "/usr/local/lib/python3.7/dist-packages/matplotlib/backends/backend_agg.py:183: RuntimeWarning: Glyph 44277 missing from current font.\n",
            "  font.set_text(s, 0, flags=flags)\n",
            "/usr/local/lib/python3.7/dist-packages/matplotlib/backends/backend_agg.py:183: RuntimeWarning: Glyph 48512 missing from current font.\n",
            "  font.set_text(s, 0, flags=flags)\n",
            "/usr/local/lib/python3.7/dist-packages/matplotlib/backends/backend_agg.py:183: RuntimeWarning: Glyph 49884 missing from current font.\n",
            "  font.set_text(s, 0, flags=flags)\n",
            "/usr/local/lib/python3.7/dist-packages/matplotlib/backends/backend_agg.py:183: RuntimeWarning: Glyph 44036 missing from current font.\n",
            "  font.set_text(s, 0, flags=flags)\n",
            "/usr/local/lib/python3.7/dist-packages/matplotlib/backends/backend_agg.py:214: RuntimeWarning: Glyph 49457 missing from current font.\n",
            "  font.set_text(s, 0.0, flags=flags)\n",
            "/usr/local/lib/python3.7/dist-packages/matplotlib/backends/backend_agg.py:214: RuntimeWarning: Glyph 51201 missing from current font.\n",
            "  font.set_text(s, 0.0, flags=flags)\n",
            "/usr/local/lib/python3.7/dist-packages/matplotlib/backends/backend_agg.py:183: RuntimeWarning: Glyph 49457 missing from current font.\n",
            "  font.set_text(s, 0, flags=flags)\n",
            "/usr/local/lib/python3.7/dist-packages/matplotlib/backends/backend_agg.py:183: RuntimeWarning: Glyph 51201 missing from current font.\n",
            "  font.set_text(s, 0, flags=flags)\n"
          ]
        },
        {
          "output_type": "display_data",
          "data": {
            "text/plain": [
              "<Figure size 432x288 with 1 Axes>"
            ],
            "image/png": "[encoded data removed]"
          },
          "metadata": {
            "needs_background": "light"
          }
        }
      ]
    },
    {
      "cell_type": "code",
      "source": [
        "# 결정계수 값\n",
        "lr.score(x_test.values.reshape(-1,1),y_test)"
      ],
      "metadata": {
        "colab": {
          "base_uri": "https://localhost:8080/"
        },
        "id": "9utJ-JaK8Md9",
        "outputId": "a42a06ec-eb62-4dd7-c497-79f5f79d355a"
      },
      "execution_count": null,
      "outputs": [
        {
          "output_type": "execute_result",
          "data": {
            "text/plain": [
              "-0.09481977249558926"
            ]
          },
          "metadata": {},
          "execution_count": 34
        }
      ]
    },
    {
      "cell_type": "code",
      "source": [
        "plt.plot(y_test[:20].values.reshape(-1, 1), label=\"real value\")\n",
        "plt.plot(lr.predict(x_test[:20].values.reshape(-1,1)), label=\"predict value\")\n",
        "plt.legend()"
      ],
      "metadata": {
        "colab": {
          "base_uri": "https://localhost:8080/",
          "height": 283
        },
        "id": "GfzsEf4y8PEM",
        "outputId": "d8bd40c0-8034-4be9-e886-ed2dc154a702"
      },
      "execution_count": null,
      "outputs": [
        {
          "output_type": "execute_result",
          "data": {
            "text/plain": [
              "<matplotlib.legend.Legend at 0x7f1e6cff2b10>"
            ]
          },
          "metadata": {},
          "execution_count": 35
        },
        {
          "output_type": "display_data",
          "data": {
            "text/plain": [
              "<Figure size 432x288 with 1 Axes>"
            ],
            "image/png": "[encoded data removed]"
          },
          "metadata": {
            "needs_background": "light"
          }
        }
      ]
    }
  ]
}