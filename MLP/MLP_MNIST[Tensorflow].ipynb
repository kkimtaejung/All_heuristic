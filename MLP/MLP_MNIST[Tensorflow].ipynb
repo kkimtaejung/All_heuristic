{
  "nbformat": 4,
  "nbformat_minor": 0,
  "metadata": {
    "colab": {
      "provenance": [],
      "collapsed_sections": [
        "2xhD21cJ2mYJ",
        "Ly4d2RWZ2olq",
        "jHjzL7SP2qx8",
        "kh-PR-TY2t7x",
        "j81e8nVe2vkp",
        "lWSV4vhX20M3",
        "FODQIrLZ23JD",
        "kURhfPEf255o"
      ]
    },
    "kernelspec": {
      "name": "python3",
      "display_name": "Python 3"
    },
    "language_info": {
      "name": "python"
    }
  },
  "cells": [
    {
      "cell_type": "markdown",
      "source": [
        "#다층 퍼셉트론으로 손글씨 숫자 분류[실습]"
      ],
      "metadata": {
        "id": "sFjxAfxTfLar"
      }
    },
    {
      "cell_type": "markdown",
      "source": [
        "###import"
      ],
      "metadata": {
        "id": "2xhD21cJ2mYJ"
      }
    },
    {
      "cell_type": "code",
      "source": [
        "from __future__ import absolute_import, division, print_function, unicode_literals\n",
        "\n",
        "try:\n",
        "  %tensorflow_version 2.x\n",
        "except Exception:\n",
        "  pass\n",
        "\n",
        "import tensorflow as tf\n",
        "\n",
        "# 항상 같은 결과를 갖기 위해 랜덤 시드 설정\n",
        "tf.random.set_seed(678)\n",
        "\n",
        "#라이브러리\n",
        "import tensorflow as tf\n",
        "from tensorflow.keras.models import Sequential\n",
        "from tensorflow.keras.layers import Flatten\n",
        "from tensorflow.keras.layers import Dense\n",
        "from tensorflow.keras.layers import Dropout\n",
        "from tensorflow.keras.layers import Activation\n",
        "from tensorflow.keras.callbacks import EarlyStopping, ModelCheckpoint\n",
        "from IPython.display import Image"
      ],
      "metadata": {
        "id": "yACPe9tdfQnx"
      },
      "execution_count": null,
      "outputs": []
    },
    {
      "cell_type": "markdown",
      "source": [
        "###load dataset"
      ],
      "metadata": {
        "id": "Ly4d2RWZ2olq"
      }
    },
    {
      "cell_type": "code",
      "source": [
        "#텐서플로의 MSIST 데이터셋 불러오기\n",
        "(x_train, y_train), (x_test, y_test) = tf.keras.datasets.mnist.load_data()\n",
        "print(x_train.shape)\n",
        "print(x_test.shape)\n",
        "# 데이터 셋은 6만개의 학습 데이터, 1만개의 테스트 데이터\n",
        "# 가로 28, 세로 28픽셀"
      ],
      "metadata": {
        "colab": {
          "base_uri": "https://localhost:8080/"
        },
        "id": "vOhApXHcfXWX",
        "outputId": "6d90135b-bf5d-4c9c-95d5-edcdcef63ce0"
      },
      "execution_count": null,
      "outputs": [
        {
          "output_type": "stream",
          "name": "stdout",
          "text": [
            "Downloading data from https://storage.googleapis.com/tensorflow/tf-keras-datasets/mnist.npz\n",
            "11493376/11490434 [==============================] - 0s 0us/step\n",
            "11501568/11490434 [==============================] - 0s 0us/step\n",
            "(60000, 28, 28)\n",
            "(10000, 28, 28)\n"
          ]
        }
      ]
    },
    {
      "cell_type": "markdown",
      "source": [
        "###dataset check"
      ],
      "metadata": {
        "id": "jHjzL7SP2qx8"
      }
    },
    {
      "cell_type": "code",
      "source": [
        "#픽셀 범위는 0-255, 0은 흰색, 255는 검은색\n",
        "print(\"train data has \" + str(x_train.shape[0]) + \" samples\")\n",
        "print(\"every train data is \" + str(x_train.shape[1]) \n",
        "      + \" * \" + str(x_train.shape[2]) + \" image\")\n",
        "\n",
        "#0-255까지 그레이 스케일 확인\n",
        "print(x_train[0][8])\n",
        "print(y_train[0:9])"
      ],
      "metadata": {
        "colab": {
          "base_uri": "https://localhost:8080/"
        },
        "id": "oqQgmPzAftMA",
        "outputId": "0f46b9d1-1a8c-4dbc-c557-a5c7a7fdd559"
      },
      "execution_count": null,
      "outputs": [
        {
          "output_type": "stream",
          "name": "stdout",
          "text": [
            "train data has 60000 samples\n",
            "every train data is 28 * 28 image\n",
            "[  0   0   0   0   0   0   0  18 219 253 253 253 253 253 198 182 247 241\n",
            "   0   0   0   0   0   0   0   0   0   0]\n",
            "[5 0 4 1 9 2 1 3 1]\n"
          ]
        }
      ]
    },
    {
      "cell_type": "markdown",
      "source": [
        "###normalization"
      ],
      "metadata": {
        "id": "kh-PR-TY2t7x"
      }
    },
    {
      "cell_type": "code",
      "source": [
        "#데이터를 255로 나눔으로써 모든 값을 0,1로 정규화\n",
        "x_train = x_train.astype('float32')\n",
        "x_test = x_test.astype('float32')\n",
        "\n",
        "gray_scale = 255\n",
        "x_train /= gray_scale\n",
        "x_test /= gray_scale"
      ],
      "metadata": {
        "id": "v5UXrs4pgKiz"
      },
      "execution_count": null,
      "outputs": []
    },
    {
      "cell_type": "markdown",
      "source": [
        "###model summary"
      ],
      "metadata": {
        "id": "j81e8nVe2vkp"
      }
    },
    {
      "cell_type": "code",
      "source": [
        "#다층 퍼셉트론의 입력 레이어에 데이터 넣기위해, 2차원 -> 1차원 형태로 데이터 형태를 바꾼다\n",
        "#행렬 데이터 -> 배열 데이터\n",
        "model = Sequential([\n",
        "    Flatten(input_shape=(28, 28)), # 데이터 차원 변경\n",
        "    Dense(256, activation='relu'), # 첫번째 히든 레이어 (h1)\n",
        "    Dense(128, activation='relu'), # 두번째 히든 레이어 (h2)\n",
        "    Dropout(0.1), # 두번째 히든 레이어(h2)에 드랍아웃(10%) 적용\n",
        "    Dense(10), # 세번째 히든 레이어 (logit)\n",
        "    Activation('softmax') # softmax layer\n",
        "])\n",
        "\n",
        "model.summary()\n",
        "#flatten & softmax는 노드가 없으므로 파라미터 존재 안함\n",
        "#첫번째 레이어가 784개 입력 받는 256개 노드 존재, 노드마다 편향값 하나씩 있으므로\n",
        "#784*256+256=200960개의 파라미터 존재"
      ],
      "metadata": {
        "colab": {
          "base_uri": "https://localhost:8080/"
        },
        "id": "nLQZqKkNgU6x",
        "outputId": "57c7509b-4503-42b1-f5f6-dbdbde7f898f"
      },
      "execution_count": null,
      "outputs": [
        {
          "output_type": "stream",
          "name": "stdout",
          "text": [
            "Model: \"sequential\"\n",
            "_________________________________________________________________\n",
            " Layer (type)                Output Shape              Param #   \n",
            "=================================================================\n",
            " flatten (Flatten)           (None, 784)               0         \n",
            "                                                                 \n",
            " dense (Dense)               (None, 256)               200960    \n",
            "                                                                 \n",
            " dense_1 (Dense)             (None, 128)               32896     \n",
            "                                                                 \n",
            " dropout (Dropout)           (None, 128)               0         \n",
            "                                                                 \n",
            " dense_2 (Dense)             (None, 10)                1290      \n",
            "                                                                 \n",
            " activation (Activation)     (None, 10)                0         \n",
            "                                                                 \n",
            "=================================================================\n",
            "Total params: 235,146\n",
            "Trainable params: 235,146\n",
            "Non-trainable params: 0\n",
            "_________________________________________________________________\n"
          ]
        }
      ]
    },
    {
      "cell_type": "markdown",
      "source": [
        "###model compile"
      ],
      "metadata": {
        "id": "lWSV4vhX20M3"
      }
    },
    {
      "cell_type": "code",
      "source": [
        "#손실함수, 최적화 방법 모델에 적용\n",
        "\"\"\"\n",
        "sparse_categorical_crossentropy:\n",
        "레이블을 원 핫 인코딩으로 자동으로 변경하여 크로스 엔트로피 측정합니다.\n",
        "\"\"\"\n",
        "model.compile(optimizer='adam',\n",
        "              loss='sparse_categorical_crossentropy',\n",
        "              metrics=['accuracy'])"
      ],
      "metadata": {
        "id": "puirxOTZgsLV"
      },
      "execution_count": null,
      "outputs": []
    },
    {
      "cell_type": "markdown",
      "source": [
        "###model train start"
      ],
      "metadata": {
        "id": "FODQIrLZ23JD"
      }
    },
    {
      "cell_type": "code",
      "source": [
        "#매 주기마다(Epoch) 검증 데이터로 검증 정확도 측정, 5번 연속으로 개선되지 않는다면\n",
        "#조기 종료, 이때 검증 정확도가 가장 높은 모델 저장\n",
        "callbacks = [EarlyStopping(monitor='val_accuracy', patience=5, restore_best_weights=False),\n",
        "             ModelCheckpoint(filepath='best_model.h5', monitor='val_accuracy', save_best_only=True)]\n",
        "\n",
        "model.fit(x_train, y_train, epochs=300, batch_size=1000, validation_split = 0.1, callbacks=callbacks)"
      ],
      "metadata": {
        "colab": {
          "base_uri": "https://localhost:8080/"
        },
        "id": "x49rhrnlhUo0",
        "outputId": "f0acb5da-8953-4f3d-dd1a-cb5794a0d3b0"
      },
      "execution_count": null,
      "outputs": [
        {
          "output_type": "stream",
          "name": "stdout",
          "text": [
            "Epoch 1/300\n",
            "54/54 [==============================] - 2s 28ms/step - loss: 0.6740 - accuracy: 0.8117 - val_loss: 0.2151 - val_accuracy: 0.9403\n",
            "Epoch 2/300\n",
            "54/54 [==============================] - 1s 25ms/step - loss: 0.2391 - accuracy: 0.9307 - val_loss: 0.1459 - val_accuracy: 0.9638\n",
            "Epoch 3/300\n",
            "54/54 [==============================] - 1s 25ms/step - loss: 0.1713 - accuracy: 0.9505 - val_loss: 0.1238 - val_accuracy: 0.9665\n",
            "Epoch 4/300\n",
            "54/54 [==============================] - 1s 25ms/step - loss: 0.1341 - accuracy: 0.9607 - val_loss: 0.1037 - val_accuracy: 0.9687\n",
            "Epoch 5/300\n",
            "54/54 [==============================] - 1s 25ms/step - loss: 0.1091 - accuracy: 0.9683 - val_loss: 0.0911 - val_accuracy: 0.9730\n",
            "Epoch 6/300\n",
            "54/54 [==============================] - 1s 25ms/step - loss: 0.0922 - accuracy: 0.9729 - val_loss: 0.0866 - val_accuracy: 0.9742\n",
            "Epoch 7/300\n",
            "54/54 [==============================] - 1s 25ms/step - loss: 0.0770 - accuracy: 0.9778 - val_loss: 0.0807 - val_accuracy: 0.9763\n",
            "Epoch 8/300\n",
            "54/54 [==============================] - 1s 25ms/step - loss: 0.0665 - accuracy: 0.9807 - val_loss: 0.0762 - val_accuracy: 0.9783\n",
            "Epoch 9/300\n",
            "54/54 [==============================] - 1s 24ms/step - loss: 0.0566 - accuracy: 0.9844 - val_loss: 0.0763 - val_accuracy: 0.9767\n",
            "Epoch 10/300\n",
            "54/54 [==============================] - 1s 25ms/step - loss: 0.0485 - accuracy: 0.9860 - val_loss: 0.0725 - val_accuracy: 0.9798\n",
            "Epoch 11/300\n",
            "54/54 [==============================] - 1s 25ms/step - loss: 0.0421 - accuracy: 0.9881 - val_loss: 0.0728 - val_accuracy: 0.9792\n",
            "Epoch 12/300\n",
            "54/54 [==============================] - 1s 24ms/step - loss: 0.0363 - accuracy: 0.9896 - val_loss: 0.0732 - val_accuracy: 0.9790\n",
            "Epoch 13/300\n",
            "54/54 [==============================] - 1s 26ms/step - loss: 0.0312 - accuracy: 0.9911 - val_loss: 0.0700 - val_accuracy: 0.9813\n",
            "Epoch 14/300\n",
            "54/54 [==============================] - 1s 25ms/step - loss: 0.0279 - accuracy: 0.9928 - val_loss: 0.0667 - val_accuracy: 0.9820\n",
            "Epoch 15/300\n",
            "54/54 [==============================] - 1s 25ms/step - loss: 0.0246 - accuracy: 0.9936 - val_loss: 0.0716 - val_accuracy: 0.9807\n",
            "Epoch 16/300\n",
            "54/54 [==============================] - 1s 24ms/step - loss: 0.0212 - accuracy: 0.9945 - val_loss: 0.0662 - val_accuracy: 0.9818\n",
            "Epoch 17/300\n",
            "54/54 [==============================] - 1s 24ms/step - loss: 0.0194 - accuracy: 0.9946 - val_loss: 0.0688 - val_accuracy: 0.9808\n",
            "Epoch 18/300\n",
            "54/54 [==============================] - 1s 24ms/step - loss: 0.0163 - accuracy: 0.9961 - val_loss: 0.0726 - val_accuracy: 0.9803\n",
            "Epoch 19/300\n",
            "54/54 [==============================] - 1s 25ms/step - loss: 0.0140 - accuracy: 0.9967 - val_loss: 0.0691 - val_accuracy: 0.9802\n"
          ]
        },
        {
          "output_type": "execute_result",
          "data": {
            "text/plain": [
              "<keras.callbacks.History at 0x7ff4732e4d90>"
            ]
          },
          "metadata": {},
          "execution_count": 9
        }
      ]
    },
    {
      "cell_type": "markdown",
      "source": [
        "### result"
      ],
      "metadata": {
        "id": "kURhfPEf255o"
      }
    },
    {
      "cell_type": "code",
      "source": [
        "results = model.evaluate(x_test,  y_test, verbose = 0)\n",
        "print('test loss, test acc:', results)"
      ],
      "metadata": {
        "colab": {
          "base_uri": "https://localhost:8080/"
        },
        "id": "eWqDzj9qhnvs",
        "outputId": "551ce95c-bb9e-48a1-9fa3-6a6c919f797a"
      },
      "execution_count": null,
      "outputs": [
        {
          "output_type": "stream",
          "name": "stdout",
          "text": [
            "test loss, test acc: [0.07280179113149643, 0.9789999723434448]\n"
          ]
        }
      ]
    }
  ]
}