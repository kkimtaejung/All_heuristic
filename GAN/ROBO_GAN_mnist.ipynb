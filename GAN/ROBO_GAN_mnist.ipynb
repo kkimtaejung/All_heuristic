{
  "nbformat": 4,
  "nbformat_minor": 0,
  "metadata": {
    "colab": {
      "private_outputs": true,
      "provenance": [],
      "collapsed_sections": [
        "7SioBwy87w0I",
        "WzR0Tsfl4dT3",
        "-do_zxza5-7Q",
        "ezugI-3x7y_C",
        "jcfh6NuwMTeY",
        "UPGShGryN8Qw",
        "V6621HNuQbW6",
        "kAew52v3STWt",
        "wr9bPY9aU1mF",
        "w5quFGbxVJwp",
        "uy9QbAVccHqo",
        "uyYDQdl1cNIh",
        "84MCrMFHch1w",
        "XLknXAs4flFf",
        "pNd4OcZRgn9D",
        "WK5lYHF8hGje",
        "KKVOrsjOk425",
        "dkkjfBb8lshN",
        "Z2cnNGgVrBUZ",
        "k-O1xd_be-i4"
      ],
      "mount_file_id": "1MEAtaWbUeBw3aUut0eYi_7Hu1VlMn7nl",
      "authorship_tag": "ABX9TyOMu1bhqeBpoZaSL+k35N4W",
      "include_colab_link": true
    },
    "kernelspec": {
      "name": "python3",
      "display_name": "Python 3"
    },
    "language_info": {
      "name": "python"
    },
    "gpuClass": "standard"
  },
  "cells": [
    {
      "cell_type": "markdown",
      "metadata": {
        "id": "view-in-github",
        "colab_type": "text"
      },
      "source": [
        "<a href=\"https://colab.research.google.com/github/kkimtaejung/All_heuristic/blob/GAN/ROBO_GAN_mnist.ipynb\" target=\"_parent\"><img src=\"https://colab.research.google.com/assets/colab-badge.svg\" alt=\"Open In Colab\"/></a>"
      ]
    },
    {
      "cell_type": "markdown",
      "source": [
        "# GAN 사전지식"
      ],
      "metadata": {
        "id": "_rqGW70t25Ia"
      }
    },
    {
      "cell_type": "markdown",
      "source": [
        "## 백쿼리"
      ],
      "metadata": {
        "id": "7SioBwy87w0I"
      }
    },
    {
      "cell_type": "markdown",
      "source": [
        "### 백쿼리 (역질의)\n",
        "- 기존의 MNIST는 (28*28) -> 784 -> 10개의 레이블로 출력\n",
        "- 10개의 레이블 출력값 -> 784 0=-> (28*28) 로 데이터 생성 -> 백쿼리!\n",
        "\n",
        "### 백쿼리 특징\n",
        "- 같은 원핫 인코딩 벡터 -> 같은 결과 출력\n",
        "- 특정 레이블을 나타내는 모든 훈련 데이터의 평균적인 이미지가 나온다\n",
        "\n",
        "### 백쿼리 한계\n",
        "- 평균같은 애매모호한 이미지가 아니라 훈련 샘플같은 이미지를 원함\n",
        "- 각각 서로 다른 이미지들을 만들어내길 원함\n",
        "- 간단한 백쿼리로는 불가능"
      ],
      "metadata": {
        "id": "rgY0Dwz927x1"
      }
    },
    {
      "cell_type": "markdown",
      "source": [
        "## 적대적 훈련"
      ],
      "metadata": {
        "id": "WzR0Tsfl4dT3"
      }
    },
    {
      "cell_type": "markdown",
      "source": [
        "1. 구조적으로 새로운 신경망\n",
        "\n",
        " 고양이, 고양이가 아님 -> 분류기에 넣고 -> 1 또는 0을 출력\n",
        "2. 고양이가 아닌 이미지를 자동으로 생성하는 생성기 구조\n",
        " \n",
        " 진짜 고양이, 가짜 고양이 생성기 -> 분류기에 넣고 -> 1또는 0을 출력\n",
        "3. 생성기에 보상과 벌을 주는 구조\n",
        "\n",
        " 진짜 그림, 생성기 -> 판별기에 넣고 -> 1또는 0을 출력\n",
        "\n",
        " 1) 생성기가 판별기를 속이면 보상을 줌\n",
        " \n",
        " 2) 생성기가 판별기에 잡히면 벌을 줌\n",
        "\n",
        "4. 생성기, 판별기를 동시에 훈련 (동시에 한다는게 중요!!!)\n",
        "\n",
        " 생성기에서 진짜 그림과 분간이 어려운 그림을 뽑아낼 수 있겠다!\n",
        " \n",
        " 생성적 적대 신경망 = GAN"
      ],
      "metadata": {
        "id": "ph86hj7O7uKK"
      }
    },
    {
      "cell_type": "markdown",
      "source": [
        "## GAN 훈련 방법"
      ],
      "metadata": {
        "id": "-do_zxza5-7Q"
      }
    },
    {
      "cell_type": "markdown",
      "source": [
        "1단계)\n",
        "\n",
        "- 판별기에 실제 데이터를 보여주고 1.0이라는 값이어야한다고 알려줌\n",
        "- 오차가 발생하면 이를 판별기를 업데이트하는데 사용함\n",
        "\n",
        "2단계)\n",
        "\n",
        "- 판별기에 생성기로 만들어진 가짜 데이터를 보여주고 0.0이어야 한다고 알려줌\n",
        "- 오차는 판별기만을 업데이트하는데 사용, 이 단계까지 생성기는 업데이트하지 못하도록 해야함\n",
        "\n",
        "3단계)\n",
        "\n",
        "- 판별기에 생성기의 결과를 보여주고, 생성기에 결과가 1.0이어야 한다고 알려줌\n",
        "- 오차는 생성기만을 업데이트하는데 사용, 이 단계에서 판별기는 업데이트 하지 않는다"
      ],
      "metadata": {
        "id": "4pMeuXWD7qhI"
      }
    },
    {
      "cell_type": "markdown",
      "source": [
        "### GAN 훈련의 어려움\n",
        "\n",
        "판별기와 생성기의 훈련이 균형을 맞아야함\n",
        "\n",
        "판별기가 너무 빨리 훈련되면 생성기가 못따라감\n",
        "\n",
        "생성기가 너무 빨리 훈련되면 생성기가 조악한 이미지로 점수를 계속 획득하게 됨"
      ],
      "metadata": {
        "id": "_j_gibVY7Ki7"
      }
    },
    {
      "cell_type": "markdown",
      "source": [
        "## 단순한 1010 패턴"
      ],
      "metadata": {
        "id": "ezugI-3x7y_C"
      }
    },
    {
      "cell_type": "markdown",
      "source": [
        "구조 : 실제 데이터 소스 [1 0 1 0] , 생성기 -> 판별기를 거쳐 -> 1또는 0의 값을 출력"
      ],
      "metadata": {
        "id": "c1jZ9YpTLMPN"
      }
    },
    {
      "cell_type": "markdown",
      "source": [
        "GPU 사용"
      ],
      "metadata": {
        "id": "Lxxp7vzz55CF"
      }
    },
    {
      "cell_type": "code",
      "source": [
        "# import torch\n",
        "# import torchvision\n",
        "# if torch.cuda.is_available():\n",
        "#   torch.set_default_tensor_type(torch.cuda.FloatTensor)\n",
        "#   print(\"using cuda: \", torch.cuda.get_device_name(0))\n",
        "#   pass\n",
        "# device = torch.device(\"cuda\" if torch.cuda.is_available() else \"cpu\")\n",
        "# device"
      ],
      "metadata": {
        "id": "MgCY_QW153_S"
      },
      "execution_count": null,
      "outputs": []
    },
    {
      "cell_type": "markdown",
      "source": [
        "#### 실제 데이터 소스"
      ],
      "metadata": {
        "id": "jcfh6NuwMTeY"
      }
    },
    {
      "cell_type": "code",
      "source": [
        "import torch\n",
        "import torch.nn as nn\n",
        "import pandas\n",
        "import matplotlib.pyplot as plt\n",
        "import random\n",
        "\n",
        "# 실제 데이터 소스 (이상적인 값)\n",
        "def generate_real0():\n",
        "  real_data = torch.FloatTensor([1,0,1,0])\n",
        "  return real_data\n",
        "# 실제 데이터 소스 (현실적인 값)\n",
        "def generate_real():\n",
        "  real_data = torch.FloatTensor(\n",
        "      [random.uniform(0.8,1.0),\n",
        "       random.uniform(0.0,0.2),\n",
        "       random.uniform(0.8,1.0),\n",
        "       random.uniform(0.0,0.2)])\n",
        "  return real_data\n",
        "# 임의의 노이즈 패턴을 반환하는 함수 -> generate_real과 비슷하지만, 더 일반적이고, 텐서 크기를 매개변수로 가지는 유연한 함수임\n",
        "  # 즉, 생성기에서 임의 값 뽑아내는 것 같은 역할\n",
        "def generate_random(size):\n",
        "  random_data = torch.rand(size)\n",
        "  return random_data"
      ],
      "metadata": {
        "id": "VA9fXRMfLUqK"
      },
      "execution_count": null,
      "outputs": []
    },
    {
      "cell_type": "markdown",
      "source": [
        "#### 판별기 만들기"
      ],
      "metadata": {
        "id": "UPGShGryN8Qw"
      }
    },
    {
      "cell_type": "code",
      "source": [
        "class Discriminator(nn.Module):\n",
        "  def __init__(self):\n",
        "    super().__init__()\n",
        "    self.model = nn.Sequential(\n",
        "        nn.Linear(4,3),\n",
        "        nn.Sigmoid(),\n",
        "        nn.Linear(3,1),\n",
        "        nn.Sigmoid())\n",
        "    self.loss_function = nn.MSELoss()\n",
        "    self.optimiser = torch.optim.SGD(self.parameters(), lr = 0.01)\n",
        "    self.counter = 0\n",
        "\n",
        "  def forward(self, inputs):\n",
        "    return self.model(inputs)\n",
        "\n",
        "  def train(self,inputs,targets):\n",
        "    outputs = self.forward(inputs)\n",
        "    loss = self.loss_function(outputs,targets)\n",
        "    self.counter +=1\n",
        "    if(self.counter%10==0):\n",
        "      self.progress.append(loss.item())\n",
        "    if(self.counter%10000==0):\n",
        "      print(\"counter = \",self.counter)\n",
        "    self.optimiser.zero_grad()\n",
        "    loss.backward()\n",
        "    self.optimiser.step()"
      ],
      "metadata": {
        "id": "VQlLBKSVhWZq"
      },
      "execution_count": null,
      "outputs": []
    },
    {
      "cell_type": "code",
      "source": [
        "class Discriminator(nn.Module):\n",
        "  def __init__(self):\n",
        "    # 파이토치 부모 클래스 초기화\n",
        "    super().__init__()\n",
        "\n",
        "    # 신경망 레이어 정의\n",
        "    self.model = nn.Sequential(\n",
        "        nn.Linear(4,3),\n",
        "        nn.Sigmoid(),\n",
        "        nn.Linear(3,1),\n",
        "        nn.Sigmoid())\n",
        "    # 구조 :: node4 -> node3(로지스틱) -> node1(로지스틱) -> 1 or 0\n",
        "\n",
        "    # 손실함수 설정\n",
        "    self.loss_function = nn.MSELoss()\n",
        "\n",
        "    # SGD 옵티마이저 설정\n",
        "    self.optimiser = torch.optim.SGD(self.parameters(), lr = 0.01)\n",
        "\n",
        "    # 진행 측정을 위한 변수 초기화\n",
        "    self.counter = 0\n",
        "    self.progress = []\n",
        "    pass\n",
        "  \n",
        "  # 순전파 과정\n",
        "  def forward(self, inputs):\n",
        "    # 모델 실행\n",
        "    return self.model(inputs)\n",
        "\n",
        "  # 훈련 과정\n",
        "  def train(self,inputs,targets):\n",
        "    #신경망 출력 계산\n",
        "    outputs = self.forward(inputs)\n",
        "\n",
        "    #손실 계산\n",
        "    loss = self.loss_function(outputs,targets)\n",
        "\n",
        "    #카운터를 증가시키고 10회마다 오차 저장\n",
        "    self.counter +=1\n",
        "    if(self.counter%10==0):\n",
        "      self.progress.append(loss.item())\n",
        "      pass\n",
        "    if(self.counter%10000==0):\n",
        "      print(\"counter = \",self.counter)\n",
        "      pass\n",
        "    \n",
        "    #기울기 초기화하고 역전파 후 가중치 갱신\n",
        "    self.optimiser.zero_grad()\n",
        "    loss.backward()\n",
        "    self.optimiser.step()\n",
        "    pass\n",
        "  \n",
        "  # 시각화\n",
        "  def plot_progress(self):\n",
        "    df = pandas.DataFrame(self.progress, columns=['loss'])\n",
        "    df.plot(ylim=(0,1.0), figsize=(16,8), alpha=0.1, marker='.', grid=True, yticks=(0,0.25,0.5))\n",
        "    pass"
      ],
      "metadata": {
        "id": "qq8zUBavN93Q"
      },
      "execution_count": null,
      "outputs": []
    },
    {
      "cell_type": "markdown",
      "source": [
        "#### 판별기 훈련 반복\n",
        "\n"
      ],
      "metadata": {
        "id": "V6621HNuQbW6"
      }
    },
    {
      "cell_type": "code",
      "source": [
        "D = Discriminator()\n",
        "for i in range(10000):\n",
        "  #실제 데이터\n",
        "  D.train(generate_real(), torch.FloatTensor([1.0]))\n",
        "  #생성된 데이터\n",
        "  D.train(generate_random(4), torch.FloatTensor([0.0]))"
      ],
      "metadata": {
        "id": "g7qpkSKaQdj2"
      },
      "execution_count": null,
      "outputs": []
    },
    {
      "cell_type": "code",
      "source": [
        "# 손실함수 차트\n",
        "D.plot_progress()"
      ],
      "metadata": {
        "id": "9HTPDED9Rxqr"
      },
      "execution_count": null,
      "outputs": []
    },
    {
      "cell_type": "code",
      "source": [
        "# 판별기 테스트 (패턴 넣어보기)\n",
        "print(D.forward(generate_real()).item())\n",
        "print(D.forward(generate_random(4)).item())"
      ],
      "metadata": {
        "id": "Q_FhQWs5R4Bj"
      },
      "execution_count": null,
      "outputs": []
    },
    {
      "cell_type": "markdown",
      "source": [
        "여기까지가 판별기에 데이터를 넣었을 때, 진짜 가짜를 구별하는 정도"
      ],
      "metadata": {
        "id": "wwIXbTFySOeZ"
      }
    },
    {
      "cell_type": "markdown",
      "source": [
        "#### 생성기 만들기"
      ],
      "metadata": {
        "id": "kAew52v3STWt"
      }
    },
    {
      "cell_type": "markdown",
      "source": [
        "::구조::\n",
        "\n",
        "node1 -> node3(로지스틱) -> node4(로지스틱)\n",
        "\n",
        "판별기와 정반대의 구조인 이유는, 판별기와 생성기를 균형있게 훈련시키기 위함이다."
      ],
      "metadata": {
        "id": "dTNOLb1zSlsM"
      }
    },
    {
      "cell_type": "code",
      "source": [
        "class Generator(nn.Module):\n",
        "  def __init__(self):\n",
        "    super().__init__()\n",
        "    self.model = nn.Sequential(\n",
        "        nn.Linear(1,3),\n",
        "        nn.Sigmoid(),\n",
        "        nn.Linear(3,4),\n",
        "        nn.Sigmoid())\n",
        "    self.optimiser = torch.optim.SGD(self.parameters(), lr = 0.01)\n",
        "    self.counter = 0\n",
        "\n",
        "  def forward(self, inputs):\n",
        "    return self.model(inputs)\n",
        "\n",
        "  def train(self,D,inputs,targets):\n",
        "    g_output = self.forward(inputs)\n",
        "    d_output = D.forward(g_output)\n",
        "    loss = D.loss_function(d_output,targets)\n",
        "    self.counter +=1\n",
        "    if(self.counter%10==0):\n",
        "      self.progress.append(loss.item())\n",
        "    self.optimiser.zero_grad()\n",
        "    loss.backward()\n",
        "    self.optimiser.step()"
      ],
      "metadata": {
        "id": "rhWluMHu3cGG"
      },
      "execution_count": null,
      "outputs": []
    },
    {
      "cell_type": "code",
      "source": [
        "class Generator(nn.Module):\n",
        "  def __init__(self):\n",
        "    # 파이토치 부모 클래스 초기화\n",
        "    super().__init__()\n",
        "\n",
        "    # 신경망 레이어 정의\n",
        "    self.model = nn.Sequential(\n",
        "        nn.Linear(1,3),\n",
        "        nn.Sigmoid(),\n",
        "        nn.Linear(3,4),\n",
        "        nn.Sigmoid())\n",
        "    # 구조 :: node1 -> node3(로지스틱) -> node4(로지스틱)\n",
        "\n",
        "    # 손실함수 없음 -> 오직 판별기에만 필요\n",
        "    # 판별기의 흘러들어온 기울기 오차 -> 생성기 업데이트\n",
        "\n",
        "    # SGD 옵티마이저 설정\n",
        "    self.optimiser = torch.optim.SGD(self.parameters(), lr = 0.01)\n",
        "\n",
        "    # 진행 측정을 위한 변수 초기화\n",
        "    self.counter = 0\n",
        "    self.progress = []\n",
        "    pass\n",
        "  \n",
        "  # 순전파 과정\n",
        "  def forward(self, inputs):\n",
        "    # 모델 실행\n",
        "    return self.model(inputs)\n",
        "\n",
        "  # 훈련 과정\n",
        "  def train(self,D,inputs,targets):\n",
        "    #신경망 출력 계산\n",
        "    g_output = self.forward(inputs)\n",
        "\n",
        "    #판별기로 전달\n",
        "    d_output = D.forward(g_output)\n",
        "\n",
        "    #오차 계산\n",
        "    loss = D.loss_function(d_output,targets)\n",
        "\n",
        "    #카운터를 증가시키고 10회마다 오차 저장\n",
        "    self.counter +=1\n",
        "    if(self.counter%10==0):\n",
        "      self.progress.append(loss.item())\n",
        "      pass\n",
        "    \n",
        "    #기울기 초기화하고 역전파 후 가중치 갱신\n",
        "    self.optimiser.zero_grad()\n",
        "    loss.backward()\n",
        "    self.optimiser.step()\n",
        "    pass\n",
        "# ::train::\n",
        "# 입력값이 생성기의 forward로 전달됨\n",
        "# 생성기의 출력 g_output은 D.forward를 통해 판별기로 전달되어 d_output을 출력함\n",
        "# 손실 = |d_output - 정답| -> 차이값으로 계산\n",
        "# 손실로부터 오류역전파 되어 생성기로 전달되어 생성기의 optimiser로 전달됨\n",
        "# 이러면 생성기만 업데이트됨\n",
        "\n",
        "  # 시각화\n",
        "  def plot_progress(self):\n",
        "    df = pandas.DataFrame(self.progress, columns=['loss'])\n",
        "    df.plot(ylim=(0,1.0), figsize=(16,8), alpha=0.1, marker='.', grid=True, yticks=(0,0.25,0.5))\n",
        "    pass"
      ],
      "metadata": {
        "id": "CGpBJ6hfSYzm"
      },
      "execution_count": null,
      "outputs": []
    },
    {
      "cell_type": "markdown",
      "source": [
        "#### 생성기 결과 확인"
      ],
      "metadata": {
        "id": "wr9bPY9aU1mF"
      }
    },
    {
      "cell_type": "code",
      "source": [
        "# 훈련되어있지 않기 때문에 임의의 4개의 값을 출력할거다.\n",
        "G = Generator()\n",
        "G.forward(torch.FloatTensor([0.5]))"
      ],
      "metadata": {
        "id": "QZyu9VsoU6Vw"
      },
      "execution_count": null,
      "outputs": []
    },
    {
      "cell_type": "markdown",
      "source": [
        "#### GAN 훈련"
      ],
      "metadata": {
        "id": "w5quFGbxVJwp"
      }
    },
    {
      "cell_type": "code",
      "source": [
        "D = Discriminator()\n",
        "G = Generator()\n",
        "image_list=[]\n",
        "\n",
        "for i in range(10000):\n",
        "  # 1단계 : 참에 대해 판별기 훈련\n",
        "  D.train(generate_real(), torch.FloatTensor([1.0]))\n",
        "  # 2단계 : 거짓에 대해 판별기 훈련, \n",
        "  #         생성기의 기울기가 수정되지 않도록 detach()함수 이용, \n",
        "  #         detach()로 선택된 것은 그 함수에서 제외됨\n",
        "  D.train(G.forward(torch.FloatTensor([0.5])).detach(), torch.FloatTensor([0.0]))\n",
        "  # 3단계 : 생성기 훈련\n",
        "  G.train(D, torch.FloatTensor([0.5]), torch.FloatTensor([1.0]))\n",
        "\n",
        "  if(i%1000==0):\n",
        "    image_list.append(G.forward(torch.FloatTensor([0.5])).detach().numpy())\n"
      ],
      "metadata": {
        "id": "Cgz1xmgw4daH"
      },
      "execution_count": null,
      "outputs": []
    },
    {
      "cell_type": "code",
      "source": [
        "# 판별기, 생성기 생성\n",
        "D = Discriminator()\n",
        "G = Generator()\n",
        "image_list=[]\n",
        "\n",
        "# 판별기, 생성기 훈련\n",
        "for i in range(10000):\n",
        "  # 1단계 : 참에 대해 판별기 훈련\n",
        "  D.train(generate_real(), torch.FloatTensor([1.0]))\n",
        "\n",
        "  # 2단계 : 거짓에 대해 판별기 훈련, 생성기의 기울기가 수정되지 않도록 detach()함수 이용, detach()로 선택된 것은 그 함수에서 제외됨\n",
        "  D.train(G.forward(torch.FloatTensor([0.5])).detach(), torch.FloatTensor([0.0]))\n",
        "\n",
        "  # 3단계 : 생성기 훈련\n",
        "  G.train(D, torch.FloatTensor([0.5]), torch.FloatTensor([1.0]))\n",
        "\n",
        "  # 매 1000회 생성기 훈련 결과를 이미지로 저장\n",
        "  if(i%1000==0):\n",
        "    image_list.append(G.forward(torch.FloatTensor([0.5])).detach().numpy())\n",
        "\n",
        "  pass\n",
        "\n",
        "# ::detach::\n",
        "# 입력 데이터가 판별기를 지나 출력되고, 다시 업데이트 되어 판별기로 돌아올때, 생성기로 가지 않게 해줌\n",
        "# 효율적이고 빠른 계산을 위해 사용함"
      ],
      "metadata": {
        "id": "V3_2fi9QVLvR"
      },
      "execution_count": null,
      "outputs": []
    },
    {
      "cell_type": "code",
      "source": [
        "D.plot_progress()"
      ],
      "metadata": {
        "id": "TPP-zMN-YGgU"
      },
      "execution_count": null,
      "outputs": []
    },
    {
      "cell_type": "markdown",
      "source": [
        "그래프를 보면 손실이 0.25 를 머뭄\n",
        "\n",
        "의미는 판별기가 실제, 조작된 데이터를 잘 판별하지 못하는 결과를 내놓으면, 결과로 0.0이나 1.0 같은 확실한 결과가 아닌, 0.5라는 결과를 내놓은 것이고 평균제곱오차로 인해 0.25라는 손실이 나옴"
      ],
      "metadata": {
        "id": "zVLbN59eYPmN"
      }
    },
    {
      "cell_type": "code",
      "source": [
        "G.plot_progress()"
      ],
      "metadata": {
        "id": "LR1a8Tp4YoM3"
      },
      "execution_count": null,
      "outputs": []
    },
    {
      "cell_type": "code",
      "source": [
        "# 생성기가 만들어낸 데이터 패턴!\n",
        "G.forward(torch.FloatTensor([0.5]))"
      ],
      "metadata": {
        "id": "AyeTO4faYvwp"
      },
      "execution_count": null,
      "outputs": []
    },
    {
      "cell_type": "code",
      "source": [
        "import numpy\n",
        "plt.figure(figsize=(16,8))\n",
        "plt.imshow(numpy.array(image_list).T, interpolation = 'none', cmap='Blues')"
      ],
      "metadata": {
        "id": "FPmqa2edZhOG"
      },
      "execution_count": null,
      "outputs": []
    },
    {
      "cell_type": "markdown",
      "source": [
        "## 손으로 쓴 숫자 훈련 GAN"
      ],
      "metadata": {
        "id": "Bd9ZE0CpaUhr"
      }
    },
    {
      "cell_type": "markdown",
      "source": [
        "### 모델 구조\n",
        "\n",
        "입력이 MNIST 이미지, 생성기 -> 판별기 -> 1 or 0 출력"
      ],
      "metadata": {
        "id": "iqW5H9kEaXqm"
      }
    },
    {
      "cell_type": "markdown",
      "source": [
        "### import & dataset"
      ],
      "metadata": {
        "id": "uy9QbAVccHqo"
      }
    },
    {
      "cell_type": "code",
      "source": [
        "import torch\n",
        "import torch.nn as nn\n",
        "from torch.utils.data import Dataset\n",
        "import pandas, numpy, random\n",
        "import matplotlib.pyplot as plt\n",
        "\n",
        "# 구글 드라이브 연결\n",
        "# 파일 열어서 3번째 드라이브 마운트 누르면 됨\n",
        "\n",
        "from torch.utils.data import Dataset\n",
        "# Dataset 클래승서 데이터셋 상속받기 위해 2개의 특수 메서드 구현 필요\n",
        "# __len__() : 데이터셋 길이 반환\n",
        "# __getitem__() : 데이터셋의 n번째 아이템 반환\n",
        "class MnistDataset(Dataset):\n",
        "  def __init__(self,csv_file):\n",
        "    self.data_df = pandas.read_csv(csv_file, header=None)\n",
        "    pass\n",
        "\n",
        "  def __len__(self):\n",
        "    return len(self.data_df)\n",
        "\n",
        "  def __getitem__(self,index):\n",
        "    #이미지 레이블\n",
        "    label = self.data_df.iloc[index,0]\n",
        "    target = torch.zeros((10))\n",
        "    target[label] = 1.0\n",
        "    #1의 경우 [0,1,0,0,0,0,0,0,0,0] -> 원핫 인코딩 됨\n",
        "\n",
        "    #normalization\n",
        "    image_values = torch.FloatTensor(self.data_df.iloc[index,1:].values)/255.0\n",
        "\n",
        "    #레이블, 이미지데이터 텐서, 레이블 텐서 반환\n",
        "    return label, image_values, target\n",
        "\n",
        "  def plot_image(self, index):\n",
        "    img = self.data_df.iloc[index,1:].values.reshape(28,28)\n",
        "    plt.title(\"label = \"+str(self.data_df.iloc[index,0]))\n",
        "    plt.imshow(img, interpolation='none', cmap='Blues')\n",
        "    pass\n",
        "  pass\n",
        "\n",
        "# 데이터셋 불러오기\n",
        "mnist_dataset = MnistDataset('/content/drive/MyDrive/ROBOTICS/GAN/mnist_train.csv')\n",
        "mnist_dataset.plot_image(17)"
      ],
      "metadata": {
        "id": "hHjRmk6laWzb"
      },
      "execution_count": null,
      "outputs": []
    },
    {
      "cell_type": "markdown",
      "source": [
        "### MNIST 판별기"
      ],
      "metadata": {
        "id": "uyYDQdl1cNIh"
      }
    },
    {
      "cell_type": "code",
      "source": [
        "class Discriminator(nn.Module):\n",
        "  def __init__(self):\n",
        "    # 파이토치 부모 클래스 초기화\n",
        "    super().__init__()\n",
        "\n",
        "    # 신경망 레이어 정의\n",
        "    self.model = nn.Sequential(\n",
        "        nn.Linear(784,200),\n",
        "        nn.LeakyReLU(0.02),\n",
        "        nn.LayerNorm(200),\n",
        "        nn.Linear(200,1),\n",
        "        nn.Sigmoid())\n",
        "    # 구조 :: node4 -> node3(로지스틱) -> node1(로지스틱) -> 1 or 0\n",
        "\n",
        "    # 손실함수 설정\n",
        "    self.loss_function = nn.BCELoss()\n",
        "\n",
        "    # SGD 옵티마이저 설정\n",
        "    self.optimiser = torch.optim.Adam(self.parameters(), lr = 0.01)\n",
        "\n",
        "    # 진행 측정을 위한 변수 초기화\n",
        "    self.counter = 0\n",
        "    self.progress = []\n",
        "    pass\n",
        "  \n",
        "  # 순전파 과정\n",
        "  def forward(self, inputs):\n",
        "    # 모델 실행\n",
        "    return self.model(inputs)\n",
        "\n",
        "  # 훈련 과정\n",
        "  def train(self,inputs,targets):\n",
        "    #신경망 출력 계산\n",
        "    outputs = self.forward(inputs)\n",
        "\n",
        "    #손실 계산\n",
        "    loss = self.loss_function(outputs,targets)\n",
        "\n",
        "    #카운터를 증가시키고 10회마다 오차 저장\n",
        "    self.counter +=1\n",
        "    if(self.counter%10==0):\n",
        "      self.progress.append(loss.item())\n",
        "      pass\n",
        "    if(self.counter%10000==0):\n",
        "      print(\"counter = \",self.counter)\n",
        "      pass\n",
        "    \n",
        "    #기울기 초기화하고 역전파 후 가중치 갱신\n",
        "    self.optimiser.zero_grad()\n",
        "    loss.backward()\n",
        "    self.optimiser.step()\n",
        "    pass\n",
        "  \n",
        "  # 시각화\n",
        "  def plot_progress(self):\n",
        "    df = pandas.DataFrame(self.progress, columns=['loss'])\n",
        "    df.plot(ylim=(0,1.0), figsize=(16,8), alpha=0.1, marker='.', grid=True, yticks=(0,0.25,0.5))\n",
        "    pass"
      ],
      "metadata": {
        "id": "HpxpP2cxcMSG"
      },
      "execution_count": null,
      "outputs": []
    },
    {
      "cell_type": "markdown",
      "source": [
        "110pg"
      ],
      "metadata": {
        "id": "GWZBV1OS739Z"
      }
    },
    {
      "cell_type": "code",
      "source": [
        "from google.colab import drive\n",
        "drive.mount('/content/drive')"
      ],
      "metadata": {
        "id": "91o2ocozd4Ms"
      },
      "execution_count": null,
      "outputs": []
    },
    {
      "cell_type": "markdown",
      "source": [
        "### 판별기 테스트"
      ],
      "metadata": {
        "id": "84MCrMFHch1w"
      }
    },
    {
      "cell_type": "code",
      "source": [
        "# 60000개의 임지에서 판별기가 진짜 숫자라고 판단하면 결과를 1.0으로 출력하도록 함\n",
        "D=Discriminator()\n",
        "def generate_random_image(size):\n",
        "  random_data = torch.rand(size)\n",
        "  return random_data\n",
        "def generate_random_seed(size):\n",
        "  random_data = torch.randn(size)\n",
        "  return random_data\n",
        "# for label, image_data_tensor, target_tensor in mnist_dataset:\n",
        "#   # 실제 데이터\n",
        "#   D.train(image_data_tensor, torch.FloatTensor([1.0]))\n",
        "#   # 생성된 데이터\n",
        "#   D.train(generate_random_image(784), torch.FloatTensor([0.0]))\n",
        "#   pass\n",
        "\n",
        "# D.plot_progress()"
      ],
      "metadata": {
        "id": "_h6FPDQickqj"
      },
      "execution_count": null,
      "outputs": []
    },
    {
      "cell_type": "code",
      "source": [
        "# 실제 이미지, 임의의 노이즈 에 대해 판별기가 잘 구별했는지 확인\n",
        "for i in range(5):\n",
        "  image_data_tensor = mnist_dataset[random.randint(0,60000)][1]\n",
        "  print(D.forward(image_data_tensor).item())\n",
        "  pass\n",
        "\n",
        "for i in range(5):\n",
        "  print(D.forward(generate_random(784)).item())\n",
        "  pass"
      ],
      "metadata": {
        "id": "FFB-AioYdTOs"
      },
      "execution_count": null,
      "outputs": []
    },
    {
      "cell_type": "markdown",
      "source": [
        "### MNIST 생성기"
      ],
      "metadata": {
        "id": "XLknXAs4flFf"
      }
    },
    {
      "cell_type": "markdown",
      "source": [
        "::전체 구조::\n",
        "\n",
        "임의의 시드 -> 생성기 1 -> 200 -> 784 -> 28*28 -> 784 -> 200 -> 1 판별기\n",
        "\n",
        "::생성기의 입력은 random seed::\n",
        "\n",
        "생성기는 다양한 이미지를 생성해야함 0~9까지\n",
        "\n",
        "같은 입력에 대해서는 신경망은 같은 출력을 내기 때문에 입력을 임의의 값으로 항상 넣어주어야 한다."
      ],
      "metadata": {
        "id": "tKF0nVWLf6js"
      }
    },
    {
      "cell_type": "code",
      "source": [
        "class Generator(nn.Module):\n",
        "  def __init__(self):\n",
        "    # 파이토치 부모 클래스 초기화\n",
        "    super().__init__()\n",
        "\n",
        "    # 신경망 레이어 정의\n",
        "    self.model = nn.Sequential(\n",
        "        nn.Linear(100,200),\n",
        "        nn.LeakyReLU(0.02),\n",
        "        nn.LayerNorm(200),\n",
        "        nn.Linear(200,784),\n",
        "        nn.Sigmoid())\n",
        "    # 구조 :: node1 -> node3(로지스틱) -> node4(로지스틱)\n",
        "\n",
        "    # 손실함수 없음 -> 오직 판별기에만 필요\n",
        "    # 판별기의 흘러들어온 기울기 오차 -> 생성기 업데이트\n",
        "\n",
        "    # SGD 옵티마이저 설정\n",
        "    self.optimiser = torch.optim.Adam(self.parameters(), lr = 0.01)\n",
        "\n",
        "    # 진행 측정을 위한 변수 초기화\n",
        "    self.counter = 0\n",
        "    self.progress = []\n",
        "    pass\n",
        "  \n",
        "  # 순전파 과정\n",
        "  def forward(self, inputs):\n",
        "    # 모델 실행\n",
        "    return self.model(inputs)\n",
        "\n",
        "  # 훈련 과정\n",
        "  def train(self,D,inputs,targets):\n",
        "    #신경망 출력 계산\n",
        "    g_output = self.forward(inputs)\n",
        "\n",
        "    #판별기로 전달\n",
        "    d_output = D.forward(g_output)\n",
        "\n",
        "    #오차 계산\n",
        "    loss = D.loss_function(d_output,targets)\n",
        "\n",
        "    #카운터를 증가시키고 10회마다 오차 저장\n",
        "    self.counter +=1\n",
        "    if(self.counter%10==0):\n",
        "      self.progress.append(loss.item())\n",
        "      pass\n",
        "    \n",
        "    #기울기 초기화하고 역전파 후 가중치 갱신\n",
        "    self.optimiser.zero_grad()\n",
        "    loss.backward()\n",
        "    self.optimiser.step()\n",
        "    pass\n",
        "# ::train::\n",
        "# 입력값이 생성기의 forward로 전달됨\n",
        "# 생성기의 출력 g_output은 D.forward를 통해 판별기로 전달되어 d_output을 출력함\n",
        "# 손실 = |d_output - 정답| -> 차이값으로 계산\n",
        "# 손실로부터 오류역전파 되어 생성기로 전달되어 생성기의 optimiser로 전달됨\n",
        "# 이러면 생성기만 업데이트됨\n",
        "\n",
        "  # 시각화\n",
        "  def plot_progress(self):\n",
        "    df = pandas.DataFrame(self.progress, columns=['loss'])\n",
        "    df.plot(ylim=(0,1.0), figsize=(16,8), alpha=0.1, marker='.', grid=True, yticks=(0,0.25,0.5))\n",
        "    pass"
      ],
      "metadata": {
        "id": "Yto4ZHd3gf0o"
      },
      "execution_count": null,
      "outputs": []
    },
    {
      "cell_type": "markdown",
      "source": [
        "### 생성기 결과 확인"
      ],
      "metadata": {
        "id": "pNd4OcZRgn9D"
      }
    },
    {
      "cell_type": "code",
      "source": [
        "# 새로운 생성기를 만들고, 임의의 시드로 출력 텐서를 만듬\n",
        "G = Generator()\n",
        "output = G.forward(generate_random_seed(100))\n",
        "img = output.detach().numpy().reshape(28,28)\n",
        "plt.imshow(img, interpolation='none', cmap='Blues')"
      ],
      "metadata": {
        "id": "-c8Rv7QIgmFz"
      },
      "execution_count": null,
      "outputs": []
    },
    {
      "cell_type": "markdown",
      "source": [
        "아직 훈련이 안된 생성기는 임의의 패턴을 추출함"
      ],
      "metadata": {
        "id": "hsyMGQJ6hDRF"
      }
    },
    {
      "cell_type": "markdown",
      "source": [
        "### GAN 훈련하기 MNIST"
      ],
      "metadata": {
        "id": "WK5lYHF8hGje"
      }
    },
    {
      "cell_type": "code",
      "source": [
        "def generate_random_image(size):\n",
        "  random_data = torch.rand(size)\n",
        "  return random_data\n",
        "def generate_random_seed(size):\n",
        "  random_data = torch.randn(size)\n",
        "  return random_data"
      ],
      "metadata": {
        "id": "riEJrvub9mIY"
      },
      "execution_count": null,
      "outputs": []
    },
    {
      "cell_type": "code",
      "source": [
        "# 판별기, 생성기 생성\n",
        "D = Discriminator()\n",
        "G = Generator()\n",
        "image_list=[]\n",
        "\n",
        "# 판별기, 생성기 훈련\n",
        "for i in range(1):\n",
        "  for label, image_data_tensor, target_tensor in mnist_dataset:\n",
        "    # 1단계 : 참에 대해 판별기 훈련\n",
        "    D.train(image_data_tensor, torch.FloatTensor([1.0]))\n",
        "\n",
        "    # 2단계 : 거짓에 대해 판별기 훈련, 생성기의 기울기가 수정되지 않도록 detach()함수 이용, detach()로 선택된 것은 그 함수에서 제외됨\n",
        "    D.train(G.forward(generate_random_seed(100)).detach(), torch.FloatTensor([0.0]))\n",
        "\n",
        "    # 3단계 : 생성기 훈련\n",
        "    G.train(D, generate_random_seed(100), torch.FloatTensor([1.0]))\n",
        "\n",
        "    \n",
        "\n",
        "# ::detach::\n",
        "# 입력 데이터가 판별기를 지나 출력되고, 다시 업데이트 되어 판별기로 돌아올때, 생성기로 가지 않게 해줌\n",
        "# 효율적이고 빠른 계산을 위해 사용함"
      ],
      "metadata": {
        "id": "I6fmn7vshJx2"
      },
      "execution_count": null,
      "outputs": []
    },
    {
      "cell_type": "markdown",
      "source": [
        "### 결과 확인"
      ],
      "metadata": {
        "id": "KKVOrsjOk425"
      }
    },
    {
      "cell_type": "code",
      "source": [
        "def plot_progress(self):\n",
        "  df = pandas.DataFrame(self.progress, columns=['loss'])\n",
        "  df.plot(ylim=(0), figsize=(16,8), alpha=0.1, marker='.',grid=True,yticks=(0,0.25,0.5,1.0,5.0))\n",
        "\n",
        "D.plot_progress()"
      ],
      "metadata": {
        "id": "-g30ijFqkcH1"
      },
      "execution_count": null,
      "outputs": []
    },
    {
      "cell_type": "markdown",
      "source": [
        "0.25에서 균형이 맞기 시작했지만,\n",
        "\n",
        "이후 판별기가 앞서거나, 손실값이 다시 낮은 상태로 머물게 됨"
      ],
      "metadata": {
        "id": "JvVCLioAkzY3"
      }
    },
    {
      "cell_type": "code",
      "source": [
        "G.plot_progress()"
      ],
      "metadata": {
        "id": "kcAO2QY4ksi9"
      },
      "execution_count": null,
      "outputs": []
    },
    {
      "cell_type": "markdown",
      "source": [
        "손실함수 값이 증가함을 통해,\n",
        "\n",
        "판별기 성능이 생성기보다 더 나은 구간이라고 볼 수 있음"
      ],
      "metadata": {
        "id": "uJ9QJWaKk1kv"
      }
    },
    {
      "cell_type": "code",
      "source": [
        "# 생성기에서 만들어낸 이미지 확인\n",
        "# 2*3, 6개 이미지 출력\n",
        "f, axarr = plt.subplots(2,3,figsize=(16,8))\n",
        "for i in range(2):\n",
        "  for j in range(3):\n",
        "    output = G.forward(generate_random_seed(100))\n",
        "    img = output.detach().numpy().reshape(28,28)\n",
        "    axarr[i,j].imshow(img, interpolation='none', cmap='Blues')\n",
        "    pass\n",
        "  pass"
      ],
      "metadata": {
        "id": "374jfY-mlCmM"
      },
      "execution_count": null,
      "outputs": []
    },
    {
      "cell_type": "markdown",
      "source": [
        "완전하지는 않지만 어느정도의 형태를 가지고 있다!"
      ],
      "metadata": {
        "id": "wtVMiVAplpQb"
      }
    },
    {
      "cell_type": "markdown",
      "source": [
        "## 모드 붕괴"
      ],
      "metadata": {
        "id": "dkkjfBb8lshN"
      }
    },
    {
      "cell_type": "markdown",
      "source": [
        "### 의미\n",
        "\n",
        "생성기가 10개의 숫자를 다양하게 생성하지 못하고, 오직 하나만 만들거나 일부만 만들게 되는 것\n",
        "\n",
        "### 이유\n",
        "\n",
        "아직 밝혀진 바가 없다...\n",
        "\n",
        "### GAN 훈련 성능 향상\n",
        "\n",
        "- 손실함수 MSE -> BCE 로 바꾸기\n",
        "- 활성화함수 LeakyReLU 사용하기\n",
        "- 정규화 LayerNorm 하기\n",
        "- 경사하강법은 Adam으로 하기\n",
        "- 입력 시드에 1개의 값이 아닌 여러 값을 넣기 (100개정도)\n",
        "- 입력의 랜더 시드의 코드를 변경, torch.rand -> torch.randn"
      ],
      "metadata": {
        "id": "Fn-UIthel2E1"
      }
    },
    {
      "cell_type": "markdown",
      "source": [
        "## 시드로 실험하기"
      ],
      "metadata": {
        "id": "Z2cnNGgVrBUZ"
      }
    },
    {
      "cell_type": "markdown",
      "source": [
        "- 임의의 두 개의 시드 seed1, seed2 가 있다고 가정\n",
        "- seed1, seed2, seed1과 seed2의 중간 값의 시드로 생성된 이미지는 어떨까?"
      ],
      "metadata": {
        "id": "i5Z8cFrerFGA"
      }
    },
    {
      "cell_type": "code",
      "source": [
        "# seed 1\n",
        "seed1 = generate_random_seed(100)\n",
        "out1 = G.forward(seed1)\n",
        "img1 = out1.detach().numpy().reshape(28,28)\n",
        "plt.imshow(img1,interpolation='none',cmap='Blues')"
      ],
      "metadata": {
        "id": "GD3_T2GYriWy"
      },
      "execution_count": null,
      "outputs": []
    },
    {
      "cell_type": "code",
      "source": [
        "# seed 2\n",
        "seed2 = generate_random_seed(100)\n",
        "out2 = G.forward(seed2)\n",
        "img2 = out2.detach().numpy().reshape(28,28)\n",
        "plt.imshow(img2,interpolation='none',cmap='Blues')"
      ],
      "metadata": {
        "id": "n_lGY2xBr0x7"
      },
      "execution_count": null,
      "outputs": []
    },
    {
      "cell_type": "code",
      "source": [
        "# seed1 ~ seed2 사이 일정한 간격으로 12개 시드 구하기\n",
        "# seed1 -> seed2 로 변해가는 과정을 볼 수 있다\n",
        "count = 0\n",
        "f, axarr = plt.subplots(3,4,figsize=(16,8))\n",
        "for i in range(3):\n",
        "  for j in range(4):\n",
        "    seed = seed1+(seed2-seed1)/11*count\n",
        "    output = G.forward(seed)\n",
        "    img = output.detach().numpy().reshape(28,28)\n",
        "    axarr[i,j].imshow(img, interpolation='none', cmap='Blues')\n",
        "    count = count + 1\n",
        "    pass\n",
        "  pass"
      ],
      "metadata": {
        "id": "sHcIX_BSsAiM"
      },
      "execution_count": null,
      "outputs": []
    },
    {
      "cell_type": "code",
      "source": [
        "# seed1 + seed2 한 시드 구하기\n",
        "seed3 = seed1 + seed2\n",
        "out3 = G.forward(seed3)\n",
        "img3 = out3.detach().numpy().reshape(28,28)\n",
        "plt.imshow(img3,interpolation='none',cmap='Blues')"
      ],
      "metadata": {
        "id": "Di5wmODMs4Lg"
      },
      "execution_count": null,
      "outputs": []
    },
    {
      "cell_type": "code",
      "source": [
        "# seed1 - seed2 한 시드 구하기\n",
        "seed4 = seed1 - seed2\n",
        "out4 = G.forward(seed4)\n",
        "img4 = out4.detach().numpy().reshape(28,28)\n",
        "plt.imshow(img4,interpolation='none',cmap='Blues')"
      ],
      "metadata": {
        "id": "NWcadijetUBM"
      },
      "execution_count": null,
      "outputs": []
    },
    {
      "cell_type": "markdown",
      "source": [
        "시드를 더하고 빼는건 우리가 생각하는 픽셀값을 더하고 빼는것과 다르다!"
      ],
      "metadata": {
        "id": "4wE69eeltmZP"
      }
    },
    {
      "cell_type": "markdown",
      "source": [
        "# GPU 사용"
      ],
      "metadata": {
        "id": "k-O1xd_be-i4"
      }
    },
    {
      "cell_type": "code",
      "source": [
        "import torch\n",
        "import torchvision\n",
        "import torch.nn\n",
        "!pip3 install --upgrade torch torchvision"
      ],
      "metadata": {
        "id": "yTHjvU9RetFS"
      },
      "execution_count": null,
      "outputs": []
    },
    {
      "cell_type": "code",
      "source": [
        "torch.cuda.is_available()"
      ],
      "metadata": {
        "id": "_fwyBEqne5dg"
      },
      "execution_count": null,
      "outputs": []
    }
  ]
}