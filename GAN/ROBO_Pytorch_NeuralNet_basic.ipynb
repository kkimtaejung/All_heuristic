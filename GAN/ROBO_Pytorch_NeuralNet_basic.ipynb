{
  "nbformat": 4,
  "nbformat_minor": 0,
  "metadata": {
    "colab": {
      "private_outputs": true,
      "provenance": [],
      "collapsed_sections": [
        "dRRi2cGR3jBS",
        "xib8Nfy_1MGb",
        "bFuPJSI_2_tY",
        "jGCLfYjiw8_0"
      ],
      "authorship_tag": "ABX9TyN02rjE77tlq50GvHjm13lr",
      "include_colab_link": true
    },
    "kernelspec": {
      "name": "python3",
      "display_name": "Python 3"
    },
    "language_info": {
      "name": "python"
    },
    "accelerator": "GPU",
    "gpuClass": "standard"
  },
  "cells": [
    {
      "cell_type": "markdown",
      "metadata": {
        "id": "view-in-github",
        "colab_type": "text"
      },
      "source": [
        "<a href=\"https://colab.research.google.com/github/kkimtaejung/All_heuristic/blob/GAN/ROBO_Pytorch_NeuralNet_basic.ipynb\" target=\"_parent\"><img src=\"https://colab.research.google.com/assets/colab-badge.svg\" alt=\"Open In Colab\"/></a>"
      ]
    },
    {
      "cell_type": "markdown",
      "source": [
        "# GAN 첫걸음\n",
        "### https://github.com/makeyourownneuralnetwork/gan"
      ],
      "metadata": {
        "id": "dRRi2cGR3jBS"
      }
    },
    {
      "cell_type": "code",
      "execution_count": null,
      "metadata": {
        "id": "EElRlGRGuKCd"
      },
      "outputs": [],
      "source": [
        "import torch \n",
        "# 기본적인 숫자 이상의 정보를 저장 ex. 기울기\n",
        "# 텐서(변수에 영향을 주고받는)에 대해 수식 등 추가적 정보 저장\n",
        "\n",
        "# x가 3.5일 때, y의 그래프의 기울기\n",
        "x = torch.tensor(3.5, requires_grad=True) # required_grad는 x에 대해 기울기 계산하도록 하는 기능\n",
        "y = (x-1)*(x-2)*(x-3) #y = 1.8750\n",
        "\n",
        "# 기울기에 대해 숫자로 계산해 텐서 x에 저장 : backward()\n",
        "y.backward() #y' 에 x=3.5대입 -> 5.75\n",
        "x.grad # x = 5.75"
      ]
    },
    {
      "cell_type": "markdown",
      "source": [
        "#연쇄법칙 - 기울기\n"
      ],
      "metadata": {
        "id": "xib8Nfy_1MGb"
      }
    },
    {
      "cell_type": "markdown",
      "source": [
        "##[1]\n",
        "x=3.5에서 x에 대한 z' 미분값의 기울기 = dz/dx \n",
        "\n",
        "dz/dx = dz/dy*dy/dx \n",
        "\n",
        "dz/dx = 2*2x"
      ],
      "metadata": {
        "id": "_LgnzxYY1VhO"
      }
    },
    {
      "cell_type": "code",
      "source": [
        "x = torch.tensor(3.5, requires_grad=True)\n",
        "y = x*x\n",
        "z = 2*y+3\n",
        "\n",
        "#z의 기울기\n",
        "z.backward()\n",
        "\n",
        "x.grad #dz/dx = 14"
      ],
      "metadata": {
        "id": "kyfeXfGmzXaR"
      },
      "execution_count": null,
      "outputs": []
    },
    {
      "cell_type": "markdown",
      "source": [
        "##[2]\n",
        "dz/dx = 2, dx/da = 2, dy/da = 10a\n",
        "\n",
        "dz/dy = 3, dx/db = 3, dy/db = 9b^2\n",
        "\n",
        "dz/da = (dz/dx*dx/da) + (dz/dy*dy/da) = 4 + 30a"
      ],
      "metadata": {
        "id": "vD4GWq_v1aIm"
      }
    },
    {
      "cell_type": "code",
      "source": [
        "#[2]\n",
        "a = torch.tensor(2.0, requires_grad=True)\n",
        "b = torch.tensor(1.0, requires_grad=True)\n",
        "\n",
        "x = 2*a + 3*b\n",
        "y = 5*a*a + 3*b*b*b\n",
        "z = 2*x + 3*y\n",
        "\n",
        "#z기울기\n",
        "z.backward()\n",
        "#dz/da\n",
        "a.grad"
      ],
      "metadata": {
        "id": "kBfacfVe0rO_"
      },
      "execution_count": null,
      "outputs": []
    },
    {
      "cell_type": "markdown",
      "source": [
        "# MNIST 이미지 데이터셋"
      ],
      "metadata": {
        "id": "bFuPJSI_2_tY"
      }
    },
    {
      "cell_type": "markdown",
      "source": [
        "### 구글 드라이브 "
      ],
      "metadata": {
        "id": "DcW_ywU84D1s"
      }
    },
    {
      "cell_type": "code",
      "source": [
        "from google.colab import drive\n",
        "drive.mount('./mount')"
      ],
      "metadata": {
        "id": "VDXfV7Ux2_NO"
      },
      "execution_count": null,
      "outputs": []
    },
    {
      "cell_type": "markdown",
      "source": [
        "### 데이터 불러오기"
      ],
      "metadata": {
        "id": "6oR8kHT34G9u"
      }
    },
    {
      "cell_type": "code",
      "source": [
        "import pandas\n",
        "df = pandas.read_csv('/content/mount/MyDrive/ROBOTICS/GAN/mnist_train.csv',header=None)\n",
        "df.head()"
      ],
      "metadata": {
        "id": "DWsJA2Y24JSW"
      },
      "execution_count": null,
      "outputs": []
    },
    {
      "cell_type": "code",
      "source": [
        "df.info()"
      ],
      "metadata": {
        "id": "pkfet5VC9XX8"
      },
      "execution_count": null,
      "outputs": []
    },
    {
      "cell_type": "markdown",
      "source": [
        "### 이미지 확인을 위한 matplotlib"
      ],
      "metadata": {
        "id": "Ad4MyFmB4WMb"
      }
    },
    {
      "cell_type": "code",
      "source": [
        "import matplotlib.pyplot as plt\n",
        "\n",
        "# dataframe에서 data 가져오기\n",
        "row = 0\n",
        "data = df.iloc[row]\n",
        "\n",
        "# label가져오기\n",
        "label = data[0]\n",
        "\n",
        "# 784개 픽셀의 image data 보여주기\n",
        "img = data[1:].values.reshape(28,28)\n",
        "plt.title(\"label = \"+str(label))\n",
        "plt.imshow(img, interpolation='none', cmap='Blues')\n",
        "plt.show()"
      ],
      "metadata": {
        "id": "vx4sbW_m4USK"
      },
      "execution_count": null,
      "outputs": []
    },
    {
      "cell_type": "markdown",
      "source": [
        "### 간단한 신경망"
      ],
      "metadata": {
        "id": "bgBotv7j9iUn"
      }
    },
    {
      "cell_type": "markdown",
      "source": [
        "입력 레이어 : 784개의 노드 필요\n",
        "\n",
        "출력 레이어 : 10개의 노드 필요\n",
        "\n",
        "노드 간 연결 : 완전연결구조\n",
        "\n",
        "활성화 함수 : 로지스틱 함수\n",
        "\n",
        "모델 구조 : 1 -> 2 -> 3 -> 4\n",
        "1. 28*28(2차원)\n",
        "2. 784(1차원 입력층)\n",
        "3. 200(로지스틱 은닉층)\n",
        "4. 10(로지스틱 출력층)\n"
      ],
      "metadata": {
        "id": "HU8_96b89o7B"
      }
    },
    {
      "cell_type": "code",
      "source": [
        "import torch\n",
        "import torch.nn as nn\n",
        "class Classifier(nn.Module):\n",
        "  def __init__(self):\n",
        "    super().__init__() \n",
        "    self.model = nn.Sequential(\n",
        "        nn.Linear(784,200),\n",
        "        nn.LeakyReLU(0.02),\n",
        "        nn.LayerNorm(200),\n",
        "        nn.Linear(200,10),\n",
        "        nn.Sigmoid()\n",
        "    )\n",
        "    self.loss_function = nn.MSELoss() \n",
        "    self.optimiser = torch.optim.Adam(self.parameters())\n",
        "    self.counter = 0\n",
        "    pass\n",
        "\n",
        "  def forward(self,inputs):\n",
        "    return self.model(inputs)\n",
        "\n",
        "  def train(self, inputs, targets):\n",
        "    outputs = self.forward(inputs)\n",
        "    loss = self.loss_function(outputs, targets)\n",
        "\n",
        "    self.optimiser.zero_grad()\n",
        "    loss.backward()\n",
        "    self.optimiser.step()\n",
        "\n",
        "    self.counter += 1\n",
        "    if(self.counter%10==0):\n",
        "      self.progress.append(loss.item())\n",
        "      pass\n",
        "    \n",
        "    if(self.counter%10000==0):\n",
        "      print(\"counter = \",self.counter)\n",
        "      pass"
      ],
      "metadata": {
        "id": "Vcp3q11mE6P9"
      },
      "execution_count": null,
      "outputs": []
    },
    {
      "cell_type": "code",
      "source": [
        "import torch\n",
        "import torch.nn as nn\n",
        "# 어떤 신경망이든 torch.nn을 상속받아 클래스를 만들어야 함\n",
        "# 상속받으면 계산 그래프, 훈련 시 가중치 조정 과정 자동화\n",
        "\n",
        "class Classifier(nn.Module):\n",
        "  # 부모 클래스 초기화\n",
        "  # __init__(self)함수 : 객체가 처음 만들어질 때 호출되는 함수, 초기화 작업 = 생성자\n",
        "  # super()는 생성자 호출 + 객체 생성까지 도와줌\n",
        "  def __init__(self):\n",
        "    super().__init__() \n",
        "\n",
        "    # 신경망 레이어 정의 (순방향)\n",
        "    # 784노드 -> 200노드 -> 10 노드 구조\n",
        "    # Sigmoid 로지스틱 활성화 함수\n",
        "    # Linear는 선형 Ax+B 형태, A = weight, B = bias\n",
        "    self.model = nn.Sequential(\n",
        "        nn.Linear(784,200),\n",
        "        nn.LeakyReLU(0.02),\n",
        "        nn.LayerNorm(200),\n",
        "        nn.Linear(200,10),\n",
        "        nn.Sigmoid()\n",
        "    )\n",
        "\n",
        "    # 오차 정의 (역방향)\n",
        "    # MSE 평균제곱오차 : (실제-예측)**2으로 계산 -> torch.nn.MSELoss()\n",
        "    # SGD 확률적 경사 하강법 : 오차를 이용해 가중치 수정\n",
        "    # learning rate : 0.01\n",
        "    self.loss_function = nn.MSELoss() \n",
        "    self.optimiser = torch.optim.Adam(self.parameters())\n",
        "    # 훈련 과정 시각화를 위한 코드\n",
        "    self.counter = 0\n",
        "    self.progress = []\n",
        "    pass\n",
        "\n",
        "  def forward(self,inputs):\n",
        "      # 모델 실행 (순방향)\n",
        "    return self.model(inputs)\n",
        "\n",
        "  # train을 위한 메서드 생성\n",
        "  # 메서드에는 입력, 출력이 필요\n",
        "  def train(self, inputs, targets):\n",
        "    # 신경망 출력 계산\n",
        "    outputs = self.forward(inputs)\n",
        "    # 손실 계산\n",
        "    loss = self.loss_function(outputs, targets)\n",
        "\n",
        "    # weight 업데이트 과정\n",
        "    # 각 노드마다 오차 기울기 계산, 가중치 수정 과정 필요\n",
        "    self.optimiser.zero_grad() # 기울기 초기화 -> 모두 0으로 초기화\n",
        "    # 모두 0으로 초기화되지 않으면 loss.backward() 때마다 계산이 쌓임\n",
        "    loss.backward() # 역전파 실행 -> 손실함수 계산\n",
        "    self.optimiser.step() # 가중치 갱신\n",
        "\n",
        "    # 카운터를 증가시키며 10회마다 오차 저장\n",
        "    self.counter += 1\n",
        "    if(self.counter%10==0):\n",
        "      self.progress.append(loss.item()) # item은 텐서에서 값을 꺼내오는 함수\n",
        "      pass\n",
        "    # 10000번 훈련마다 훈련 횟수 출력\n",
        "    if(self.counter%10000==0):\n",
        "      print(\"counter = \",self.counter)\n",
        "      pass\n",
        "  \n",
        "  #훈련과정 그림으로 표현\n",
        "  def plot_progress(self):\n",
        "    df = pandas.DataFrame(self.progress, columns=['loss'])\n",
        "    df.plot(ylim=(0,1.0),figsize=(16,8),alpha=0.1,marker='.',grid=True,yticks=(0,0.25,0.5))\n",
        "    pass\n",
        "    # 1행은 차트로 나타내기 위해 손실값을 저장해둔 리스트를 데이터프레임으로 변환\n",
        "    # 2행은 plot()함수로 여러 스타일과 디자인 지정"
      ],
      "metadata": {
        "id": "cG-sHnQk9gYK"
      },
      "execution_count": null,
      "outputs": []
    },
    {
      "cell_type": "markdown",
      "source": [
        "### torch로 데이터셋 불러오기"
      ],
      "metadata": {
        "id": "jALw9t3BhHnz"
      }
    },
    {
      "cell_type": "code",
      "source": [
        "from torch.utils.data import Dataset\n",
        "# Dataset 클래승서 데이터셋 상속받기 위해 2개의 특수 메서드 구현 필요\n",
        "# __len__() : 데이터셋 길이 반환\n",
        "# __getitem__() : 데이터셋의 n번째 아이템 반환\n",
        "class MnistDataset(Dataset):\n",
        "  def __init__(self,csv_file):\n",
        "    self.data_df = pandas.read_csv(csv_file, header=None)\n",
        "    pass\n",
        "\n",
        "  def __len__(self):\n",
        "    return len(self.data_df)\n",
        "\n",
        "  def __getitem__(self,index):\n",
        "    #이미지 레이블\n",
        "    label = self.data_df.iloc[index,0]\n",
        "    target = torch.zeros((10))\n",
        "    target[label] = 1.0\n",
        "    #1의 경우 [0,1,0,0,0,0,0,0,0,0] -> 원핫 인코딩 됨\n",
        "\n",
        "    #normalization\n",
        "    image_values = torch.FloatTensor(self.data_df.iloc[index,1:].values)/255.0\n",
        "\n",
        "    #레이블, 이미지데이터 텐서, 레이블 텐서 반환\n",
        "    return label, image_values, target\n",
        "\n",
        "  def plot_image(self, index):\n",
        "    img = self.data_df.iloc[index,1:].values.reshape(28,28)\n",
        "    plt.title(\"label = \"+str(self.data_df.iloc[index,0]))\n",
        "    plt.imshow(img, interpolation='none', cmap='Blues')\n",
        "    pass\n",
        "  pass"
      ],
      "metadata": {
        "id": "sKA7pvH8etzY"
      },
      "execution_count": null,
      "outputs": []
    },
    {
      "cell_type": "code",
      "source": [
        "mnist_dataset = MnistDataset('/content/mount/MyDrive/ROBOTICS/GAN/mnist_train.csv')"
      ],
      "metadata": {
        "id": "n7S9vuiXg1qb"
      },
      "execution_count": null,
      "outputs": []
    },
    {
      "cell_type": "code",
      "source": [
        "mnist_dataset.plot_image(9)"
      ],
      "metadata": {
        "id": "ha2gMvg9g_IF"
      },
      "execution_count": null,
      "outputs": []
    },
    {
      "cell_type": "markdown",
      "source": [
        "### 신경망 훈련시키기 MNIST"
      ],
      "metadata": {
        "id": "RaK5I0UkhPUQ"
      }
    },
    {
      "cell_type": "code",
      "source": [
        "import matplotlib.pyplot as plt\n",
        "import time"
      ],
      "metadata": {
        "id": "MUz8zEhWnQvR"
      },
      "execution_count": null,
      "outputs": []
    },
    {
      "cell_type": "code",
      "source": [
        "#시간 얼마 걸렸는지 (훈련)\n",
        "%%time\n",
        "\n",
        "# 위에서 만든 신경망 call\n",
        "C = Classifier()\n",
        "\n",
        "# MNIST 데이터 훈련 진행\n",
        "# mnist_dataset이 파이토치의 Dataset으로부터 상속받기 떄문에 for 반복문으로 훈련 데이터 처리 가능\n",
        "epochs = 3\n",
        "\n",
        "for i in range(epochs):\n",
        "  print('traning epoch',i+1,\"of\",epochs)\n",
        "  for label, image_data_tensor, target_tensor in mnist_dataset:\n",
        "    C.train(image_data_tensor, target_tensor)\n",
        "    pass\n",
        "  pass"
      ],
      "metadata": {
        "id": "aB7qhTPBhPmH"
      },
      "execution_count": null,
      "outputs": []
    },
    {
      "cell_type": "markdown",
      "source": [
        "### 오차 출력"
      ],
      "metadata": {
        "id": "JCNYlDRtiqop"
      }
    },
    {
      "cell_type": "code",
      "source": [
        "C.plot_progress()"
      ],
      "metadata": {
        "id": "SP6ettQNihyD"
      },
      "execution_count": null,
      "outputs": []
    },
    {
      "cell_type": "markdown",
      "source": [
        "### 신경망 테스트"
      ],
      "metadata": {
        "id": "78wzmFK1jf9G"
      }
    },
    {
      "cell_type": "code",
      "source": [
        "mnist_test_dataset = MnistDataset('/content/mount/MyDrive/ROBOTICS/GAN/mnist_test.csv')\n",
        "\n",
        "# 인덱스가 19인 이미지\n",
        "record = 19\n",
        "\n",
        "# 이미지, 정답 출력\n",
        "mnist_test_dataset.plot_image(record)"
      ],
      "metadata": {
        "id": "RZscbiPsjhyZ"
      },
      "execution_count": null,
      "outputs": []
    },
    {
      "cell_type": "code",
      "source": [
        "# 19 레코드의 이미지 픽섹 값을 추출해 image_data에 저장\n",
        "image_data = mnist_test_dataset[record][1]\n",
        "# forward 함수를 통해 전달\n",
        "output = C.forward(image_data)\n",
        "# output을 단순한 넘파이 행렬로 변환 후 다시 데이터프레임으로 래핑하여 막대도표로 표현\n",
        "pandas.DataFrame(output.detach().numpy()).plot(kind='bar',legend=False,ylim=(0,1))"
      ],
      "metadata": {
        "id": "jpmHAMX1kPET"
      },
      "execution_count": null,
      "outputs": []
    },
    {
      "cell_type": "markdown",
      "source": [
        "### 신경망 정확도"
      ],
      "metadata": {
        "id": "s-jCNvstlU_v"
      }
    },
    {
      "cell_type": "code",
      "source": [
        "score = 0\n",
        "items = 0\n",
        "\n",
        "for label, image_data_tensor, target_tensor in mnist_test_dataset:\n",
        "  answer = C.forward(image_data_tensor).detach().numpy()\n",
        "  if(answer.argmax() == label):\n",
        "    score += 1\n",
        "    pass\n",
        "  items += 1\n",
        "  pass\n",
        "print(score, items, \"정학도 : \",score/items*100)"
      ],
      "metadata": {
        "id": "HqOmRInGlYI5"
      },
      "execution_count": null,
      "outputs": []
    },
    {
      "cell_type": "markdown",
      "source": [
        "### 회귀 vs 분류"
      ],
      "metadata": {
        "id": "fXu_FZ4pp3iL"
      }
    },
    {
      "cell_type": "code",
      "source": [
        "# 손실함수를 회귀 문제의 경우 : MSELoss() / 분류 문제의 경우 : BCELoss()\n",
        "# 활성화 함수의 경우 기울기 소멸의 문제 : Sigmoid -> ReLU (0보다 작을 때 기울기 소실 문제) -> LeakyReLU(a)"
      ],
      "metadata": {
        "id": "xL8uEMUhp3iS"
      },
      "execution_count": null,
      "outputs": []
    },
    {
      "cell_type": "markdown",
      "source": [
        "### 옵티마이저"
      ],
      "metadata": {
        "id": "VQImWok0p76X"
      }
    },
    {
      "cell_type": "code",
      "source": [
        "# SGD(확률적 경사 하강법) : 국소 최적해에 빠질 확률이 높다, 모든 학습 파라미터에 단일한 학습률을 적용해버린다\n",
        "#   self.optimiser = torch.optim.SGD(self.parameters)\n",
        "# Adam : 국소 최적해로 빠질 가능성 줄임, 모든 학습 파라미터에 대해 각각 다른 학습률을 적용하여 상황에 따라 수정\n",
        "#   self.optimiser = torch.optim.Adam(self.parameters)"
      ],
      "metadata": {
        "id": "0adhMEJMp9p4"
      },
      "execution_count": null,
      "outputs": []
    },
    {
      "cell_type": "markdown",
      "source": [
        "### 정규화\n",
        "\n",
        "파라미터의 범위를 줄여, 0-1사이의 값으로 만들어줌\n",
        "\n",
        "신경망 레이어 설정 -> nn.LayerNorm(200)"
      ],
      "metadata": {
        "id": "L5NVaUqSq1dy"
      }
    },
    {
      "cell_type": "markdown",
      "source": [
        "# CUDA 기초"
      ],
      "metadata": {
        "id": "jGCLfYjiw8_0"
      }
    },
    {
      "cell_type": "markdown",
      "source": [
        "### numpy vs torch 행렬 계산 속도"
      ],
      "metadata": {
        "id": "KIL3qVptxFPk"
      }
    },
    {
      "cell_type": "markdown",
      "source": [
        "넘파이가 순수 행렬곱 계산보다 훨씬 빠르다"
      ],
      "metadata": {
        "id": "7RTPiw6ly_cK"
      }
    },
    {
      "cell_type": "markdown",
      "source": [
        "### 엔비디아 CUDA"
      ],
      "metadata": {
        "id": "5iZ7S30DzHUi"
      }
    },
    {
      "cell_type": "markdown",
      "source": [
        "#### ::CPU:: (중앙처리장치)\n",
        "\n",
        "- 컴퓨터의 대부분의 연산 처리\n",
        "\n",
        "- 범용적으로 여러 가지 일 처리 가능\n",
        "\n",
        "#### ::GPU:: (그래픽 처리 장치)\n",
        "\n",
        "- 특정한 작업만 처리 가능\n",
        "\n",
        "- 단순 계산 같은 병렬 행력곱 처리에 특화\n",
        "\n",
        "#### ::CPU vs GPU::\n",
        "\n",
        "- 연산 양이 어마어마 하다면,\n",
        "\n",
        "- CPU는 2-16 코어 할당하여 하나하나 계산\n",
        "\n",
        "- GPU는 천개 이상의 연산 코어 존재, 많은 연산이 쪼개져 병렬로 계산\n",
        "\n",
        "#### 엔비디아\n",
        "\n",
        "- 강력한 하드웨어 가속 기능을 갖춘, 머신러닝 연구에 표준적인 소프트웨어 툴 제공\n",
        "- 소프트웨어 프레임워크 : CUDA\n",
        "- CUDA는 GPU에서만 동작함"
      ],
      "metadata": {
        "id": "rU-kLmwbzJbc"
      }
    },
    {
      "cell_type": "markdown",
      "source": [
        "### CUDA GPU로 계산"
      ],
      "metadata": {
        "id": "wRug2vV502B9"
      }
    },
    {
      "cell_type": "code",
      "source": [
        "import torch\n",
        "x = torch.cuda.FloatTensor([3.5])\n",
        "x.type()"
      ],
      "metadata": {
        "id": "2pVSdzVPxEjF"
      },
      "execution_count": null,
      "outputs": []
    },
    {
      "cell_type": "code",
      "source": [
        "x.device"
      ],
      "metadata": {
        "id": "q8lgdr1l0xWd"
      },
      "execution_count": null,
      "outputs": []
    },
    {
      "cell_type": "code",
      "source": [
        "y = x*x\n",
        "y"
      ],
      "metadata": {
        "id": "AwvzoNoX0zXY"
      },
      "execution_count": null,
      "outputs": []
    },
    {
      "cell_type": "code",
      "source": [
        "import numpy\n",
        "size = 600\n",
        "a = numpy.random.rand(size,size)\n",
        "b = numpy.random.rand(size,size)\n",
        "aa = torch.cuda.FloatTensor(a)\n",
        "bb = torch.cuda.FloatTensor(b)\n",
        "cc = torch.matmul(aa,bb)\n",
        "cc"
      ],
      "metadata": {
        "id": "Ry-eKV3A07vw"
      },
      "execution_count": null,
      "outputs": []
    },
    {
      "cell_type": "markdown",
      "source": [
        "### CUDA 가 사용 가능한지 확인"
      ],
      "metadata": {
        "id": "xnQuyOYb1mJS"
      }
    },
    {
      "cell_type": "code",
      "source": [
        "if torch.cuda.is_available():\n",
        "  torch.set_default_tensor_type(torch.cuda.FloatTensor)\n",
        "  print(\"using cuda:\", torch.cuda.get_device_name(0))\n",
        "  pass\n",
        "device = torch.device(\"cuda\" if torch.cuda.is_available() else \"cpu\")\n",
        "device"
      ],
      "metadata": {
        "id": "eJsRNWiJ1pvT"
      },
      "execution_count": null,
      "outputs": []
    }
  ]
}