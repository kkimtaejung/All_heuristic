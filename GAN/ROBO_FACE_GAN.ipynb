{
  "nbformat": 4,
  "nbformat_minor": 0,
  "metadata": {
    "colab": {
      "private_outputs": true,
      "provenance": [],
      "collapsed_sections": [
        "JR8GtOeN9E3c",
        "s6TuRvZ39Sft",
        "D0ayePAA-cAo",
        "aRNkBz7iBoTD",
        "X8ruEYsrDLbH",
        "9LRVqS4vHDvf",
        "sHyej9MEHl6Y",
        "9xssIV78ICs9",
        "0bCNQfepI_77"
      ],
      "authorship_tag": "ABX9TyOeWHkPt7gyRYLtMDZCG6/h",
      "include_colab_link": true
    },
    "kernelspec": {
      "name": "python3",
      "display_name": "Python 3"
    },
    "language_info": {
      "name": "python"
    },
    "accelerator": "GPU",
    "gpuClass": "standard"
  },
  "cells": [
    {
      "cell_type": "markdown",
      "metadata": {
        "id": "view-in-github",
        "colab_type": "text"
      },
      "source": [
        "<a href=\"https://colab.research.google.com/github/kkimtaejung/All_heuristic/blob/GAN/ROBO_FACE_GAN.ipynb\" target=\"_parent\"><img src=\"https://colab.research.google.com/assets/colab-badge.svg\" alt=\"Open In Colab\"/></a>"
      ]
    },
    {
      "cell_type": "markdown",
      "source": [
        "# 얼굴 이미지"
      ],
      "metadata": {
        "id": "53UaWKJnvO7f"
      }
    },
    {
      "cell_type": "markdown",
      "source": [
        "## 숫자와는 다른 문제점\n",
        "1. 컬러 이미지를 훈련하고, 컬러 이미지를 생성해야 한다.\n",
        "\n",
        "2. 사진의 훈련 데이터셋을 가지고 좀 더 다양하고 그럴듯한 결과를 얻어야 한다."
      ],
      "metadata": {
        "id": "_u7mUeZcvSox"
      }
    },
    {
      "cell_type": "markdown",
      "source": [
        "## 데이터셋 불러오기\n",
        "- 코드가 시작되고 끝날때까지만 유효한 데이터, 데이터양이 방대하여 빠르게 데이터셋을 이용하고자 h5py file을 이용하였다."
      ],
      "metadata": {
        "id": "JR8GtOeN9E3c"
      }
    },
    {
      "cell_type": "code",
      "execution_count": null,
      "metadata": {
        "id": "yluglMipu_g6"
      },
      "outputs": [],
      "source": [
        "\n",
        "# mount Drive to access data files\n",
        "\n",
        "from google.colab import drive\n",
        "drive.mount('./mount')"
      ]
    },
    {
      "cell_type": "code",
      "source": [
        "import h5py\n",
        "import zipfile\n",
        "import imageio\n",
        "import os\n",
        "# location of the HDF5 package, yours may be under /gan/ not /myo_gan/\n",
        "hdf5_file = 'ROBO.h5py'\n",
        "\n",
        "# how many of the 202,599 images to extract and package into HDF5\n",
        "total_images = 20000\n",
        "\n",
        "with h5py.File(hdf5_file, 'w') as hf:\n",
        "\n",
        "    count = 0\n",
        "\n",
        "    with zipfile.ZipFile('/content/mount/MyDrive/ROBOTICS/img_align_celeba.zip', 'r') as zf:\n",
        "      for i in zf.namelist():\n",
        "        if (i[-4:] == '.jpg'):\n",
        "          # extract image\n",
        "          ofile = zf.extract(i)\n",
        "          img = imageio.imread(ofile)\n",
        "          os.remove(ofile)\n",
        "\n",
        "          # add image data to HDF5 file with new name\n",
        "          hf.create_dataset('img_align_celeba/'+str(count)+'.jpg', data=img, compression=\"gzip\", compression_opts=9)\n",
        "          \n",
        "          count = count + 1\n",
        "          if (count%1000 == 0):\n",
        "            print(\"images done .. \", count)\n",
        "            pass\n",
        "            \n",
        "          # stop when total_images reached\n",
        "          if (count == total_images):\n",
        "            break\n",
        "          pass\n",
        "\n",
        "        pass\n",
        "      pass"
      ],
      "metadata": {
        "id": "xoUyJB7H0qn6"
      },
      "execution_count": null,
      "outputs": []
    },
    {
      "cell_type": "markdown",
      "source": [
        "## 데이터 살펴보기"
      ],
      "metadata": {
        "id": "s6TuRvZ39Sft"
      }
    },
    {
      "cell_type": "code",
      "source": [
        "# 정말 사람의 이미지를 담고 있을까?\n",
        "import numpy as np\n",
        "import matplotlib.pyplot as plt\n",
        "with h5py.File('/content/ROBO.h5py','r') as file_object:\n",
        "  dataset = file_object['img_align_celeba']\n",
        "  image = np.array(dataset['7.jpg'])\n",
        "  plt.imshow(image, interpolation='none')\n",
        "  pass"
      ],
      "metadata": {
        "id": "HiF0Kt_t9YUx"
      },
      "execution_count": null,
      "outputs": []
    },
    {
      "cell_type": "code",
      "source": [
        "# 넘파이 행렬로 변환된 이미지의 형태, 색 정보를 확인해보자!\n",
        "image.shape"
      ],
      "metadata": {
        "id": "-NZqxj9u-IqL"
      },
      "execution_count": null,
      "outputs": []
    },
    {
      "cell_type": "markdown",
      "source": [
        "높이 218 너비 178 rgb 3\n",
        "\n",
        "총 3개의 레이어 확인 가능"
      ],
      "metadata": {
        "id": "NmEMexq1-UtQ"
      }
    },
    {
      "cell_type": "markdown",
      "source": [
        "## 데이터셋 클래스"
      ],
      "metadata": {
        "id": "D0ayePAA-cAo"
      }
    },
    {
      "cell_type": "code",
      "source": [
        "import torch\n",
        "import torch.nn as nn\n",
        "from torch.utils.data import Dataset\n",
        "import pandas, numpy, random\n",
        "import matplotlib.pyplot as plt\n",
        "from torch.utils.data import Dataset\n",
        "\n",
        "class CelebADataset(Dataset):\n",
        "  # HDF5 파일을 열고, img_align_celeba로 각각의 이미지에 접근 가능하게 하는 __init__ 생성자\n",
        "  def __init__(self,file):\n",
        "    self.file_object = h5py.File(file, 'r')\n",
        "    self.dataset = self.file_object['img_align_celeba']\n",
        "    pass\n",
        "\n",
        "  def __len__(self):\n",
        "    return len(self.dataset)\n",
        "\n",
        "  # index를 이미지의 이름으로 변환, 이미지 데이터르 반환하는 기능\n",
        "  # 정규화도 마쳐서 return\n",
        "  # if문은 인덱스가 실제 데이터셋의 아이템 수보다 많은지 확인, 많으면 IndexError 예외 발생\n",
        "  # 예외 발생시키는 이유는, HDF5에서는 범위 벗어나는 요청을 하면 그냥 오류가 발생하기 때문에 예외 처리함\n",
        "  def __getitem__(self,index):    \n",
        "    if(index>=len(self.dataset)):\n",
        "      raise IndexError()\n",
        "    img = numpy.array(self.dataset[str(index)+'.jpg'])\n",
        "    return torch.cuda.FloatTensor(img)/255.0\n",
        "\n",
        "  def plot_image(self, index):\n",
        "    plt.imshow(numpy.array(self.dataset[str(index)+'.jpg']), interpolation='nearest')\n",
        "    pass\n",
        "  pass"
      ],
      "metadata": {
        "id": "vFDO66nZ-hPr"
      },
      "execution_count": null,
      "outputs": []
    },
    {
      "cell_type": "code",
      "source": [
        "# Dataset 객체 생성\n",
        "celeba_dataset = CelebADataset('/content/ROBO.h5py')\n",
        "\n",
        "# 데이터 확인\n",
        "celeba_dataset.plot_image(43)"
      ],
      "metadata": {
        "id": "kovVD1wDBUQG"
      },
      "execution_count": null,
      "outputs": []
    },
    {
      "cell_type": "markdown",
      "source": [
        "## 판별기"
      ],
      "metadata": {
        "id": "aRNkBz7iBoTD"
      }
    },
    {
      "cell_type": "markdown",
      "source": [
        "MNIST와 다른점은, 색깔과 크기 정보다.\n",
        "\n",
        "하나의 이미지는 218 x 178 x 3 = 116,412 개의 노드가 필요\n",
        "\n",
        "116,412 노드를 -> 1차원 텐서로 바꾸고 -> 완전연결 신경망에 투입"
      ],
      "metadata": {
        "id": "3GPoGP63Br1f"
      }
    },
    {
      "cell_type": "markdown",
      "source": [
        "::랜덤시드::"
      ],
      "metadata": {
        "id": "E6q2wQqgDfDe"
      }
    },
    {
      "cell_type": "code",
      "source": [
        "def generate_random_image(size):\n",
        "  random_data = torch.rand(size)\n",
        "  return random_data\n",
        "def generate_random_seed(size):\n",
        "  random_data = torch.randn(size)\n",
        "  return random_data"
      ],
      "metadata": {
        "id": "HHkAdV45Deuk"
      },
      "execution_count": null,
      "outputs": []
    },
    {
      "cell_type": "markdown",
      "source": [
        "::View 클래스 생성::\n",
        "\n",
        "3차원 이미지 텐서를 -> 1차원 이미지 텐서로 바꿔주는 역할"
      ],
      "metadata": {
        "id": "PKbvpbUrC46u"
      }
    },
    {
      "cell_type": "code",
      "source": [
        "class View(nn.Module):\n",
        "    def __init__(self, shape):\n",
        "        super().__init__()\n",
        "        self.shape = shape,\n",
        "\n",
        "    def forward(self, x):\n",
        "        return x.view(*self.shape)"
      ],
      "metadata": {
        "id": "lPsDEahQDCEA"
      },
      "execution_count": null,
      "outputs": []
    },
    {
      "cell_type": "code",
      "source": [
        "class Discriminator(nn.Module):\n",
        "  def __init__(self):\n",
        "    # 파이토치 부모 클래스 초기화\n",
        "    super().__init__()\n",
        "\n",
        "    # 신경망 레이어 정의\n",
        "    self.model = nn.Sequential(\n",
        "        View(218*178*3),\n",
        "        nn.Linear(218*178*3,100),\n",
        "        nn.LeakyReLU(0.02),\n",
        "        nn.LayerNorm(100),\n",
        "        nn.Linear(100,1),\n",
        "        nn.Sigmoid())\n",
        "    # 구조 :: node4 -> node3(로지스틱) -> node1(로지스틱) -> 1 or 0\n",
        "\n",
        "    # 손실함수 설정\n",
        "    self.loss_function = nn.BCELoss()\n",
        "\n",
        "    # SGD 옵티마이저 설정\n",
        "    self.optimiser = torch.optim.Adam(self.parameters(), lr = 0.01)\n",
        "\n",
        "    # 진행 측정을 위한 변수 초기화\n",
        "    self.counter = 0\n",
        "    self.progress = []\n",
        "    pass\n",
        "  \n",
        "  # 순전파 과정\n",
        "  def forward(self, inputs):\n",
        "    # 모델 실행\n",
        "    return self.model(inputs)\n",
        "\n",
        "  # 훈련 과정\n",
        "  def train(self,inputs,targets):\n",
        "    #신경망 출력 계산\n",
        "    outputs = self.forward(inputs)\n",
        "\n",
        "    #손실 계산\n",
        "    loss = self.loss_function(outputs,targets)\n",
        "\n",
        "    #카운터를 증가시키고 10회마다 오차 저장\n",
        "    self.counter +=1\n",
        "    if(self.counter%10==0):\n",
        "      self.progress.append(loss.item())\n",
        "      pass\n",
        "    if(self.counter%10000==0):\n",
        "      print(\"counter = \",self.counter)\n",
        "      pass\n",
        "    \n",
        "    #기울기 초기화하고 역전파 후 가중치 갱신\n",
        "    self.optimiser.zero_grad()\n",
        "    loss.backward()\n",
        "    self.optimiser.step()\n",
        "    pass\n",
        "  \n",
        "  # 시각화\n",
        "  def plot_progress(self):\n",
        "    df = pandas.DataFrame(self.progress, columns=['loss'])\n",
        "    df.plot(ylim=(0,1.0), figsize=(16,8), alpha=0.1, marker='.', grid=True, yticks=(0,0.25,0.5))\n",
        "    pass"
      ],
      "metadata": {
        "id": "AHpJZKdOCFzJ"
      },
      "execution_count": null,
      "outputs": []
    },
    {
      "cell_type": "markdown",
      "source": [
        "## 판별기 테스트하기"
      ],
      "metadata": {
        "id": "X8ruEYsrDLbH"
      }
    },
    {
      "cell_type": "markdown",
      "source": [
        "일단 GPU 부터 설정하기"
      ],
      "metadata": {
        "id": "ytHp9at6FEKs"
      }
    },
    {
      "cell_type": "code",
      "source": [
        "import torch\n",
        "import torchvision\n",
        "!pip install --upgrade torch torchvision"
      ],
      "metadata": {
        "id": "LdejanX9FpD_"
      },
      "execution_count": null,
      "outputs": []
    },
    {
      "cell_type": "code",
      "source": [
        "import torch\n",
        "import torchvision\n",
        "if torch.cuda.is_available():\n",
        "  torch.set_default_tensor_type(torch.cuda.FloatTensor)\n",
        "  print(\"using cuda: \", torch.cuda.get_device_name(0))\n",
        "  pass\n",
        "device = torch.device(\"cuda\" if torch.cuda.is_available() else \"cpu\")\n",
        "device"
      ],
      "metadata": {
        "id": "AkdFtlV3FDvG"
      },
      "execution_count": null,
      "outputs": []
    },
    {
      "cell_type": "code",
      "source": [
        "# 판별기가 실제 데이터와 임의 노이즈 구별이 가능한지\n",
        "D=Discriminator()\n",
        "D.to(device)\n",
        "\n",
        "for image_data_tensor in celeba_dataset:\n",
        "  # 실제 데이터\n",
        "  D.train(image_data_tensor, torch.cuda.FloatTensor([1.0]))\n",
        "  # 생성된 데이터\n",
        "  D.train(generate_random_image((218,178,3)), torch.cuda.FloatTensor([0.0]))\n",
        "  pass"
      ],
      "metadata": {
        "id": "ebbG1vPiDNwg"
      },
      "execution_count": null,
      "outputs": []
    },
    {
      "cell_type": "code",
      "source": [
        "D.plot_progress()"
      ],
      "metadata": {
        "id": "P_Dt6N6uGixZ"
      },
      "execution_count": null,
      "outputs": []
    },
    {
      "cell_type": "markdown",
      "source": [
        "## 생성기"
      ],
      "metadata": {
        "id": "9LRVqS4vHDvf"
      }
    },
    {
      "cell_type": "code",
      "source": [
        "class Generator(nn.Module):\n",
        "  def __init__(self):\n",
        "    # 파이토치 부모 클래스 초기화\n",
        "    super().__init__()\n",
        "\n",
        "    # 신경망 레이어 정의\n",
        "    self.model = nn.Sequential(\n",
        "        nn.Linear(100,3*10*10),\n",
        "        nn.LeakyReLU(0.02),\n",
        "        nn.LayerNorm(3*10*10),\n",
        "        nn.Linear(3*10*10,3*218*178),\n",
        "        nn.Sigmoid(),\n",
        "        View((218,178,3)))\n",
        "    # 구조 :: node1 -> node3(로지스틱) -> node4(로지스틱)\n",
        "\n",
        "    # 손실함수 없음 -> 오직 판별기에만 필요\n",
        "    # 판별기의 흘러들어온 기울기 오차 -> 생성기 업데이트\n",
        "\n",
        "    # SGD 옵티마이저 설정\n",
        "    self.optimiser = torch.optim.Adam(self.parameters(), lr = 0.01)\n",
        "\n",
        "    # 진행 측정을 위한 변수 초기화\n",
        "    self.counter = 0\n",
        "    self.progress = []\n",
        "    pass\n",
        "  \n",
        "  # 순전파 과정\n",
        "  def forward(self, inputs):\n",
        "    # 모델 실행\n",
        "    return self.model(inputs)\n",
        "\n",
        "  # 훈련 과정\n",
        "  def train(self,D,inputs,targets):\n",
        "    #신경망 출력 계산\n",
        "    g_output = self.forward(inputs)\n",
        "\n",
        "    #판별기로 전달\n",
        "    d_output = D.forward(g_output)\n",
        "\n",
        "    #오차 계산\n",
        "    loss = D.loss_function(d_output,targets)\n",
        "\n",
        "    #카운터를 증가시키고 10회마다 오차 저장\n",
        "    self.counter +=1\n",
        "    if(self.counter%10==0):\n",
        "      self.progress.append(loss.item())\n",
        "      pass\n",
        "    \n",
        "    #기울기 초기화하고 역전파 후 가중치 갱신\n",
        "    self.optimiser.zero_grad()\n",
        "    loss.backward()\n",
        "    self.optimiser.step()\n",
        "    pass\n",
        "# ::train::\n",
        "# 입력값이 생성기의 forward로 전달됨\n",
        "# 생성기의 출력 g_output은 D.forward를 통해 판별기로 전달되어 d_output을 출력함\n",
        "# 손실 = |d_output - 정답| -> 차이값으로 계산\n",
        "# 손실로부터 오류역전파 되어 생성기로 전달되어 생성기의 optimiser로 전달됨\n",
        "# 이러면 생성기만 업데이트됨\n",
        "\n",
        "  # 시각화\n",
        "  def plot_progress(self):\n",
        "    df = pandas.DataFrame(self.progress, columns=['loss'])\n",
        "    df.plot(ylim=(0,1.0), figsize=(16,8), alpha=0.1, marker='.', grid=True, yticks=(0,0.25,0.5))\n",
        "    pass"
      ],
      "metadata": {
        "id": "34YqJYT_HI0N"
      },
      "execution_count": null,
      "outputs": []
    },
    {
      "cell_type": "markdown",
      "source": [
        "## 생성기 결과 확인"
      ],
      "metadata": {
        "id": "sHyej9MEHl6Y"
      }
    },
    {
      "cell_type": "code",
      "source": [
        "G = Generator()\n",
        "# 모델을 CUDA에 배치\n",
        "G.to(device)\n",
        "output = G.forward(generate_random_seed(100))\n",
        "img = output.detach().cpu().numpy()\n",
        "plt.imshow(img, interpolation='none', cmap='Blues')"
      ],
      "metadata": {
        "id": "7_u9dNxdHnRf"
      },
      "execution_count": null,
      "outputs": []
    },
    {
      "cell_type": "markdown",
      "source": [
        "## GAN 훈련"
      ],
      "metadata": {
        "id": "9xssIV78ICs9"
      }
    },
    {
      "cell_type": "code",
      "source": [
        "D = Discriminator()\n",
        "D.to(device)\n",
        "G = Generator()\n",
        "G.to(device)\n",
        "\n",
        "epochs = 1\n",
        "for i in range(epochs):\n",
        "  for image_data_tensor in celeba_dataset:\n",
        "    # 1단계 : 참에 대해 판별기 훈련\n",
        "    D.train(image_data_tensor, torch.cuda.FloatTensor([1.0]))\n",
        "    # 2단계 : 거짓에 대해 판별기 훈련, \n",
        "    # 생성기의 기울기가 수정되지 않도록 detach()함수 이용, \n",
        "    # detach()로 선택된 것은 그 함수에서 제외됨\n",
        "    D.train(G.forward(generate_random_seed(100)).detach(), torch.cuda.FloatTensor([0.0]))\n",
        "    # 3단계 : 생성기 훈련\n",
        "    G.train(D, generate_random_seed(100), torch.cuda.FloatTensor([1.0]))"
      ],
      "metadata": {
        "id": "6J3H4tnCIEu6"
      },
      "execution_count": null,
      "outputs": []
    },
    {
      "cell_type": "markdown",
      "source": [
        "## 결과 시각화"
      ],
      "metadata": {
        "id": "0bCNQfepI_77"
      }
    },
    {
      "cell_type": "code",
      "source": [
        "D.plot_progress()"
      ],
      "metadata": {
        "id": "I6EDO8HNIhiY"
      },
      "execution_count": null,
      "outputs": []
    },
    {
      "cell_type": "code",
      "source": [
        "G.plot_progress()"
      ],
      "metadata": {
        "id": "knYMpMMsIuLt"
      },
      "execution_count": null,
      "outputs": []
    },
    {
      "cell_type": "code",
      "source": [
        "f, axarr = plt.subplots(2,3,figsize=(16,8))\n",
        "for i in range(2):\n",
        "  for j in range(3):\n",
        "    output = G.forward(generate_random_seed(100))\n",
        "    img = output.detach().cpu().numpy()\n",
        "    axarr[i,j].imshow(img, interpolation='none', cmap='Blues')\n",
        "    pass\n",
        "  pass"
      ],
      "metadata": {
        "id": "DaOjkZVoIw06"
      },
      "execution_count": null,
      "outputs": []
    },
    {
      "cell_type": "markdown",
      "source": [
        "# 190pg"
      ],
      "metadata": {
        "id": "Z0nVngA9JS_I"
      }
    }
  ]
}